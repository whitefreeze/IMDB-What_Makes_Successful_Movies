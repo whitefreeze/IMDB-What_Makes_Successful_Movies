{
 "cells": [
  {
   "cell_type": "markdown",
   "id": "151bb591",
   "metadata": {},
   "source": [
    "# IMDB: What Makes Successful Movies?"
   ]
  },
  {
   "cell_type": "markdown",
   "id": "99117a55",
   "metadata": {},
   "source": [
    "## Import Packages"
   ]
  },
  {
   "cell_type": "code",
   "execution_count": 229,
   "id": "0d6783f6",
   "metadata": {},
   "outputs": [],
   "source": [
    "## Pandas\n",
    "import pandas as pd\n",
    "## Numpy\n",
    "import numpy as np"
   ]
  },
  {
   "cell_type": "markdown",
   "id": "c37da6f0",
   "metadata": {},
   "source": [
    "## Load Data"
   ]
  },
  {
   "cell_type": "code",
   "execution_count": 230,
   "id": "7c6ca614",
   "metadata": {},
   "outputs": [],
   "source": [
    "## Load Data from three specific files\n",
    "\n",
    "# title.basics.tsv.gz\n",
    "basics_url = \"https://datasets.imdbws.com/title.basics.tsv.gz\"\n",
    "basics = pd.read_csv(basics_url, sep='\\t', low_memory=False)\n",
    "\n",
    "# title.ratings.tsv.gz\n",
    "ratings_url = \"https://datasets.imdbws.com/title.ratings.tsv.gz\"\n",
    "ratings = pd.read_csv(ratings_url, sep='\\t', low_memory=False)\n",
    "\n",
    "# title.akas.tsv.gz\n",
    "akas_url = \"https://datasets.imdbws.com/title.akas.tsv.gz\"\n",
    "akas = pd.read_csv(akas_url, sep='\\t', low_memory=False)"
   ]
  },
  {
   "cell_type": "code",
   "execution_count": 231,
   "id": "fe2ce140",
   "metadata": {},
   "outputs": [],
   "source": [
    "# Save Data copy to local disk\n",
    "basics.to_csv('Data/basics.csv.gz', compression = 'gzip', index=False)\n",
    "ratings.to_csv('Data/ratings.csv.gz', compression = 'gzip', index=False)\n",
    "akas.to_csv('Data/akas.csv.gz', compression = 'gzip', index=False)"
   ]
  },
  {
   "cell_type": "code",
   "execution_count": 232,
   "id": "d425d41b",
   "metadata": {},
   "outputs": [],
   "source": [
    "# Use files from local disk now, instead\n",
    "basics = pd.read_csv(\"Data/basics.csv.gz\", low_memory = False)\n",
    "ratings = pd.read_csv(\"Data/ratings.csv.gz\", low_memory = False)\n",
    "akas = pd.read_csv(\"Data/akas.csv.gz\", low_memory = False)"
   ]
  },
  {
   "cell_type": "code",
   "execution_count": 233,
   "id": "ec5cb3d5",
   "metadata": {},
   "outputs": [
    {
     "data": {
      "text/html": [
       "<div>\n",
       "<style scoped>\n",
       "    .dataframe tbody tr th:only-of-type {\n",
       "        vertical-align: middle;\n",
       "    }\n",
       "\n",
       "    .dataframe tbody tr th {\n",
       "        vertical-align: top;\n",
       "    }\n",
       "\n",
       "    .dataframe thead th {\n",
       "        text-align: right;\n",
       "    }\n",
       "</style>\n",
       "<table border=\"1\" class=\"dataframe\">\n",
       "  <thead>\n",
       "    <tr style=\"text-align: right;\">\n",
       "      <th></th>\n",
       "      <th>tconst</th>\n",
       "      <th>titleType</th>\n",
       "      <th>primaryTitle</th>\n",
       "      <th>originalTitle</th>\n",
       "      <th>isAdult</th>\n",
       "      <th>startYear</th>\n",
       "      <th>endYear</th>\n",
       "      <th>runtimeMinutes</th>\n",
       "      <th>genres</th>\n",
       "    </tr>\n",
       "  </thead>\n",
       "  <tbody>\n",
       "    <tr>\n",
       "      <th>0</th>\n",
       "      <td>tt0000001</td>\n",
       "      <td>short</td>\n",
       "      <td>Carmencita</td>\n",
       "      <td>Carmencita</td>\n",
       "      <td>0</td>\n",
       "      <td>1894</td>\n",
       "      <td>\\N</td>\n",
       "      <td>1</td>\n",
       "      <td>Documentary,Short</td>\n",
       "    </tr>\n",
       "    <tr>\n",
       "      <th>1</th>\n",
       "      <td>tt0000002</td>\n",
       "      <td>short</td>\n",
       "      <td>Le clown et ses chiens</td>\n",
       "      <td>Le clown et ses chiens</td>\n",
       "      <td>0</td>\n",
       "      <td>1892</td>\n",
       "      <td>\\N</td>\n",
       "      <td>5</td>\n",
       "      <td>Animation,Short</td>\n",
       "    </tr>\n",
       "    <tr>\n",
       "      <th>2</th>\n",
       "      <td>tt0000003</td>\n",
       "      <td>short</td>\n",
       "      <td>Pauvre Pierrot</td>\n",
       "      <td>Pauvre Pierrot</td>\n",
       "      <td>0</td>\n",
       "      <td>1892</td>\n",
       "      <td>\\N</td>\n",
       "      <td>4</td>\n",
       "      <td>Animation,Comedy,Romance</td>\n",
       "    </tr>\n",
       "  </tbody>\n",
       "</table>\n",
       "</div>"
      ],
      "text/plain": [
       "      tconst titleType            primaryTitle           originalTitle  \\\n",
       "0  tt0000001     short              Carmencita              Carmencita   \n",
       "1  tt0000002     short  Le clown et ses chiens  Le clown et ses chiens   \n",
       "2  tt0000003     short          Pauvre Pierrot          Pauvre Pierrot   \n",
       "\n",
       "  isAdult startYear endYear runtimeMinutes                    genres  \n",
       "0       0      1894      \\N              1         Documentary,Short  \n",
       "1       0      1892      \\N              5           Animation,Short  \n",
       "2       0      1892      \\N              4  Animation,Comedy,Romance  "
      ]
     },
     "execution_count": 233,
     "metadata": {},
     "output_type": "execute_result"
    }
   ],
   "source": [
    "basics.head(3)"
   ]
  },
  {
   "cell_type": "code",
   "execution_count": 234,
   "id": "482d6276",
   "metadata": {},
   "outputs": [
    {
     "data": {
      "text/html": [
       "<div>\n",
       "<style scoped>\n",
       "    .dataframe tbody tr th:only-of-type {\n",
       "        vertical-align: middle;\n",
       "    }\n",
       "\n",
       "    .dataframe tbody tr th {\n",
       "        vertical-align: top;\n",
       "    }\n",
       "\n",
       "    .dataframe thead th {\n",
       "        text-align: right;\n",
       "    }\n",
       "</style>\n",
       "<table border=\"1\" class=\"dataframe\">\n",
       "  <thead>\n",
       "    <tr style=\"text-align: right;\">\n",
       "      <th></th>\n",
       "      <th>tconst</th>\n",
       "      <th>averageRating</th>\n",
       "      <th>numVotes</th>\n",
       "    </tr>\n",
       "  </thead>\n",
       "  <tbody>\n",
       "    <tr>\n",
       "      <th>0</th>\n",
       "      <td>tt0000001</td>\n",
       "      <td>5.7</td>\n",
       "      <td>1983</td>\n",
       "    </tr>\n",
       "    <tr>\n",
       "      <th>1</th>\n",
       "      <td>tt0000002</td>\n",
       "      <td>5.8</td>\n",
       "      <td>265</td>\n",
       "    </tr>\n",
       "    <tr>\n",
       "      <th>2</th>\n",
       "      <td>tt0000003</td>\n",
       "      <td>6.5</td>\n",
       "      <td>1839</td>\n",
       "    </tr>\n",
       "  </tbody>\n",
       "</table>\n",
       "</div>"
      ],
      "text/plain": [
       "      tconst  averageRating  numVotes\n",
       "0  tt0000001            5.7      1983\n",
       "1  tt0000002            5.8       265\n",
       "2  tt0000003            6.5      1839"
      ]
     },
     "execution_count": 234,
     "metadata": {},
     "output_type": "execute_result"
    }
   ],
   "source": [
    "ratings.head(3)"
   ]
  },
  {
   "cell_type": "code",
   "execution_count": 235,
   "id": "0979b173",
   "metadata": {
    "scrolled": true
   },
   "outputs": [
    {
     "data": {
      "text/html": [
       "<div>\n",
       "<style scoped>\n",
       "    .dataframe tbody tr th:only-of-type {\n",
       "        vertical-align: middle;\n",
       "    }\n",
       "\n",
       "    .dataframe tbody tr th {\n",
       "        vertical-align: top;\n",
       "    }\n",
       "\n",
       "    .dataframe thead th {\n",
       "        text-align: right;\n",
       "    }\n",
       "</style>\n",
       "<table border=\"1\" class=\"dataframe\">\n",
       "  <thead>\n",
       "    <tr style=\"text-align: right;\">\n",
       "      <th></th>\n",
       "      <th>titleId</th>\n",
       "      <th>ordering</th>\n",
       "      <th>title</th>\n",
       "      <th>region</th>\n",
       "      <th>language</th>\n",
       "      <th>types</th>\n",
       "      <th>attributes</th>\n",
       "      <th>isOriginalTitle</th>\n",
       "    </tr>\n",
       "  </thead>\n",
       "  <tbody>\n",
       "    <tr>\n",
       "      <th>0</th>\n",
       "      <td>tt0000001</td>\n",
       "      <td>1</td>\n",
       "      <td>Карменсіта</td>\n",
       "      <td>UA</td>\n",
       "      <td>\\N</td>\n",
       "      <td>imdbDisplay</td>\n",
       "      <td>\\N</td>\n",
       "      <td>0</td>\n",
       "    </tr>\n",
       "    <tr>\n",
       "      <th>1</th>\n",
       "      <td>tt0000001</td>\n",
       "      <td>2</td>\n",
       "      <td>Carmencita</td>\n",
       "      <td>DE</td>\n",
       "      <td>\\N</td>\n",
       "      <td>\\N</td>\n",
       "      <td>literal title</td>\n",
       "      <td>0</td>\n",
       "    </tr>\n",
       "    <tr>\n",
       "      <th>2</th>\n",
       "      <td>tt0000001</td>\n",
       "      <td>3</td>\n",
       "      <td>Carmencita - spanyol tánc</td>\n",
       "      <td>HU</td>\n",
       "      <td>\\N</td>\n",
       "      <td>imdbDisplay</td>\n",
       "      <td>\\N</td>\n",
       "      <td>0</td>\n",
       "    </tr>\n",
       "  </tbody>\n",
       "</table>\n",
       "</div>"
      ],
      "text/plain": [
       "     titleId  ordering                      title region language  \\\n",
       "0  tt0000001         1                 Карменсіта     UA       \\N   \n",
       "1  tt0000001         2                 Carmencita     DE       \\N   \n",
       "2  tt0000001         3  Carmencita - spanyol tánc     HU       \\N   \n",
       "\n",
       "         types     attributes isOriginalTitle  \n",
       "0  imdbDisplay             \\N               0  \n",
       "1           \\N  literal title               0  \n",
       "2  imdbDisplay             \\N               0  "
      ]
     },
     "execution_count": 235,
     "metadata": {},
     "output_type": "execute_result"
    }
   ],
   "source": [
    "akas.head(3)"
   ]
  },
  {
   "cell_type": "code",
   "execution_count": 236,
   "id": "ab66cc51",
   "metadata": {},
   "outputs": [],
   "source": [
    "basics_copy = basics"
   ]
  },
  {
   "cell_type": "code",
   "execution_count": 237,
   "id": "64eab880",
   "metadata": {},
   "outputs": [],
   "source": [
    "ratings_copy = ratings"
   ]
  },
  {
   "cell_type": "code",
   "execution_count": 238,
   "id": "65dcb47b",
   "metadata": {},
   "outputs": [],
   "source": [
    "akas_copy = akas"
   ]
  },
  {
   "cell_type": "code",
   "execution_count": 239,
   "id": "b88c23c9",
   "metadata": {},
   "outputs": [],
   "source": [
    "# Restore original copy of data due to error in processing\n",
    "ratings = ratings_copy\n",
    "akas = akas_copy"
   ]
  },
  {
   "cell_type": "code",
   "execution_count": 240,
   "id": "cc78e449",
   "metadata": {},
   "outputs": [],
   "source": [
    "# Restore original copy of data due to error in processing\n",
    "basics = basics_copy"
   ]
  },
  {
   "cell_type": "markdown",
   "id": "af876354",
   "metadata": {},
   "source": [
    "## Data Cleaning"
   ]
  },
  {
   "cell_type": "markdown",
   "id": "38a5e9fa",
   "metadata": {},
   "source": [
    "### Remove '\\N' values\n",
    "\n",
    "'\\N' is the null value used that needs to be removed."
   ]
  },
  {
   "cell_type": "markdown",
   "id": "f1ae1030",
   "metadata": {},
   "source": [
    "#### akas df"
   ]
  },
  {
   "cell_type": "code",
   "execution_count": 241,
   "id": "351f10a8",
   "metadata": {},
   "outputs": [
    {
     "data": {
      "text/plain": [
       "\\N    6653810\n",
       "ja    4225929\n",
       "fr    4196752\n",
       "hi    4163775\n",
       "es    4132689\n",
       "       ...   \n",
       "sq          1\n",
       "jv          1\n",
       "su          1\n",
       "rm          1\n",
       "cr          1\n",
       "Name: language, Length: 108, dtype: int64"
      ]
     },
     "execution_count": 241,
     "metadata": {},
     "output_type": "execute_result"
    }
   ],
   "source": [
    "akas['language'].value_counts()"
   ]
  },
  {
   "cell_type": "code",
   "execution_count": 242,
   "id": "c98626fc",
   "metadata": {},
   "outputs": [
    {
     "data": {
      "text/html": [
       "<div>\n",
       "<style scoped>\n",
       "    .dataframe tbody tr th:only-of-type {\n",
       "        vertical-align: middle;\n",
       "    }\n",
       "\n",
       "    .dataframe tbody tr th {\n",
       "        vertical-align: top;\n",
       "    }\n",
       "\n",
       "    .dataframe thead th {\n",
       "        text-align: right;\n",
       "    }\n",
       "</style>\n",
       "<table border=\"1\" class=\"dataframe\">\n",
       "  <thead>\n",
       "    <tr style=\"text-align: right;\">\n",
       "      <th></th>\n",
       "      <th>titleId</th>\n",
       "      <th>ordering</th>\n",
       "      <th>title</th>\n",
       "      <th>region</th>\n",
       "      <th>language</th>\n",
       "      <th>types</th>\n",
       "      <th>attributes</th>\n",
       "      <th>isOriginalTitle</th>\n",
       "    </tr>\n",
       "  </thead>\n",
       "  <tbody>\n",
       "    <tr>\n",
       "      <th>0</th>\n",
       "      <td>False</td>\n",
       "      <td>False</td>\n",
       "      <td>False</td>\n",
       "      <td>False</td>\n",
       "      <td>True</td>\n",
       "      <td>False</td>\n",
       "      <td>True</td>\n",
       "      <td>False</td>\n",
       "    </tr>\n",
       "    <tr>\n",
       "      <th>1</th>\n",
       "      <td>False</td>\n",
       "      <td>False</td>\n",
       "      <td>False</td>\n",
       "      <td>False</td>\n",
       "      <td>True</td>\n",
       "      <td>True</td>\n",
       "      <td>False</td>\n",
       "      <td>False</td>\n",
       "    </tr>\n",
       "    <tr>\n",
       "      <th>2</th>\n",
       "      <td>False</td>\n",
       "      <td>False</td>\n",
       "      <td>False</td>\n",
       "      <td>False</td>\n",
       "      <td>True</td>\n",
       "      <td>False</td>\n",
       "      <td>True</td>\n",
       "      <td>False</td>\n",
       "    </tr>\n",
       "    <tr>\n",
       "      <th>3</th>\n",
       "      <td>False</td>\n",
       "      <td>False</td>\n",
       "      <td>False</td>\n",
       "      <td>False</td>\n",
       "      <td>True</td>\n",
       "      <td>False</td>\n",
       "      <td>True</td>\n",
       "      <td>False</td>\n",
       "    </tr>\n",
       "    <tr>\n",
       "      <th>4</th>\n",
       "      <td>False</td>\n",
       "      <td>False</td>\n",
       "      <td>False</td>\n",
       "      <td>False</td>\n",
       "      <td>True</td>\n",
       "      <td>False</td>\n",
       "      <td>True</td>\n",
       "      <td>False</td>\n",
       "    </tr>\n",
       "    <tr>\n",
       "      <th>...</th>\n",
       "      <td>...</td>\n",
       "      <td>...</td>\n",
       "      <td>...</td>\n",
       "      <td>...</td>\n",
       "      <td>...</td>\n",
       "      <td>...</td>\n",
       "      <td>...</td>\n",
       "      <td>...</td>\n",
       "    </tr>\n",
       "    <tr>\n",
       "      <th>36425028</th>\n",
       "      <td>False</td>\n",
       "      <td>False</td>\n",
       "      <td>False</td>\n",
       "      <td>False</td>\n",
       "      <td>False</td>\n",
       "      <td>True</td>\n",
       "      <td>True</td>\n",
       "      <td>False</td>\n",
       "    </tr>\n",
       "    <tr>\n",
       "      <th>36425029</th>\n",
       "      <td>False</td>\n",
       "      <td>False</td>\n",
       "      <td>False</td>\n",
       "      <td>False</td>\n",
       "      <td>False</td>\n",
       "      <td>True</td>\n",
       "      <td>True</td>\n",
       "      <td>False</td>\n",
       "    </tr>\n",
       "    <tr>\n",
       "      <th>36425030</th>\n",
       "      <td>False</td>\n",
       "      <td>False</td>\n",
       "      <td>False</td>\n",
       "      <td>False</td>\n",
       "      <td>False</td>\n",
       "      <td>True</td>\n",
       "      <td>True</td>\n",
       "      <td>False</td>\n",
       "    </tr>\n",
       "    <tr>\n",
       "      <th>36425031</th>\n",
       "      <td>False</td>\n",
       "      <td>False</td>\n",
       "      <td>False</td>\n",
       "      <td>False</td>\n",
       "      <td>True</td>\n",
       "      <td>False</td>\n",
       "      <td>True</td>\n",
       "      <td>False</td>\n",
       "    </tr>\n",
       "    <tr>\n",
       "      <th>36425032</th>\n",
       "      <td>False</td>\n",
       "      <td>False</td>\n",
       "      <td>False</td>\n",
       "      <td>True</td>\n",
       "      <td>True</td>\n",
       "      <td>False</td>\n",
       "      <td>True</td>\n",
       "      <td>False</td>\n",
       "    </tr>\n",
       "  </tbody>\n",
       "</table>\n",
       "<p>36425033 rows × 8 columns</p>\n",
       "</div>"
      ],
      "text/plain": [
       "          titleId  ordering  title  region  language  types  attributes  \\\n",
       "0           False     False  False   False      True  False        True   \n",
       "1           False     False  False   False      True   True       False   \n",
       "2           False     False  False   False      True  False        True   \n",
       "3           False     False  False   False      True  False        True   \n",
       "4           False     False  False   False      True  False        True   \n",
       "...           ...       ...    ...     ...       ...    ...         ...   \n",
       "36425028    False     False  False   False     False   True        True   \n",
       "36425029    False     False  False   False     False   True        True   \n",
       "36425030    False     False  False   False     False   True        True   \n",
       "36425031    False     False  False   False      True  False        True   \n",
       "36425032    False     False  False    True      True  False        True   \n",
       "\n",
       "          isOriginalTitle  \n",
       "0                   False  \n",
       "1                   False  \n",
       "2                   False  \n",
       "3                   False  \n",
       "4                   False  \n",
       "...                   ...  \n",
       "36425028            False  \n",
       "36425029            False  \n",
       "36425030            False  \n",
       "36425031            False  \n",
       "36425032            False  \n",
       "\n",
       "[36425033 rows x 8 columns]"
      ]
     },
     "execution_count": 242,
     "metadata": {},
     "output_type": "execute_result"
    }
   ],
   "source": [
    "# see if a working filter can be found for '\\N'\n",
    "filter_akas = akas == '\\\\N'\n",
    "filter_akas"
   ]
  },
  {
   "cell_type": "code",
   "execution_count": 243,
   "id": "bbc0c028",
   "metadata": {},
   "outputs": [
    {
     "data": {
      "text/html": [
       "<div>\n",
       "<style scoped>\n",
       "    .dataframe tbody tr th:only-of-type {\n",
       "        vertical-align: middle;\n",
       "    }\n",
       "\n",
       "    .dataframe tbody tr th {\n",
       "        vertical-align: top;\n",
       "    }\n",
       "\n",
       "    .dataframe thead th {\n",
       "        text-align: right;\n",
       "    }\n",
       "</style>\n",
       "<table border=\"1\" class=\"dataframe\">\n",
       "  <thead>\n",
       "    <tr style=\"text-align: right;\">\n",
       "      <th></th>\n",
       "      <th>titleId</th>\n",
       "      <th>ordering</th>\n",
       "      <th>title</th>\n",
       "      <th>region</th>\n",
       "      <th>language</th>\n",
       "      <th>types</th>\n",
       "      <th>attributes</th>\n",
       "      <th>isOriginalTitle</th>\n",
       "    </tr>\n",
       "  </thead>\n",
       "  <tbody>\n",
       "    <tr>\n",
       "      <th>False</th>\n",
       "      <td>36425033.0</td>\n",
       "      <td>36425033.0</td>\n",
       "      <td>36425033.0</td>\n",
       "      <td>34529923</td>\n",
       "      <td>29771223</td>\n",
       "      <td>5598462</td>\n",
       "      <td>261989</td>\n",
       "      <td>36422955</td>\n",
       "    </tr>\n",
       "    <tr>\n",
       "      <th>True</th>\n",
       "      <td>NaN</td>\n",
       "      <td>NaN</td>\n",
       "      <td>NaN</td>\n",
       "      <td>1895110</td>\n",
       "      <td>6653810</td>\n",
       "      <td>30826571</td>\n",
       "      <td>36163044</td>\n",
       "      <td>2078</td>\n",
       "    </tr>\n",
       "  </tbody>\n",
       "</table>\n",
       "</div>"
      ],
      "text/plain": [
       "          titleId    ordering       title    region  language     types  \\\n",
       "False  36425033.0  36425033.0  36425033.0  34529923  29771223   5598462   \n",
       "True          NaN         NaN         NaN   1895110   6653810  30826571   \n",
       "\n",
       "       attributes  isOriginalTitle  \n",
       "False      261989         36422955  \n",
       "True     36163044             2078  "
      ]
     },
     "execution_count": 243,
     "metadata": {},
     "output_type": "execute_result"
    }
   ],
   "source": [
    "# count the number of '\\N' values (returned as 'True') in df\n",
    "filter_akas.apply(pd.Series.value_counts)"
   ]
  },
  {
   "cell_type": "code",
   "execution_count": 244,
   "id": "a6e68318",
   "metadata": {},
   "outputs": [],
   "source": [
    "# replace all '\\N' values with NaN\n",
    "akas = akas.replace({'\\\\N':np.nan})"
   ]
  },
  {
   "cell_type": "code",
   "execution_count": 245,
   "id": "9eb1adc0",
   "metadata": {},
   "outputs": [
    {
     "data": {
      "text/html": [
       "<div>\n",
       "<style scoped>\n",
       "    .dataframe tbody tr th:only-of-type {\n",
       "        vertical-align: middle;\n",
       "    }\n",
       "\n",
       "    .dataframe tbody tr th {\n",
       "        vertical-align: top;\n",
       "    }\n",
       "\n",
       "    .dataframe thead th {\n",
       "        text-align: right;\n",
       "    }\n",
       "</style>\n",
       "<table border=\"1\" class=\"dataframe\">\n",
       "  <thead>\n",
       "    <tr style=\"text-align: right;\">\n",
       "      <th></th>\n",
       "      <th>titleId</th>\n",
       "      <th>ordering</th>\n",
       "      <th>title</th>\n",
       "      <th>region</th>\n",
       "      <th>language</th>\n",
       "      <th>types</th>\n",
       "      <th>attributes</th>\n",
       "      <th>isOriginalTitle</th>\n",
       "    </tr>\n",
       "  </thead>\n",
       "  <tbody>\n",
       "    <tr>\n",
       "      <th>False</th>\n",
       "      <td>36425033.0</td>\n",
       "      <td>36425033.0</td>\n",
       "      <td>36425033.0</td>\n",
       "      <td>34529923</td>\n",
       "      <td>29771223</td>\n",
       "      <td>5598462</td>\n",
       "      <td>261989</td>\n",
       "      <td>36422955</td>\n",
       "    </tr>\n",
       "    <tr>\n",
       "      <th>True</th>\n",
       "      <td>NaN</td>\n",
       "      <td>NaN</td>\n",
       "      <td>NaN</td>\n",
       "      <td>1895110</td>\n",
       "      <td>6653810</td>\n",
       "      <td>30826571</td>\n",
       "      <td>36163044</td>\n",
       "      <td>2078</td>\n",
       "    </tr>\n",
       "  </tbody>\n",
       "</table>\n",
       "</div>"
      ],
      "text/plain": [
       "          titleId    ordering       title    region  language     types  \\\n",
       "False  36425033.0  36425033.0  36425033.0  34529923  29771223   5598462   \n",
       "True          NaN         NaN         NaN   1895110   6653810  30826571   \n",
       "\n",
       "       attributes  isOriginalTitle  \n",
       "False      261989         36422955  \n",
       "True     36163044             2078  "
      ]
     },
     "execution_count": 245,
     "metadata": {},
     "output_type": "execute_result"
    }
   ],
   "source": [
    "# Verify that all '\\N' values have been replace with Nan: no 'True' values\n",
    "filter_akas.apply(pd.Series.value_counts)"
   ]
  },
  {
   "cell_type": "code",
   "execution_count": 246,
   "id": "f291a632",
   "metadata": {},
   "outputs": [
    {
     "data": {
      "text/html": [
       "<div>\n",
       "<style scoped>\n",
       "    .dataframe tbody tr th:only-of-type {\n",
       "        vertical-align: middle;\n",
       "    }\n",
       "\n",
       "    .dataframe tbody tr th {\n",
       "        vertical-align: top;\n",
       "    }\n",
       "\n",
       "    .dataframe thead th {\n",
       "        text-align: right;\n",
       "    }\n",
       "</style>\n",
       "<table border=\"1\" class=\"dataframe\">\n",
       "  <thead>\n",
       "    <tr style=\"text-align: right;\">\n",
       "      <th></th>\n",
       "      <th>titleId</th>\n",
       "      <th>ordering</th>\n",
       "      <th>title</th>\n",
       "      <th>region</th>\n",
       "      <th>language</th>\n",
       "      <th>types</th>\n",
       "      <th>attributes</th>\n",
       "      <th>isOriginalTitle</th>\n",
       "    </tr>\n",
       "  </thead>\n",
       "  <tbody>\n",
       "    <tr>\n",
       "      <th>0</th>\n",
       "      <td>False</td>\n",
       "      <td>False</td>\n",
       "      <td>False</td>\n",
       "      <td>False</td>\n",
       "      <td>False</td>\n",
       "      <td>False</td>\n",
       "      <td>False</td>\n",
       "      <td>False</td>\n",
       "    </tr>\n",
       "    <tr>\n",
       "      <th>1</th>\n",
       "      <td>False</td>\n",
       "      <td>False</td>\n",
       "      <td>False</td>\n",
       "      <td>False</td>\n",
       "      <td>False</td>\n",
       "      <td>False</td>\n",
       "      <td>False</td>\n",
       "      <td>False</td>\n",
       "    </tr>\n",
       "    <tr>\n",
       "      <th>2</th>\n",
       "      <td>False</td>\n",
       "      <td>False</td>\n",
       "      <td>False</td>\n",
       "      <td>False</td>\n",
       "      <td>False</td>\n",
       "      <td>False</td>\n",
       "      <td>False</td>\n",
       "      <td>False</td>\n",
       "    </tr>\n",
       "    <tr>\n",
       "      <th>3</th>\n",
       "      <td>False</td>\n",
       "      <td>False</td>\n",
       "      <td>False</td>\n",
       "      <td>False</td>\n",
       "      <td>False</td>\n",
       "      <td>False</td>\n",
       "      <td>False</td>\n",
       "      <td>False</td>\n",
       "    </tr>\n",
       "    <tr>\n",
       "      <th>4</th>\n",
       "      <td>False</td>\n",
       "      <td>False</td>\n",
       "      <td>False</td>\n",
       "      <td>False</td>\n",
       "      <td>False</td>\n",
       "      <td>False</td>\n",
       "      <td>False</td>\n",
       "      <td>False</td>\n",
       "    </tr>\n",
       "    <tr>\n",
       "      <th>...</th>\n",
       "      <td>...</td>\n",
       "      <td>...</td>\n",
       "      <td>...</td>\n",
       "      <td>...</td>\n",
       "      <td>...</td>\n",
       "      <td>...</td>\n",
       "      <td>...</td>\n",
       "      <td>...</td>\n",
       "    </tr>\n",
       "    <tr>\n",
       "      <th>36425028</th>\n",
       "      <td>False</td>\n",
       "      <td>False</td>\n",
       "      <td>False</td>\n",
       "      <td>False</td>\n",
       "      <td>False</td>\n",
       "      <td>False</td>\n",
       "      <td>False</td>\n",
       "      <td>False</td>\n",
       "    </tr>\n",
       "    <tr>\n",
       "      <th>36425029</th>\n",
       "      <td>False</td>\n",
       "      <td>False</td>\n",
       "      <td>False</td>\n",
       "      <td>False</td>\n",
       "      <td>False</td>\n",
       "      <td>False</td>\n",
       "      <td>False</td>\n",
       "      <td>False</td>\n",
       "    </tr>\n",
       "    <tr>\n",
       "      <th>36425030</th>\n",
       "      <td>False</td>\n",
       "      <td>False</td>\n",
       "      <td>False</td>\n",
       "      <td>False</td>\n",
       "      <td>False</td>\n",
       "      <td>False</td>\n",
       "      <td>False</td>\n",
       "      <td>False</td>\n",
       "    </tr>\n",
       "    <tr>\n",
       "      <th>36425031</th>\n",
       "      <td>False</td>\n",
       "      <td>False</td>\n",
       "      <td>False</td>\n",
       "      <td>False</td>\n",
       "      <td>False</td>\n",
       "      <td>False</td>\n",
       "      <td>False</td>\n",
       "      <td>False</td>\n",
       "    </tr>\n",
       "    <tr>\n",
       "      <th>36425032</th>\n",
       "      <td>False</td>\n",
       "      <td>False</td>\n",
       "      <td>False</td>\n",
       "      <td>False</td>\n",
       "      <td>False</td>\n",
       "      <td>False</td>\n",
       "      <td>False</td>\n",
       "      <td>False</td>\n",
       "    </tr>\n",
       "  </tbody>\n",
       "</table>\n",
       "<p>36425033 rows × 8 columns</p>\n",
       "</div>"
      ],
      "text/plain": [
       "          titleId  ordering  title  region  language  types  attributes  \\\n",
       "0           False     False  False   False     False  False       False   \n",
       "1           False     False  False   False     False  False       False   \n",
       "2           False     False  False   False     False  False       False   \n",
       "3           False     False  False   False     False  False       False   \n",
       "4           False     False  False   False     False  False       False   \n",
       "...           ...       ...    ...     ...       ...    ...         ...   \n",
       "36425028    False     False  False   False     False  False       False   \n",
       "36425029    False     False  False   False     False  False       False   \n",
       "36425030    False     False  False   False     False  False       False   \n",
       "36425031    False     False  False   False     False  False       False   \n",
       "36425032    False     False  False   False     False  False       False   \n",
       "\n",
       "          isOriginalTitle  \n",
       "0                   False  \n",
       "1                   False  \n",
       "2                   False  \n",
       "3                   False  \n",
       "4                   False  \n",
       "...                   ...  \n",
       "36425028            False  \n",
       "36425029            False  \n",
       "36425030            False  \n",
       "36425031            False  \n",
       "36425032            False  \n",
       "\n",
       "[36425033 rows x 8 columns]"
      ]
     },
     "execution_count": 246,
     "metadata": {},
     "output_type": "execute_result"
    }
   ],
   "source": [
    "# Create updated df filter to see if any '\\N' values remain\n",
    "filter_akas_nan = akas == '\\\\N'\n",
    "filter_akas_nan"
   ]
  },
  {
   "cell_type": "code",
   "execution_count": 247,
   "id": "307a33fb",
   "metadata": {},
   "outputs": [
    {
     "data": {
      "text/html": [
       "<div>\n",
       "<style scoped>\n",
       "    .dataframe tbody tr th:only-of-type {\n",
       "        vertical-align: middle;\n",
       "    }\n",
       "\n",
       "    .dataframe tbody tr th {\n",
       "        vertical-align: top;\n",
       "    }\n",
       "\n",
       "    .dataframe thead th {\n",
       "        text-align: right;\n",
       "    }\n",
       "</style>\n",
       "<table border=\"1\" class=\"dataframe\">\n",
       "  <thead>\n",
       "    <tr style=\"text-align: right;\">\n",
       "      <th></th>\n",
       "      <th>titleId</th>\n",
       "      <th>ordering</th>\n",
       "      <th>title</th>\n",
       "      <th>region</th>\n",
       "      <th>language</th>\n",
       "      <th>types</th>\n",
       "      <th>attributes</th>\n",
       "      <th>isOriginalTitle</th>\n",
       "    </tr>\n",
       "  </thead>\n",
       "  <tbody>\n",
       "    <tr>\n",
       "      <th>False</th>\n",
       "      <td>36425033</td>\n",
       "      <td>36425033</td>\n",
       "      <td>36425033</td>\n",
       "      <td>36425033</td>\n",
       "      <td>36425033</td>\n",
       "      <td>36425033</td>\n",
       "      <td>36425033</td>\n",
       "      <td>36425033</td>\n",
       "    </tr>\n",
       "  </tbody>\n",
       "</table>\n",
       "</div>"
      ],
      "text/plain": [
       "        titleId  ordering     title    region  language     types  attributes  \\\n",
       "False  36425033  36425033  36425033  36425033  36425033  36425033    36425033   \n",
       "\n",
       "       isOriginalTitle  \n",
       "False         36425033  "
      ]
     },
     "execution_count": 247,
     "metadata": {},
     "output_type": "execute_result"
    }
   ],
   "source": [
    "# count the number of '\\N' values (returned as 'True') in df\n",
    "filter_akas_nan.apply(pd.Series.value_counts)"
   ]
  },
  {
   "cell_type": "markdown",
   "id": "a0f92996",
   "metadata": {},
   "source": [
    "All '\\N' values in 'akas' df have been removed.\n",
    "\n",
    "Repeat for 'ratings' and 'basics'"
   ]
  },
  {
   "cell_type": "markdown",
   "id": "a06e2793",
   "metadata": {},
   "source": [
    "#### ratings df"
   ]
  },
  {
   "cell_type": "code",
   "execution_count": 248,
   "id": "092fabee",
   "metadata": {},
   "outputs": [
    {
     "data": {
      "text/html": [
       "<div>\n",
       "<style scoped>\n",
       "    .dataframe tbody tr th:only-of-type {\n",
       "        vertical-align: middle;\n",
       "    }\n",
       "\n",
       "    .dataframe tbody tr th {\n",
       "        vertical-align: top;\n",
       "    }\n",
       "\n",
       "    .dataframe thead th {\n",
       "        text-align: right;\n",
       "    }\n",
       "</style>\n",
       "<table border=\"1\" class=\"dataframe\">\n",
       "  <thead>\n",
       "    <tr style=\"text-align: right;\">\n",
       "      <th></th>\n",
       "      <th>tconst</th>\n",
       "      <th>averageRating</th>\n",
       "      <th>numVotes</th>\n",
       "    </tr>\n",
       "  </thead>\n",
       "  <tbody>\n",
       "    <tr>\n",
       "      <th>False</th>\n",
       "      <td>1325919</td>\n",
       "      <td>1325919</td>\n",
       "      <td>1325919</td>\n",
       "    </tr>\n",
       "  </tbody>\n",
       "</table>\n",
       "</div>"
      ],
      "text/plain": [
       "        tconst  averageRating  numVotes\n",
       "False  1325919        1325919   1325919"
      ]
     },
     "execution_count": 248,
     "metadata": {},
     "output_type": "execute_result"
    }
   ],
   "source": [
    "# see if a working filter can be found for '\\N'\n",
    "filter_ratings = ratings == '\\\\N'\n",
    "\n",
    "# count the number of '\\N' values (returned as 'True') in df\n",
    "filter_ratings.apply(pd.Series.value_counts)"
   ]
  },
  {
   "cell_type": "markdown",
   "id": "446d4f73",
   "metadata": {},
   "source": [
    "No '\\N' values found in 'ratings' df"
   ]
  },
  {
   "cell_type": "markdown",
   "id": "18be21fd",
   "metadata": {},
   "source": [
    "#### basics df"
   ]
  },
  {
   "cell_type": "code",
   "execution_count": 249,
   "id": "13da3601",
   "metadata": {},
   "outputs": [
    {
     "data": {
      "text/html": [
       "<div>\n",
       "<style scoped>\n",
       "    .dataframe tbody tr th:only-of-type {\n",
       "        vertical-align: middle;\n",
       "    }\n",
       "\n",
       "    .dataframe tbody tr th {\n",
       "        vertical-align: top;\n",
       "    }\n",
       "\n",
       "    .dataframe thead th {\n",
       "        text-align: right;\n",
       "    }\n",
       "</style>\n",
       "<table border=\"1\" class=\"dataframe\">\n",
       "  <thead>\n",
       "    <tr style=\"text-align: right;\">\n",
       "      <th></th>\n",
       "      <th>tconst</th>\n",
       "      <th>titleType</th>\n",
       "      <th>primaryTitle</th>\n",
       "      <th>originalTitle</th>\n",
       "      <th>isAdult</th>\n",
       "      <th>startYear</th>\n",
       "      <th>endYear</th>\n",
       "      <th>runtimeMinutes</th>\n",
       "      <th>genres</th>\n",
       "    </tr>\n",
       "  </thead>\n",
       "  <tbody>\n",
       "    <tr>\n",
       "      <th>False</th>\n",
       "      <td>9974457.0</td>\n",
       "      <td>9974457.0</td>\n",
       "      <td>9974457.0</td>\n",
       "      <td>9974457.0</td>\n",
       "      <td>9974456</td>\n",
       "      <td>8629813</td>\n",
       "      <td>109386</td>\n",
       "      <td>2954807</td>\n",
       "      <td>9526486</td>\n",
       "    </tr>\n",
       "    <tr>\n",
       "      <th>True</th>\n",
       "      <td>NaN</td>\n",
       "      <td>NaN</td>\n",
       "      <td>NaN</td>\n",
       "      <td>NaN</td>\n",
       "      <td>1</td>\n",
       "      <td>1344644</td>\n",
       "      <td>9865071</td>\n",
       "      <td>7019650</td>\n",
       "      <td>447971</td>\n",
       "    </tr>\n",
       "  </tbody>\n",
       "</table>\n",
       "</div>"
      ],
      "text/plain": [
       "          tconst  titleType  primaryTitle  originalTitle  isAdult  startYear  \\\n",
       "False  9974457.0  9974457.0     9974457.0      9974457.0  9974456    8629813   \n",
       "True         NaN        NaN           NaN            NaN        1    1344644   \n",
       "\n",
       "       endYear  runtimeMinutes   genres  \n",
       "False   109386         2954807  9526486  \n",
       "True   9865071         7019650   447971  "
      ]
     },
     "execution_count": 249,
     "metadata": {},
     "output_type": "execute_result"
    }
   ],
   "source": [
    "# see if a working filter can be found for '\\N'\n",
    "filter_basics = basics == '\\\\N'\n",
    "\n",
    "# count the number of '\\N' values (returned as 'True') in df\n",
    "filter_basics.apply(pd.Series.value_counts)"
   ]
  },
  {
   "cell_type": "code",
   "execution_count": 250,
   "id": "63efc274",
   "metadata": {},
   "outputs": [
    {
     "data": {
      "text/html": [
       "<div>\n",
       "<style scoped>\n",
       "    .dataframe tbody tr th:only-of-type {\n",
       "        vertical-align: middle;\n",
       "    }\n",
       "\n",
       "    .dataframe tbody tr th {\n",
       "        vertical-align: top;\n",
       "    }\n",
       "\n",
       "    .dataframe thead th {\n",
       "        text-align: right;\n",
       "    }\n",
       "</style>\n",
       "<table border=\"1\" class=\"dataframe\">\n",
       "  <thead>\n",
       "    <tr style=\"text-align: right;\">\n",
       "      <th></th>\n",
       "      <th>tconst</th>\n",
       "      <th>titleType</th>\n",
       "      <th>primaryTitle</th>\n",
       "      <th>originalTitle</th>\n",
       "      <th>isAdult</th>\n",
       "      <th>startYear</th>\n",
       "      <th>endYear</th>\n",
       "      <th>runtimeMinutes</th>\n",
       "      <th>genres</th>\n",
       "    </tr>\n",
       "  </thead>\n",
       "  <tbody>\n",
       "    <tr>\n",
       "      <th>False</th>\n",
       "      <td>9974457.0</td>\n",
       "      <td>9974457.0</td>\n",
       "      <td>9974457.0</td>\n",
       "      <td>9974457.0</td>\n",
       "      <td>9974456</td>\n",
       "      <td>8629813</td>\n",
       "      <td>109386</td>\n",
       "      <td>2954807</td>\n",
       "      <td>9526486</td>\n",
       "    </tr>\n",
       "    <tr>\n",
       "      <th>True</th>\n",
       "      <td>NaN</td>\n",
       "      <td>NaN</td>\n",
       "      <td>NaN</td>\n",
       "      <td>NaN</td>\n",
       "      <td>1</td>\n",
       "      <td>1344644</td>\n",
       "      <td>9865071</td>\n",
       "      <td>7019650</td>\n",
       "      <td>447971</td>\n",
       "    </tr>\n",
       "  </tbody>\n",
       "</table>\n",
       "</div>"
      ],
      "text/plain": [
       "          tconst  titleType  primaryTitle  originalTitle  isAdult  startYear  \\\n",
       "False  9974457.0  9974457.0     9974457.0      9974457.0  9974456    8629813   \n",
       "True         NaN        NaN           NaN            NaN        1    1344644   \n",
       "\n",
       "       endYear  runtimeMinutes   genres  \n",
       "False   109386         2954807  9526486  \n",
       "True   9865071         7019650   447971  "
      ]
     },
     "execution_count": 250,
     "metadata": {},
     "output_type": "execute_result"
    }
   ],
   "source": [
    "# replace all '\\N' values with NaN\n",
    "basics = basics.replace({'\\\\N':np.nan})\n",
    "\n",
    "# Verify that all '\\N' values have been replace with Nan: no 'True' values\n",
    "filter_basics.apply(pd.Series.value_counts)"
   ]
  },
  {
   "cell_type": "code",
   "execution_count": 251,
   "id": "bef1aa9d",
   "metadata": {},
   "outputs": [
    {
     "data": {
      "text/html": [
       "<div>\n",
       "<style scoped>\n",
       "    .dataframe tbody tr th:only-of-type {\n",
       "        vertical-align: middle;\n",
       "    }\n",
       "\n",
       "    .dataframe tbody tr th {\n",
       "        vertical-align: top;\n",
       "    }\n",
       "\n",
       "    .dataframe thead th {\n",
       "        text-align: right;\n",
       "    }\n",
       "</style>\n",
       "<table border=\"1\" class=\"dataframe\">\n",
       "  <thead>\n",
       "    <tr style=\"text-align: right;\">\n",
       "      <th></th>\n",
       "      <th>tconst</th>\n",
       "      <th>titleType</th>\n",
       "      <th>primaryTitle</th>\n",
       "      <th>originalTitle</th>\n",
       "      <th>isAdult</th>\n",
       "      <th>startYear</th>\n",
       "      <th>endYear</th>\n",
       "      <th>runtimeMinutes</th>\n",
       "      <th>genres</th>\n",
       "    </tr>\n",
       "  </thead>\n",
       "  <tbody>\n",
       "    <tr>\n",
       "      <th>False</th>\n",
       "      <td>9974457</td>\n",
       "      <td>9974457</td>\n",
       "      <td>9974457</td>\n",
       "      <td>9974457</td>\n",
       "      <td>9974457</td>\n",
       "      <td>9974457</td>\n",
       "      <td>9974457</td>\n",
       "      <td>9974457</td>\n",
       "      <td>9974457</td>\n",
       "    </tr>\n",
       "  </tbody>\n",
       "</table>\n",
       "</div>"
      ],
      "text/plain": [
       "        tconst  titleType  primaryTitle  originalTitle  isAdult  startYear  \\\n",
       "False  9974457    9974457       9974457        9974457  9974457    9974457   \n",
       "\n",
       "       endYear  runtimeMinutes   genres  \n",
       "False  9974457         9974457  9974457  "
      ]
     },
     "execution_count": 251,
     "metadata": {},
     "output_type": "execute_result"
    }
   ],
   "source": [
    "# Create updated df filter to see if any '\\N' values remain\n",
    "filter_basics_nan = basics == '\\\\N'\n",
    "\n",
    "# count the number of '\\N' values (returned as 'True') in df\n",
    "filter_basics_nan.apply(pd.Series.value_counts)"
   ]
  },
  {
   "cell_type": "markdown",
   "id": "c0503f20",
   "metadata": {},
   "source": [
    "All '\\N' values in 'basics' df have been removed.\n",
    "\n",
    "All three dfs have been updated."
   ]
  },
  {
   "cell_type": "markdown",
   "id": "5152d76b",
   "metadata": {},
   "source": [
    "### Remove Movies w/ null runtimeMinutes\n",
    "\n",
    "in basics df"
   ]
  },
  {
   "cell_type": "code",
   "execution_count": 252,
   "id": "850ead6b",
   "metadata": {},
   "outputs": [
    {
     "data": {
      "text/plain": [
       "7019650"
      ]
     },
     "execution_count": 252,
     "metadata": {},
     "output_type": "execute_result"
    }
   ],
   "source": [
    "# Count number of movies with a null value for 'runtimeMinutes' column\n",
    "basics['runtimeMinutes'].isna().sum()"
   ]
  },
  {
   "cell_type": "code",
   "execution_count": 253,
   "id": "6654c3fd",
   "metadata": {},
   "outputs": [],
   "source": [
    "# Remove all movies with null values for 'runtimeMinutes'\n",
    "basics.dropna(subset = ['runtimeMinutes'], inplace = True)"
   ]
  },
  {
   "cell_type": "code",
   "execution_count": 254,
   "id": "a3fd33fa",
   "metadata": {},
   "outputs": [
    {
     "data": {
      "text/plain": [
       "0"
      ]
     },
     "execution_count": 254,
     "metadata": {},
     "output_type": "execute_result"
    }
   ],
   "source": [
    "# Verify movies with a null value for 'runtimeMinutes' have been removed\n",
    "basics['runtimeMinutes'].isna().sum()"
   ]
  },
  {
   "cell_type": "markdown",
   "id": "75f8617c",
   "metadata": {},
   "source": [
    "All null values removed from 'runtimeMinutes'"
   ]
  },
  {
   "cell_type": "markdown",
   "id": "b8adbcc3",
   "metadata": {},
   "source": [
    "### Remove Movies w/ null genre\n",
    "\n",
    "in basics df"
   ]
  },
  {
   "cell_type": "code",
   "execution_count": 255,
   "id": "61cddb16",
   "metadata": {
    "scrolled": true
   },
   "outputs": [
    {
     "data": {
      "text/plain": [
       "76802"
      ]
     },
     "execution_count": 255,
     "metadata": {},
     "output_type": "execute_result"
    }
   ],
   "source": [
    "# Count number of movies with a null value for 'genres' column\n",
    "basics['genres'].isna().sum()"
   ]
  },
  {
   "cell_type": "code",
   "execution_count": 256,
   "id": "036b5898",
   "metadata": {},
   "outputs": [],
   "source": [
    "# Remove all movies with null values for 'genres'\n",
    "basics.dropna(subset = ['genres'], inplace = True)"
   ]
  },
  {
   "cell_type": "code",
   "execution_count": 257,
   "id": "b1a9a577",
   "metadata": {},
   "outputs": [
    {
     "data": {
      "text/plain": [
       "0"
      ]
     },
     "execution_count": 257,
     "metadata": {},
     "output_type": "execute_result"
    }
   ],
   "source": [
    "# Verify movies with a null value for 'genres' have been removed\n",
    "basics['genres'].isna().sum()"
   ]
  },
  {
   "cell_type": "markdown",
   "id": "03271121",
   "metadata": {},
   "source": [
    "All null values removed from 'genres'"
   ]
  },
  {
   "cell_type": "markdown",
   "id": "c9a276e6",
   "metadata": {},
   "source": [
    "### Remove non Movies\n",
    "\n",
    "in basics df"
   ]
  },
  {
   "cell_type": "code",
   "execution_count": 258,
   "id": "93f13c5e",
   "metadata": {},
   "outputs": [
    {
     "data": {
      "text/plain": [
       "tvEpisode       1477481\n",
       "short            605932\n",
       "movie            384628\n",
       "video            181787\n",
       "tvMovie           92186\n",
       "tvSeries          91134\n",
       "tvSpecial         18433\n",
       "tvMiniSeries      17406\n",
       "tvShort            8694\n",
       "videoGame           324\n",
       "Name: titleType, dtype: int64"
      ]
     },
     "execution_count": 258,
     "metadata": {},
     "output_type": "execute_result"
    }
   ],
   "source": [
    "# Check current values for 'titleType'\n",
    "basics['titleType'].value_counts()"
   ]
  },
  {
   "cell_type": "code",
   "execution_count": 259,
   "id": "7cfc1030",
   "metadata": {},
   "outputs": [
    {
     "data": {
      "text/plain": [
       "movie    384628\n",
       "Name: titleType, dtype: int64"
      ]
     },
     "execution_count": 259,
     "metadata": {},
     "output_type": "execute_result"
    }
   ],
   "source": [
    "# Keep only movies\n",
    "basics = basics.loc[basics['titleType'] == 'movie']\n",
    "basics.titleType.value_counts()"
   ]
  },
  {
   "cell_type": "markdown",
   "id": "cb6d4426",
   "metadata": {},
   "source": [
    "Only movie titleType values remain"
   ]
  },
  {
   "cell_type": "markdown",
   "id": "3cf49c1c",
   "metadata": {},
   "source": [
    "### Remove Movies outside of 2000-2022\n",
    "\n",
    "in basics df"
   ]
  },
  {
   "cell_type": "code",
   "execution_count": 260,
   "id": "fd24b1b8",
   "metadata": {},
   "outputs": [
    {
     "data": {
      "text/plain": [
       "2017    14390\n",
       "2018    14361\n",
       "2019    14114\n",
       "2016    13979\n",
       "2015    13488\n",
       "        ...  \n",
       "1899        1\n",
       "1904        1\n",
       "1897        1\n",
       "1896        1\n",
       "1894        1\n",
       "Name: startYear, Length: 130, dtype: int64"
      ]
     },
     "execution_count": 260,
     "metadata": {},
     "output_type": "execute_result"
    }
   ],
   "source": [
    "# Check current values for 'startYear'\n",
    "basics['startYear'].value_counts()"
   ]
  },
  {
   "cell_type": "code",
   "execution_count": 261,
   "id": "4ca11e39",
   "metadata": {
    "scrolled": true
   },
   "outputs": [
    {
     "name": "stdout",
     "output_type": "stream",
     "text": [
      "<class 'pandas.core.series.Series'>\n",
      "Int64Index: 384628 entries, 8 to 9974407\n",
      "Series name: startYear\n",
      "Non-Null Count   Dtype \n",
      "--------------   ----- \n",
      "378108 non-null  object\n",
      "dtypes: object(1)\n",
      "memory usage: 5.9+ MB\n"
     ]
    }
   ],
   "source": [
    "basics.startYear.info()"
   ]
  },
  {
   "cell_type": "code",
   "execution_count": 262,
   "id": "58a1ebe1",
   "metadata": {},
   "outputs": [],
   "source": [
    "# Need to remove NaN values in order to coerce to value type integer\n",
    "basics = basics.dropna(subset = ['startYear'])"
   ]
  },
  {
   "cell_type": "code",
   "execution_count": 263,
   "id": "637e26ff",
   "metadata": {
    "scrolled": true
   },
   "outputs": [
    {
     "name": "stdout",
     "output_type": "stream",
     "text": [
      "<class 'pandas.core.series.Series'>\n",
      "Int64Index: 378108 entries, 8 to 9974407\n",
      "Series name: startYear\n",
      "Non-Null Count   Dtype\n",
      "--------------   -----\n",
      "378108 non-null  int64\n",
      "dtypes: int64(1)\n",
      "memory usage: 5.8 MB\n"
     ]
    }
   ],
   "source": [
    "basics.startYear = basics.startYear.astype(int)\n",
    "basics.startYear.info()"
   ]
  },
  {
   "cell_type": "code",
   "execution_count": 264,
   "id": "2f049e6d",
   "metadata": {},
   "outputs": [
    {
     "name": "stdout",
     "output_type": "stream",
     "text": [
      "<class 'pandas.core.frame.DataFrame'>\n",
      "Int64Index: 378108 entries, 8 to 9974407\n",
      "Data columns (total 9 columns):\n",
      " #   Column          Non-Null Count   Dtype \n",
      "---  ------          --------------   ----- \n",
      " 0   tconst          378108 non-null  object\n",
      " 1   titleType       378108 non-null  object\n",
      " 2   primaryTitle    378108 non-null  object\n",
      " 3   originalTitle   378108 non-null  object\n",
      " 4   isAdult         378108 non-null  object\n",
      " 5   startYear       378108 non-null  int64 \n",
      " 6   endYear         0 non-null       object\n",
      " 7   runtimeMinutes  378108 non-null  object\n",
      " 8   genres          378108 non-null  object\n",
      "dtypes: int64(1), object(8)\n",
      "memory usage: 28.8+ MB\n"
     ]
    }
   ],
   "source": [
    "basics.info()"
   ]
  },
  {
   "cell_type": "code",
   "execution_count": 265,
   "id": "555ea8a7",
   "metadata": {
    "scrolled": true
   },
   "outputs": [
    {
     "name": "stdout",
     "output_type": "stream",
     "text": [
      "<class 'pandas.core.frame.DataFrame'>\n",
      "Int64Index: 223933 entries, 13082 to 9974407\n",
      "Data columns (total 9 columns):\n",
      " #   Column          Non-Null Count   Dtype \n",
      "---  ------          --------------   ----- \n",
      " 0   tconst          223933 non-null  object\n",
      " 1   titleType       223933 non-null  object\n",
      " 2   primaryTitle    223933 non-null  object\n",
      " 3   originalTitle   223933 non-null  object\n",
      " 4   isAdult         223933 non-null  object\n",
      " 5   startYear       223933 non-null  int64 \n",
      " 6   endYear         0 non-null       object\n",
      " 7   runtimeMinutes  223933 non-null  object\n",
      " 8   genres          223933 non-null  object\n",
      "dtypes: int64(1), object(8)\n",
      "memory usage: 17.1+ MB\n"
     ]
    }
   ],
   "source": [
    "# Keep only startYear values that include 2000 - 2022\n",
    "basics = basics[(basics['startYear'] >= 2000) & (basics['startYear'] <= 2022)]\n",
    "basics.info()"
   ]
  },
  {
   "cell_type": "code",
   "execution_count": 266,
   "id": "e7d2c45d",
   "metadata": {},
   "outputs": [
    {
     "data": {
      "text/plain": [
       "2017    14390\n",
       "2018    14361\n",
       "2019    14114\n",
       "2016    13979\n",
       "2015    13488\n",
       "2014    13129\n",
       "2022    12976\n",
       "2021    12437\n",
       "2013    12402\n",
       "2012    11657\n",
       "2020    11604\n",
       "2011    10787\n",
       "2010    10217\n",
       "2009     9375\n",
       "2008     8165\n",
       "2007     6974\n",
       "2006     6532\n",
       "2005     5853\n",
       "2004     5219\n",
       "2003     4603\n",
       "2002     4140\n",
       "2001     3881\n",
       "2000     3650\n",
       "Name: startYear, dtype: int64"
      ]
     },
     "execution_count": 266,
     "metadata": {},
     "output_type": "execute_result"
    }
   ],
   "source": [
    "basics.startYear.value_counts()"
   ]
  },
  {
   "cell_type": "markdown",
   "id": "1f2afdc9",
   "metadata": {},
   "source": [
    "Only movies from startYear 2000 through 2022 remain."
   ]
  },
  {
   "cell_type": "markdown",
   "id": "8a0ce943",
   "metadata": {},
   "source": [
    "### Remove Documentary Movies\n",
    "\n",
    "in basics df"
   ]
  },
  {
   "cell_type": "code",
   "execution_count": 267,
   "id": "3181f53f",
   "metadata": {},
   "outputs": [
    {
     "data": {
      "text/plain": [
       "Documentary                  53453\n",
       "Drama                        36110\n",
       "Comedy                       13476\n",
       "Comedy,Drama                  6457\n",
       "Horror                        5815\n",
       "                             ...  \n",
       "Comedy,Reality-TV,Romance        1\n",
       "Crime,Family,Thriller            1\n",
       "News,Reality-TV,Sport            1\n",
       "Adult,Mystery                    1\n",
       "Crime,Fantasy,Sci-Fi             1\n",
       "Name: genres, Length: 1171, dtype: int64"
      ]
     },
     "execution_count": 267,
     "metadata": {},
     "output_type": "execute_result"
    }
   ],
   "source": [
    "# View values for 'genres'\n",
    "basics.genres.value_counts()"
   ]
  },
  {
   "cell_type": "code",
   "execution_count": 268,
   "id": "e8ac1614",
   "metadata": {},
   "outputs": [
    {
     "data": {
      "text/plain": [
       "False    147840\n",
       "True      76093\n",
       "Name: genres, dtype: int64"
      ]
     },
     "execution_count": 268,
     "metadata": {},
     "output_type": "execute_result"
    }
   ],
   "source": [
    "# Create a filter for movies that are also documentaries\n",
    "is_documentary = basics['genres'].str.contains('documentary', case = False)\n",
    "is_documentary.value_counts()"
   ]
  },
  {
   "cell_type": "code",
   "execution_count": 269,
   "id": "2d9cb1a3",
   "metadata": {},
   "outputs": [
    {
     "data": {
      "text/plain": [
       "Drama                        36110\n",
       "Comedy                       13476\n",
       "Comedy,Drama                  6457\n",
       "Horror                        5815\n",
       "Drama,Romance                 4317\n",
       "                             ...  \n",
       "Family,Musical,Sport             1\n",
       "Horror,Music,Mystery             1\n",
       "Comedy,History,Mystery           1\n",
       "Animation,Biography,Sport        1\n",
       "Crime,Fantasy,Sci-Fi             1\n",
       "Name: genres, Length: 954, dtype: int64"
      ]
     },
     "execution_count": 269,
     "metadata": {},
     "output_type": "execute_result"
    }
   ],
   "source": [
    "# Apply INVERSE of filter to df to remove all documentaries\n",
    "basics = basics[~is_documentary]\n",
    "basics.genres.value_counts()"
   ]
  },
  {
   "cell_type": "code",
   "execution_count": 270,
   "id": "727bff51",
   "metadata": {},
   "outputs": [
    {
     "data": {
      "text/plain": [
       "False    147840\n",
       "Name: genres, dtype: int64"
      ]
     },
     "execution_count": 270,
     "metadata": {},
     "output_type": "execute_result"
    }
   ],
   "source": [
    "# Create new filter to verify no documentaries remain\n",
    "is_documentary_v = basics['genres'].str.contains('documentary', case = False)\n",
    "is_documentary_v.value_counts()"
   ]
  },
  {
   "cell_type": "markdown",
   "id": "f7a5dd95",
   "metadata": {},
   "source": [
    "No documentaries remain in updated basics df"
   ]
  },
  {
   "cell_type": "markdown",
   "id": "61e92618",
   "metadata": {},
   "source": [
    "### Remove non-US Movies\n",
    "\n",
    "in basics df using region information from akas df"
   ]
  },
  {
   "cell_type": "code",
   "execution_count": 271,
   "id": "bbebd469",
   "metadata": {},
   "outputs": [
    {
     "data": {
      "text/plain": [
       "DE    4366701\n",
       "FR    4361926\n",
       "JP    4360736\n",
       "IN    4303353\n",
       "ES    4281672\n",
       "       ...   \n",
       "FM          2\n",
       "TV          1\n",
       "PW          1\n",
       "NR          1\n",
       "NU          1\n",
       "Name: region, Length: 247, dtype: int64"
      ]
     },
     "execution_count": 271,
     "metadata": {},
     "output_type": "execute_result"
    }
   ],
   "source": [
    "# View current values for values in akas 'region' column\n",
    "akas.region.value_counts()"
   ]
  },
  {
   "cell_type": "code",
   "execution_count": 272,
   "id": "0bc2ea36",
   "metadata": {},
   "outputs": [
    {
     "name": "stdout",
     "output_type": "stream",
     "text": [
      "Total value count for US:      1448689\n",
      "Total value count for non-US: 34976344\n"
     ]
    }
   ],
   "source": [
    "# Count the total number of 'region' values of 'US'\n",
    "print(f\"Total value count for US:      {(akas['region'] == 'US').sum()}\")\n",
    "print(f\"Total value count for non-US: {(akas['region'] != 'US').sum()}\")"
   ]
  },
  {
   "cell_type": "code",
   "execution_count": 273,
   "id": "46ad1f6f",
   "metadata": {},
   "outputs": [
    {
     "name": "stdout",
     "output_type": "stream",
     "text": [
      "Total value count for US:     1448689\n",
      "Total value count for non-US: 0\n"
     ]
    }
   ],
   "source": [
    "# Filter out all non-US movies\n",
    "akas = akas[(akas['region'] == 'US')]\n",
    "\n",
    "# Verify counts have been updated correctly\n",
    "print(f\"Total value count for US:     {(akas['region'] == 'US').sum()}\")\n",
    "print(f\"Total value count for non-US: {(akas['region'] != 'US').sum()}\")"
   ]
  },
  {
   "cell_type": "markdown",
   "id": "7651b171",
   "metadata": {},
   "source": [
    "All non-US movies have been removed from df akas. \n",
    "\n",
    "This filter now also needs to be applied to the df basics."
   ]
  },
  {
   "cell_type": "code",
   "execution_count": 274,
   "id": "89c5fa6c",
   "metadata": {},
   "outputs": [
    {
     "data": {
      "text/plain": [
       "True     86886\n",
       "False    60954\n",
       "Name: tconst, dtype: int64"
      ]
     },
     "execution_count": 274,
     "metadata": {},
     "output_type": "execute_result"
    }
   ],
   "source": [
    "# Create additional filter in df basics to use US movie filter from df akas\n",
    "keepers = basics['tconst'].isin(akas['titleId'])\n",
    "keepers.value_counts()"
   ]
  },
  {
   "cell_type": "code",
   "execution_count": 275,
   "id": "1d09620d",
   "metadata": {},
   "outputs": [
    {
     "data": {
      "text/html": [
       "<div>\n",
       "<style scoped>\n",
       "    .dataframe tbody tr th:only-of-type {\n",
       "        vertical-align: middle;\n",
       "    }\n",
       "\n",
       "    .dataframe tbody tr th {\n",
       "        vertical-align: top;\n",
       "    }\n",
       "\n",
       "    .dataframe thead th {\n",
       "        text-align: right;\n",
       "    }\n",
       "</style>\n",
       "<table border=\"1\" class=\"dataframe\">\n",
       "  <thead>\n",
       "    <tr style=\"text-align: right;\">\n",
       "      <th></th>\n",
       "      <th>tconst</th>\n",
       "      <th>titleType</th>\n",
       "      <th>primaryTitle</th>\n",
       "      <th>originalTitle</th>\n",
       "      <th>isAdult</th>\n",
       "      <th>startYear</th>\n",
       "      <th>endYear</th>\n",
       "      <th>runtimeMinutes</th>\n",
       "      <th>genres</th>\n",
       "    </tr>\n",
       "  </thead>\n",
       "  <tbody>\n",
       "    <tr>\n",
       "      <th>34803</th>\n",
       "      <td>tt0035423</td>\n",
       "      <td>movie</td>\n",
       "      <td>Kate &amp; Leopold</td>\n",
       "      <td>Kate &amp; Leopold</td>\n",
       "      <td>0</td>\n",
       "      <td>2001</td>\n",
       "      <td>NaN</td>\n",
       "      <td>118</td>\n",
       "      <td>Comedy,Fantasy,Romance</td>\n",
       "    </tr>\n",
       "    <tr>\n",
       "      <th>42384</th>\n",
       "      <td>tt0043139</td>\n",
       "      <td>movie</td>\n",
       "      <td>Life of a Beijing Policeman</td>\n",
       "      <td>Wo zhe yi bei zi</td>\n",
       "      <td>0</td>\n",
       "      <td>2013</td>\n",
       "      <td>NaN</td>\n",
       "      <td>120</td>\n",
       "      <td>Drama,History</td>\n",
       "    </tr>\n",
       "    <tr>\n",
       "      <th>61115</th>\n",
       "      <td>tt0062336</td>\n",
       "      <td>movie</td>\n",
       "      <td>The Tango of the Widower and Its Distorting Mi...</td>\n",
       "      <td>El tango del viudo y su espejo deformante</td>\n",
       "      <td>0</td>\n",
       "      <td>2020</td>\n",
       "      <td>NaN</td>\n",
       "      <td>70</td>\n",
       "      <td>Drama</td>\n",
       "    </tr>\n",
       "    <tr>\n",
       "      <th>67667</th>\n",
       "      <td>tt0069049</td>\n",
       "      <td>movie</td>\n",
       "      <td>The Other Side of the Wind</td>\n",
       "      <td>The Other Side of the Wind</td>\n",
       "      <td>0</td>\n",
       "      <td>2018</td>\n",
       "      <td>NaN</td>\n",
       "      <td>122</td>\n",
       "      <td>Drama</td>\n",
       "    </tr>\n",
       "    <tr>\n",
       "      <th>86799</th>\n",
       "      <td>tt0088751</td>\n",
       "      <td>movie</td>\n",
       "      <td>The Naked Monster</td>\n",
       "      <td>The Naked Monster</td>\n",
       "      <td>0</td>\n",
       "      <td>2005</td>\n",
       "      <td>NaN</td>\n",
       "      <td>100</td>\n",
       "      <td>Comedy,Horror,Sci-Fi</td>\n",
       "    </tr>\n",
       "  </tbody>\n",
       "</table>\n",
       "</div>"
      ],
      "text/plain": [
       "          tconst titleType                                       primaryTitle  \\\n",
       "34803  tt0035423     movie                                     Kate & Leopold   \n",
       "42384  tt0043139     movie                        Life of a Beijing Policeman   \n",
       "61115  tt0062336     movie  The Tango of the Widower and Its Distorting Mi...   \n",
       "67667  tt0069049     movie                         The Other Side of the Wind   \n",
       "86799  tt0088751     movie                                  The Naked Monster   \n",
       "\n",
       "                                   originalTitle isAdult  startYear endYear  \\\n",
       "34803                             Kate & Leopold       0       2001     NaN   \n",
       "42384                           Wo zhe yi bei zi       0       2013     NaN   \n",
       "61115  El tango del viudo y su espejo deformante       0       2020     NaN   \n",
       "67667                 The Other Side of the Wind       0       2018     NaN   \n",
       "86799                          The Naked Monster       0       2005     NaN   \n",
       "\n",
       "      runtimeMinutes                  genres  \n",
       "34803            118  Comedy,Fantasy,Romance  \n",
       "42384            120           Drama,History  \n",
       "61115             70                   Drama  \n",
       "67667            122                   Drama  \n",
       "86799            100    Comedy,Horror,Sci-Fi  "
      ]
     },
     "execution_count": 275,
     "metadata": {},
     "output_type": "execute_result"
    }
   ],
   "source": [
    "# Apply 'keepers' filter to df basics\n",
    "basics = basics[keepers]\n",
    "basics.head()"
   ]
  },
  {
   "cell_type": "code",
   "execution_count": 276,
   "id": "360aa92d",
   "metadata": {},
   "outputs": [
    {
     "data": {
      "text/plain": [
       "US    96669\n",
       "Name: region, dtype: int64"
      ]
     },
     "execution_count": 276,
     "metadata": {},
     "output_type": "execute_result"
    }
   ],
   "source": [
    "# Verify only US movies are now included in df basics\n",
    "# Create a reverse filter between df akas and df basics\n",
    "basics_US_filter = akas['titleId'].isin(basics['tconst'])\n",
    "\n",
    "# Apply filter to akas and save to a copy of akas\n",
    "akas2 = akas[basics_US_filter]\n",
    "\n",
    "# Count US movies in filtered akas copy\n",
    "akas2['region'].value_counts()"
   ]
  },
  {
   "cell_type": "markdown",
   "id": "2a3b868a",
   "metadata": {},
   "source": [
    "Only US region movies appear to be included in df basics, now."
   ]
  },
  {
   "cell_type": "markdown",
   "id": "cfdf7d0a",
   "metadata": {},
   "source": [
    "### Keep US Movies only\n",
    "\n",
    "in akas df"
   ]
  },
  {
   "cell_type": "code",
   "execution_count": 277,
   "id": "2d2abba1",
   "metadata": {},
   "outputs": [
    {
     "data": {
      "text/plain": [
       "US    96669\n",
       "Name: region, dtype: int64"
      ]
     },
     "execution_count": 277,
     "metadata": {},
     "output_type": "execute_result"
    }
   ],
   "source": [
    "# Use US movie filtered df akas2 to apply to main df akas\n",
    "akas = akas2\n",
    "akas['region'].value_counts()"
   ]
  },
  {
   "cell_type": "markdown",
   "id": "8c65ed47",
   "metadata": {},
   "source": [
    "### Keep US Movies only\n",
    "\n",
    "in ratings df"
   ]
  },
  {
   "cell_type": "code",
   "execution_count": 278,
   "id": "c74d0426",
   "metadata": {},
   "outputs": [
    {
     "data": {
      "text/plain": [
       "False    1254127\n",
       "True       71792\n",
       "Name: tconst, dtype: int64"
      ]
     },
     "execution_count": 278,
     "metadata": {},
     "output_type": "execute_result"
    }
   ],
   "source": [
    "# Create additional filter in df ratings to use US movie filter from df akas\n",
    "keepers_ratings = ratings['tconst'].isin(akas['titleId'])\n",
    "keepers_ratings.value_counts()"
   ]
  },
  {
   "cell_type": "code",
   "execution_count": 279,
   "id": "15fed492",
   "metadata": {},
   "outputs": [
    {
     "data": {
      "text/html": [
       "<div>\n",
       "<style scoped>\n",
       "    .dataframe tbody tr th:only-of-type {\n",
       "        vertical-align: middle;\n",
       "    }\n",
       "\n",
       "    .dataframe tbody tr th {\n",
       "        vertical-align: top;\n",
       "    }\n",
       "\n",
       "    .dataframe thead th {\n",
       "        text-align: right;\n",
       "    }\n",
       "</style>\n",
       "<table border=\"1\" class=\"dataframe\">\n",
       "  <thead>\n",
       "    <tr style=\"text-align: right;\">\n",
       "      <th></th>\n",
       "      <th>tconst</th>\n",
       "      <th>averageRating</th>\n",
       "      <th>numVotes</th>\n",
       "    </tr>\n",
       "  </thead>\n",
       "  <tbody>\n",
       "    <tr>\n",
       "      <th>17949</th>\n",
       "      <td>tt0035423</td>\n",
       "      <td>6.4</td>\n",
       "      <td>87019</td>\n",
       "    </tr>\n",
       "    <tr>\n",
       "      <th>24249</th>\n",
       "      <td>tt0043139</td>\n",
       "      <td>7.2</td>\n",
       "      <td>190</td>\n",
       "    </tr>\n",
       "    <tr>\n",
       "      <th>40738</th>\n",
       "      <td>tt0062336</td>\n",
       "      <td>6.4</td>\n",
       "      <td>175</td>\n",
       "    </tr>\n",
       "    <tr>\n",
       "      <th>46618</th>\n",
       "      <td>tt0069049</td>\n",
       "      <td>6.7</td>\n",
       "      <td>7731</td>\n",
       "    </tr>\n",
       "    <tr>\n",
       "      <th>63620</th>\n",
       "      <td>tt0088751</td>\n",
       "      <td>5.2</td>\n",
       "      <td>335</td>\n",
       "    </tr>\n",
       "  </tbody>\n",
       "</table>\n",
       "</div>"
      ],
      "text/plain": [
       "          tconst  averageRating  numVotes\n",
       "17949  tt0035423            6.4     87019\n",
       "24249  tt0043139            7.2       190\n",
       "40738  tt0062336            6.4       175\n",
       "46618  tt0069049            6.7      7731\n",
       "63620  tt0088751            5.2       335"
      ]
     },
     "execution_count": 279,
     "metadata": {},
     "output_type": "execute_result"
    }
   ],
   "source": [
    "# Apply 'keepers' filter to df ratings\n",
    "ratings = ratings[keepers_ratings]\n",
    "ratings.head()"
   ]
  },
  {
   "cell_type": "code",
   "execution_count": 280,
   "id": "f6a5f258",
   "metadata": {},
   "outputs": [
    {
     "name": "stdout",
     "output_type": "stream",
     "text": [
      "<class 'pandas.core.frame.DataFrame'>\n",
      "Int64Index: 71792 entries, 17949 to 1325889\n",
      "Data columns (total 3 columns):\n",
      " #   Column         Non-Null Count  Dtype  \n",
      "---  ------         --------------  -----  \n",
      " 0   tconst         71792 non-null  object \n",
      " 1   averageRating  71792 non-null  float64\n",
      " 2   numVotes       71792 non-null  int64  \n",
      "dtypes: float64(1), int64(1), object(1)\n",
      "memory usage: 2.2+ MB\n"
     ]
    }
   ],
   "source": [
    "# Verify total count of df ratings matches True value from filter 'keepers_ratings'\n",
    "ratings.info()"
   ]
  },
  {
   "cell_type": "markdown",
   "id": "ceece1cb",
   "metadata": {},
   "source": [
    "Only values in df ratings that remain are those that remain from non-US movies being filtered out of df akas.\n",
    "\n",
    "The reason that df ratings has fewer entries than the filtered (US-only movies) in akas is because some of those US-only movies do not have an associated rating."
   ]
  },
  {
   "cell_type": "markdown",
   "id": "595b471b",
   "metadata": {},
   "source": [
    "## Deliverable"
   ]
  },
  {
   "cell_type": "code",
   "execution_count": 282,
   "id": "6fae7d6f",
   "metadata": {},
   "outputs": [
    {
     "name": "stdout",
     "output_type": "stream",
     "text": [
      "<class 'pandas.core.frame.DataFrame'>\n",
      "Int64Index: 86886 entries, 34803 to 9974223\n",
      "Data columns (total 9 columns):\n",
      " #   Column          Non-Null Count  Dtype \n",
      "---  ------          --------------  ----- \n",
      " 0   tconst          86886 non-null  object\n",
      " 1   titleType       86886 non-null  object\n",
      " 2   primaryTitle    86886 non-null  object\n",
      " 3   originalTitle   86886 non-null  object\n",
      " 4   isAdult         86886 non-null  object\n",
      " 5   startYear       86886 non-null  int64 \n",
      " 6   endYear         0 non-null      object\n",
      " 7   runtimeMinutes  86886 non-null  object\n",
      " 8   genres          86886 non-null  object\n",
      "dtypes: int64(1), object(8)\n",
      "memory usage: 6.6+ MB\n"
     ]
    }
   ],
   "source": [
    "# display info for each of the DataFrames\n",
    "basics.info()"
   ]
  },
  {
   "cell_type": "code",
   "execution_count": 283,
   "id": "7ed8da60",
   "metadata": {},
   "outputs": [
    {
     "name": "stdout",
     "output_type": "stream",
     "text": [
      "<class 'pandas.core.frame.DataFrame'>\n",
      "Int64Index: 71792 entries, 17949 to 1325889\n",
      "Data columns (total 3 columns):\n",
      " #   Column         Non-Null Count  Dtype  \n",
      "---  ------         --------------  -----  \n",
      " 0   tconst         71792 non-null  object \n",
      " 1   averageRating  71792 non-null  float64\n",
      " 2   numVotes       71792 non-null  int64  \n",
      "dtypes: float64(1), int64(1), object(1)\n",
      "memory usage: 2.2+ MB\n"
     ]
    }
   ],
   "source": [
    "# display info for each of the DataFrames\n",
    "ratings.info()"
   ]
  },
  {
   "cell_type": "code",
   "execution_count": 284,
   "id": "d8241fc0",
   "metadata": {},
   "outputs": [
    {
     "name": "stdout",
     "output_type": "stream",
     "text": [
      "<class 'pandas.core.frame.DataFrame'>\n",
      "Int64Index: 96669 entries, 201726 to 36424290\n",
      "Data columns (total 8 columns):\n",
      " #   Column           Non-Null Count  Dtype \n",
      "---  ------           --------------  ----- \n",
      " 0   titleId          96669 non-null  object\n",
      " 1   ordering         96669 non-null  int64 \n",
      " 2   title            96669 non-null  object\n",
      " 3   region           96669 non-null  object\n",
      " 4   language         945 non-null    object\n",
      " 5   types            88996 non-null  object\n",
      " 6   attributes       4361 non-null   object\n",
      " 7   isOriginalTitle  96669 non-null  object\n",
      "dtypes: int64(1), object(7)\n",
      "memory usage: 6.6+ MB\n"
     ]
    }
   ],
   "source": [
    "# display info for each of the DataFrames\n",
    "akas.info()"
   ]
  },
  {
   "cell_type": "code",
   "execution_count": 286,
   "id": "b899e43f",
   "metadata": {},
   "outputs": [],
   "source": [
    "# Save copy of processed DataFrames to local disk\n",
    "basics.to_csv('Data/basics_final.csv.gz', compression = 'gzip', index=False)\n",
    "ratings.to_csv('Data/ratings_final.csv.gz', compression = 'gzip', index=False)\n",
    "akas.to_csv('Data/akas_final.csv.gz', compression = 'gzip', index=False)"
   ]
  }
 ],
 "metadata": {
  "kernelspec": {
   "display_name": "Python (dojo-env)",
   "language": "python",
   "name": "dojo-env"
  },
  "language_info": {
   "codemirror_mode": {
    "name": "ipython",
    "version": 3
   },
   "file_extension": ".py",
   "mimetype": "text/x-python",
   "name": "python",
   "nbconvert_exporter": "python",
   "pygments_lexer": "ipython3",
   "version": "3.9.15"
  },
  "toc": {
   "base_numbering": 1,
   "nav_menu": {},
   "number_sections": false,
   "sideBar": true,
   "skip_h1_title": false,
   "title_cell": "Table of Contents",
   "title_sidebar": "Contents",
   "toc_cell": false,
   "toc_position": {
    "height": "calc(100% - 180px)",
    "left": "10px",
    "top": "150px",
    "width": "306px"
   },
   "toc_section_display": true,
   "toc_window_display": true
  }
 },
 "nbformat": 4,
 "nbformat_minor": 5
}
