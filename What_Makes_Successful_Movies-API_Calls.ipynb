{
 "cells": [
  {
   "cell_type": "markdown",
   "id": "151bb591",
   "metadata": {},
   "source": [
    "# What Makes Successful Movies? IMDB\n",
    "\n",
    "US, non-documentary movies from 2000-2022."
   ]
  },
  {
   "cell_type": "markdown",
   "id": "89bb1392",
   "metadata": {},
   "source": [
    "## Attributions"
   ]
  },
  {
   "cell_type": "markdown",
   "id": "ff87937f",
   "metadata": {},
   "source": [
    "\"This product uses the TMDB API but is not endorsed or certified by TMDB.\""
   ]
  },
  {
   "cell_type": "code",
   "execution_count": 45,
   "id": "dccfce47",
   "metadata": {},
   "outputs": [
    {
     "data": {
      "image/svg+xml": [
       "<svg xmlns=\"http://www.w3.org/2000/svg\" xmlns:xlink=\"http://www.w3.org/1999/xlink\" viewBox=\"0 0 489.04 35.4\"><defs><style>.cls-1{fill:url(#linear-gradient);}</style><linearGradient id=\"linear-gradient\" y1=\"17.7\" x2=\"489.04\" y2=\"17.7\" gradientUnits=\"userSpaceOnUse\"><stop offset=\"0\" stop-color=\"#90cea1\"/><stop offset=\"0.56\" stop-color=\"#3cbec9\"/><stop offset=\"1\" stop-color=\"#00b3e5\"/></linearGradient></defs><title>Asset 5</title><g id=\"Layer_2\" data-name=\"Layer 2\"><g id=\"Layer_1-2\" data-name=\"Layer 1\"><path class=\"cls-1\" d=\"M293.5,0h8.9l8.75,23.2h.1L320.15,0h8.35L313.9,35.4h-6.25Zm46.6,0h7.8V35.4h-7.8Zm22.2,0h24.05V7.2H370.1v6.6h15.35V21H370.1v7.2h17.15v7.2H362.3Zm55,0H429a33.54,33.54,0,0,1,8.07,1A18.55,18.55,0,0,1,443.75,4a15.1,15.1,0,0,1,4.52,5.53A18.5,18.5,0,0,1,450,17.8a16.91,16.91,0,0,1-1.63,7.58,16.37,16.37,0,0,1-4.37,5.5,19.52,19.52,0,0,1-6.35,3.37A24.59,24.59,0,0,1,430,35.4H417.29Zm7.81,28.2h4a21.57,21.57,0,0,0,5-.55,10.87,10.87,0,0,0,4-1.83,8.69,8.69,0,0,0,2.67-3.34,11.92,11.92,0,0,0,1-5.08,9.87,9.87,0,0,0-1-4.52,9,9,0,0,0-2.62-3.18,11.68,11.68,0,0,0-3.88-1.88,17.43,17.43,0,0,0-4.67-.62h-4.6ZM461.24,0h13.2a34.42,34.42,0,0,1,4.63.32,12.9,12.9,0,0,1,4.17,1.3,7.88,7.88,0,0,1,3,2.73A8.34,8.34,0,0,1,487.39,9a7.42,7.42,0,0,1-1.67,5,9.28,9.28,0,0,1-4.43,2.82v.1a10,10,0,0,1,3.18,1,8.38,8.38,0,0,1,2.45,1.85,7.79,7.79,0,0,1,1.57,2.62,9.16,9.16,0,0,1,.55,3.2,8.52,8.52,0,0,1-1.2,4.68,9.42,9.42,0,0,1-3.1,3,13.38,13.38,0,0,1-4.27,1.65,23.11,23.11,0,0,1-4.73.5h-14.5ZM469,14.15h5.65a8.16,8.16,0,0,0,1.78-.2A4.78,4.78,0,0,0,478,13.3a3.34,3.34,0,0,0,1.13-1.2,3.63,3.63,0,0,0,.42-1.8,3.22,3.22,0,0,0-.47-1.82,3.33,3.33,0,0,0-1.23-1.13,5.77,5.77,0,0,0-1.7-.58,10.79,10.79,0,0,0-1.85-.17H469Zm0,14.65h7a8.91,8.91,0,0,0,1.83-.2,4.78,4.78,0,0,0,1.67-.7,4,4,0,0,0,1.23-1.3,3.71,3.71,0,0,0,.47-2,3.13,3.13,0,0,0-.62-2A4,4,0,0,0,479,21.45,7.83,7.83,0,0,0,477,20.9a15.12,15.12,0,0,0-2.05-.15H469Zm-265,6.53H271a17.66,17.66,0,0,0,17.66-17.66h0A17.67,17.67,0,0,0,271,0H204.06A17.67,17.67,0,0,0,186.4,17.67h0A17.66,17.66,0,0,0,204.06,35.33ZM10.1,6.9H0V0H28V6.9H17.9V35.4H10.1ZM39,0h7.8V13.2H61.9V0h7.8V35.4H61.9V20.1H46.75V35.4H39ZM80.2,0h24V7.2H88v6.6h15.35V21H88v7.2h17.15v7.2h-25Zm55,0H147l8.15,23.1h.1L163.45,0H175.2V35.4h-7.8V8.25h-.1L158,35.4h-5.95l-9-27.15H143V35.4h-7.8Z\"/></g></g></svg>"
      ],
      "text/plain": [
       "<IPython.core.display.SVG object>"
      ]
     },
     "execution_count": 45,
     "metadata": {},
     "output_type": "execute_result"
    }
   ],
   "source": [
    "from IPython.core.display import SVG\n",
    "SVG(filename='Data/tmdblogo-blue_long_2.svg')"
   ]
  },
  {
   "cell_type": "markdown",
   "id": "99117a55",
   "metadata": {},
   "source": [
    "## Import Packages"
   ]
  },
  {
   "cell_type": "code",
   "execution_count": 3,
   "id": "0d6783f6",
   "metadata": {},
   "outputs": [],
   "source": [
    "# Standard Imports\n",
    "import numpy as np\n",
    "import pandas as pd\n",
    "\n",
    "# Additional Imports\n",
    "import json, time, os\n",
    "import tmdbsimple as tmdb\n",
    "from tqdm.notebook import tqdm_notebook"
   ]
  },
  {
   "cell_type": "markdown",
   "id": "c37da6f0",
   "metadata": {},
   "source": [
    "## Load Data"
   ]
  },
  {
   "cell_type": "code",
   "execution_count": 230,
   "id": "7c6ca614",
   "metadata": {},
   "outputs": [],
   "source": [
    "## Load Data from three specific files\n",
    "## from https://developer.imdb.com/non-commercial-datasets/\n",
    "\n",
    "# title.basics.tsv.gz\n",
    "basics_url = \"https://datasets.imdbws.com/title.basics.tsv.gz\"\n",
    "basics = pd.read_csv(basics_url, sep='\\t', low_memory=False)\n",
    "\n",
    "# title.ratings.tsv.gz\n",
    "ratings_url = \"https://datasets.imdbws.com/title.ratings.tsv.gz\"\n",
    "ratings = pd.read_csv(ratings_url, sep='\\t', low_memory=False)\n",
    "\n",
    "# title.akas.tsv.gz\n",
    "akas_url = \"https://datasets.imdbws.com/title.akas.tsv.gz\"\n",
    "akas = pd.read_csv(akas_url, sep='\\t', low_memory=False)"
   ]
  },
  {
   "cell_type": "code",
   "execution_count": 231,
   "id": "fe2ce140",
   "metadata": {},
   "outputs": [],
   "source": [
    "# Save Data copy to local disk\n",
    "basics.to_csv('Data/basics.csv.gz', compression = 'gzip', index=False)\n",
    "ratings.to_csv('Data/ratings.csv.gz', compression = 'gzip', index=False)\n",
    "akas.to_csv('Data/akas.csv.gz', compression = 'gzip', index=False)"
   ]
  },
  {
   "cell_type": "code",
   "execution_count": 232,
   "id": "d425d41b",
   "metadata": {},
   "outputs": [],
   "source": [
    "# Use files from local disk now, instead\n",
    "basics = pd.read_csv(\"Data/basics.csv.gz\", low_memory = False)\n",
    "ratings = pd.read_csv(\"Data/ratings.csv.gz\", low_memory = False)\n",
    "akas = pd.read_csv(\"Data/akas.csv.gz\", low_memory = False)"
   ]
  },
  {
   "cell_type": "code",
   "execution_count": 233,
   "id": "ec5cb3d5",
   "metadata": {},
   "outputs": [
    {
     "data": {
      "text/html": [
       "<div>\n",
       "<style scoped>\n",
       "    .dataframe tbody tr th:only-of-type {\n",
       "        vertical-align: middle;\n",
       "    }\n",
       "\n",
       "    .dataframe tbody tr th {\n",
       "        vertical-align: top;\n",
       "    }\n",
       "\n",
       "    .dataframe thead th {\n",
       "        text-align: right;\n",
       "    }\n",
       "</style>\n",
       "<table border=\"1\" class=\"dataframe\">\n",
       "  <thead>\n",
       "    <tr style=\"text-align: right;\">\n",
       "      <th></th>\n",
       "      <th>tconst</th>\n",
       "      <th>titleType</th>\n",
       "      <th>primaryTitle</th>\n",
       "      <th>originalTitle</th>\n",
       "      <th>isAdult</th>\n",
       "      <th>startYear</th>\n",
       "      <th>endYear</th>\n",
       "      <th>runtimeMinutes</th>\n",
       "      <th>genres</th>\n",
       "    </tr>\n",
       "  </thead>\n",
       "  <tbody>\n",
       "    <tr>\n",
       "      <th>0</th>\n",
       "      <td>tt0000001</td>\n",
       "      <td>short</td>\n",
       "      <td>Carmencita</td>\n",
       "      <td>Carmencita</td>\n",
       "      <td>0</td>\n",
       "      <td>1894</td>\n",
       "      <td>\\N</td>\n",
       "      <td>1</td>\n",
       "      <td>Documentary,Short</td>\n",
       "    </tr>\n",
       "    <tr>\n",
       "      <th>1</th>\n",
       "      <td>tt0000002</td>\n",
       "      <td>short</td>\n",
       "      <td>Le clown et ses chiens</td>\n",
       "      <td>Le clown et ses chiens</td>\n",
       "      <td>0</td>\n",
       "      <td>1892</td>\n",
       "      <td>\\N</td>\n",
       "      <td>5</td>\n",
       "      <td>Animation,Short</td>\n",
       "    </tr>\n",
       "    <tr>\n",
       "      <th>2</th>\n",
       "      <td>tt0000003</td>\n",
       "      <td>short</td>\n",
       "      <td>Pauvre Pierrot</td>\n",
       "      <td>Pauvre Pierrot</td>\n",
       "      <td>0</td>\n",
       "      <td>1892</td>\n",
       "      <td>\\N</td>\n",
       "      <td>4</td>\n",
       "      <td>Animation,Comedy,Romance</td>\n",
       "    </tr>\n",
       "  </tbody>\n",
       "</table>\n",
       "</div>"
      ],
      "text/plain": [
       "      tconst titleType            primaryTitle           originalTitle  \\\n",
       "0  tt0000001     short              Carmencita              Carmencita   \n",
       "1  tt0000002     short  Le clown et ses chiens  Le clown et ses chiens   \n",
       "2  tt0000003     short          Pauvre Pierrot          Pauvre Pierrot   \n",
       "\n",
       "  isAdult startYear endYear runtimeMinutes                    genres  \n",
       "0       0      1894      \\N              1         Documentary,Short  \n",
       "1       0      1892      \\N              5           Animation,Short  \n",
       "2       0      1892      \\N              4  Animation,Comedy,Romance  "
      ]
     },
     "execution_count": 233,
     "metadata": {},
     "output_type": "execute_result"
    }
   ],
   "source": [
    "basics.head(3)"
   ]
  },
  {
   "cell_type": "code",
   "execution_count": 234,
   "id": "482d6276",
   "metadata": {},
   "outputs": [
    {
     "data": {
      "text/html": [
       "<div>\n",
       "<style scoped>\n",
       "    .dataframe tbody tr th:only-of-type {\n",
       "        vertical-align: middle;\n",
       "    }\n",
       "\n",
       "    .dataframe tbody tr th {\n",
       "        vertical-align: top;\n",
       "    }\n",
       "\n",
       "    .dataframe thead th {\n",
       "        text-align: right;\n",
       "    }\n",
       "</style>\n",
       "<table border=\"1\" class=\"dataframe\">\n",
       "  <thead>\n",
       "    <tr style=\"text-align: right;\">\n",
       "      <th></th>\n",
       "      <th>tconst</th>\n",
       "      <th>averageRating</th>\n",
       "      <th>numVotes</th>\n",
       "    </tr>\n",
       "  </thead>\n",
       "  <tbody>\n",
       "    <tr>\n",
       "      <th>0</th>\n",
       "      <td>tt0000001</td>\n",
       "      <td>5.7</td>\n",
       "      <td>1983</td>\n",
       "    </tr>\n",
       "    <tr>\n",
       "      <th>1</th>\n",
       "      <td>tt0000002</td>\n",
       "      <td>5.8</td>\n",
       "      <td>265</td>\n",
       "    </tr>\n",
       "    <tr>\n",
       "      <th>2</th>\n",
       "      <td>tt0000003</td>\n",
       "      <td>6.5</td>\n",
       "      <td>1839</td>\n",
       "    </tr>\n",
       "  </tbody>\n",
       "</table>\n",
       "</div>"
      ],
      "text/plain": [
       "      tconst  averageRating  numVotes\n",
       "0  tt0000001            5.7      1983\n",
       "1  tt0000002            5.8       265\n",
       "2  tt0000003            6.5      1839"
      ]
     },
     "execution_count": 234,
     "metadata": {},
     "output_type": "execute_result"
    }
   ],
   "source": [
    "ratings.head(3)"
   ]
  },
  {
   "cell_type": "code",
   "execution_count": 235,
   "id": "0979b173",
   "metadata": {
    "scrolled": true
   },
   "outputs": [
    {
     "data": {
      "text/html": [
       "<div>\n",
       "<style scoped>\n",
       "    .dataframe tbody tr th:only-of-type {\n",
       "        vertical-align: middle;\n",
       "    }\n",
       "\n",
       "    .dataframe tbody tr th {\n",
       "        vertical-align: top;\n",
       "    }\n",
       "\n",
       "    .dataframe thead th {\n",
       "        text-align: right;\n",
       "    }\n",
       "</style>\n",
       "<table border=\"1\" class=\"dataframe\">\n",
       "  <thead>\n",
       "    <tr style=\"text-align: right;\">\n",
       "      <th></th>\n",
       "      <th>titleId</th>\n",
       "      <th>ordering</th>\n",
       "      <th>title</th>\n",
       "      <th>region</th>\n",
       "      <th>language</th>\n",
       "      <th>types</th>\n",
       "      <th>attributes</th>\n",
       "      <th>isOriginalTitle</th>\n",
       "    </tr>\n",
       "  </thead>\n",
       "  <tbody>\n",
       "    <tr>\n",
       "      <th>0</th>\n",
       "      <td>tt0000001</td>\n",
       "      <td>1</td>\n",
       "      <td>Карменсіта</td>\n",
       "      <td>UA</td>\n",
       "      <td>\\N</td>\n",
       "      <td>imdbDisplay</td>\n",
       "      <td>\\N</td>\n",
       "      <td>0</td>\n",
       "    </tr>\n",
       "    <tr>\n",
       "      <th>1</th>\n",
       "      <td>tt0000001</td>\n",
       "      <td>2</td>\n",
       "      <td>Carmencita</td>\n",
       "      <td>DE</td>\n",
       "      <td>\\N</td>\n",
       "      <td>\\N</td>\n",
       "      <td>literal title</td>\n",
       "      <td>0</td>\n",
       "    </tr>\n",
       "    <tr>\n",
       "      <th>2</th>\n",
       "      <td>tt0000001</td>\n",
       "      <td>3</td>\n",
       "      <td>Carmencita - spanyol tánc</td>\n",
       "      <td>HU</td>\n",
       "      <td>\\N</td>\n",
       "      <td>imdbDisplay</td>\n",
       "      <td>\\N</td>\n",
       "      <td>0</td>\n",
       "    </tr>\n",
       "  </tbody>\n",
       "</table>\n",
       "</div>"
      ],
      "text/plain": [
       "     titleId  ordering                      title region language  \\\n",
       "0  tt0000001         1                 Карменсіта     UA       \\N   \n",
       "1  tt0000001         2                 Carmencita     DE       \\N   \n",
       "2  tt0000001         3  Carmencita - spanyol tánc     HU       \\N   \n",
       "\n",
       "         types     attributes isOriginalTitle  \n",
       "0  imdbDisplay             \\N               0  \n",
       "1           \\N  literal title               0  \n",
       "2  imdbDisplay             \\N               0  "
      ]
     },
     "execution_count": 235,
     "metadata": {},
     "output_type": "execute_result"
    }
   ],
   "source": [
    "akas.head(3)"
   ]
  },
  {
   "cell_type": "code",
   "execution_count": 236,
   "id": "ab66cc51",
   "metadata": {},
   "outputs": [],
   "source": [
    "basics_copy = basics"
   ]
  },
  {
   "cell_type": "code",
   "execution_count": 237,
   "id": "64eab880",
   "metadata": {},
   "outputs": [],
   "source": [
    "ratings_copy = ratings"
   ]
  },
  {
   "cell_type": "code",
   "execution_count": 238,
   "id": "65dcb47b",
   "metadata": {},
   "outputs": [],
   "source": [
    "akas_copy = akas"
   ]
  },
  {
   "cell_type": "code",
   "execution_count": 239,
   "id": "b88c23c9",
   "metadata": {},
   "outputs": [],
   "source": [
    "# Restore original copy of data due to error in processing\n",
    "ratings = ratings_copy\n",
    "akas = akas_copy"
   ]
  },
  {
   "cell_type": "code",
   "execution_count": 240,
   "id": "cc78e449",
   "metadata": {},
   "outputs": [],
   "source": [
    "# Restore original copy of data due to error in processing\n",
    "basics = basics_copy"
   ]
  },
  {
   "cell_type": "markdown",
   "id": "af876354",
   "metadata": {},
   "source": [
    "## Data Cleaning"
   ]
  },
  {
   "cell_type": "markdown",
   "id": "38a5e9fa",
   "metadata": {},
   "source": [
    "### Remove '\\N' values\n",
    "\n",
    "'\\N' is the null value used that needs to be removed."
   ]
  },
  {
   "cell_type": "markdown",
   "id": "f1ae1030",
   "metadata": {},
   "source": [
    "#### akas df"
   ]
  },
  {
   "cell_type": "code",
   "execution_count": 241,
   "id": "351f10a8",
   "metadata": {},
   "outputs": [
    {
     "data": {
      "text/plain": [
       "\\N    6653810\n",
       "ja    4225929\n",
       "fr    4196752\n",
       "hi    4163775\n",
       "es    4132689\n",
       "       ...   \n",
       "sq          1\n",
       "jv          1\n",
       "su          1\n",
       "rm          1\n",
       "cr          1\n",
       "Name: language, Length: 108, dtype: int64"
      ]
     },
     "execution_count": 241,
     "metadata": {},
     "output_type": "execute_result"
    }
   ],
   "source": [
    "akas['language'].value_counts()"
   ]
  },
  {
   "cell_type": "code",
   "execution_count": 242,
   "id": "c98626fc",
   "metadata": {},
   "outputs": [
    {
     "data": {
      "text/html": [
       "<div>\n",
       "<style scoped>\n",
       "    .dataframe tbody tr th:only-of-type {\n",
       "        vertical-align: middle;\n",
       "    }\n",
       "\n",
       "    .dataframe tbody tr th {\n",
       "        vertical-align: top;\n",
       "    }\n",
       "\n",
       "    .dataframe thead th {\n",
       "        text-align: right;\n",
       "    }\n",
       "</style>\n",
       "<table border=\"1\" class=\"dataframe\">\n",
       "  <thead>\n",
       "    <tr style=\"text-align: right;\">\n",
       "      <th></th>\n",
       "      <th>titleId</th>\n",
       "      <th>ordering</th>\n",
       "      <th>title</th>\n",
       "      <th>region</th>\n",
       "      <th>language</th>\n",
       "      <th>types</th>\n",
       "      <th>attributes</th>\n",
       "      <th>isOriginalTitle</th>\n",
       "    </tr>\n",
       "  </thead>\n",
       "  <tbody>\n",
       "    <tr>\n",
       "      <th>0</th>\n",
       "      <td>False</td>\n",
       "      <td>False</td>\n",
       "      <td>False</td>\n",
       "      <td>False</td>\n",
       "      <td>True</td>\n",
       "      <td>False</td>\n",
       "      <td>True</td>\n",
       "      <td>False</td>\n",
       "    </tr>\n",
       "    <tr>\n",
       "      <th>1</th>\n",
       "      <td>False</td>\n",
       "      <td>False</td>\n",
       "      <td>False</td>\n",
       "      <td>False</td>\n",
       "      <td>True</td>\n",
       "      <td>True</td>\n",
       "      <td>False</td>\n",
       "      <td>False</td>\n",
       "    </tr>\n",
       "    <tr>\n",
       "      <th>2</th>\n",
       "      <td>False</td>\n",
       "      <td>False</td>\n",
       "      <td>False</td>\n",
       "      <td>False</td>\n",
       "      <td>True</td>\n",
       "      <td>False</td>\n",
       "      <td>True</td>\n",
       "      <td>False</td>\n",
       "    </tr>\n",
       "    <tr>\n",
       "      <th>3</th>\n",
       "      <td>False</td>\n",
       "      <td>False</td>\n",
       "      <td>False</td>\n",
       "      <td>False</td>\n",
       "      <td>True</td>\n",
       "      <td>False</td>\n",
       "      <td>True</td>\n",
       "      <td>False</td>\n",
       "    </tr>\n",
       "    <tr>\n",
       "      <th>4</th>\n",
       "      <td>False</td>\n",
       "      <td>False</td>\n",
       "      <td>False</td>\n",
       "      <td>False</td>\n",
       "      <td>True</td>\n",
       "      <td>False</td>\n",
       "      <td>True</td>\n",
       "      <td>False</td>\n",
       "    </tr>\n",
       "    <tr>\n",
       "      <th>...</th>\n",
       "      <td>...</td>\n",
       "      <td>...</td>\n",
       "      <td>...</td>\n",
       "      <td>...</td>\n",
       "      <td>...</td>\n",
       "      <td>...</td>\n",
       "      <td>...</td>\n",
       "      <td>...</td>\n",
       "    </tr>\n",
       "    <tr>\n",
       "      <th>36425028</th>\n",
       "      <td>False</td>\n",
       "      <td>False</td>\n",
       "      <td>False</td>\n",
       "      <td>False</td>\n",
       "      <td>False</td>\n",
       "      <td>True</td>\n",
       "      <td>True</td>\n",
       "      <td>False</td>\n",
       "    </tr>\n",
       "    <tr>\n",
       "      <th>36425029</th>\n",
       "      <td>False</td>\n",
       "      <td>False</td>\n",
       "      <td>False</td>\n",
       "      <td>False</td>\n",
       "      <td>False</td>\n",
       "      <td>True</td>\n",
       "      <td>True</td>\n",
       "      <td>False</td>\n",
       "    </tr>\n",
       "    <tr>\n",
       "      <th>36425030</th>\n",
       "      <td>False</td>\n",
       "      <td>False</td>\n",
       "      <td>False</td>\n",
       "      <td>False</td>\n",
       "      <td>False</td>\n",
       "      <td>True</td>\n",
       "      <td>True</td>\n",
       "      <td>False</td>\n",
       "    </tr>\n",
       "    <tr>\n",
       "      <th>36425031</th>\n",
       "      <td>False</td>\n",
       "      <td>False</td>\n",
       "      <td>False</td>\n",
       "      <td>False</td>\n",
       "      <td>True</td>\n",
       "      <td>False</td>\n",
       "      <td>True</td>\n",
       "      <td>False</td>\n",
       "    </tr>\n",
       "    <tr>\n",
       "      <th>36425032</th>\n",
       "      <td>False</td>\n",
       "      <td>False</td>\n",
       "      <td>False</td>\n",
       "      <td>True</td>\n",
       "      <td>True</td>\n",
       "      <td>False</td>\n",
       "      <td>True</td>\n",
       "      <td>False</td>\n",
       "    </tr>\n",
       "  </tbody>\n",
       "</table>\n",
       "<p>36425033 rows × 8 columns</p>\n",
       "</div>"
      ],
      "text/plain": [
       "          titleId  ordering  title  region  language  types  attributes  \\\n",
       "0           False     False  False   False      True  False        True   \n",
       "1           False     False  False   False      True   True       False   \n",
       "2           False     False  False   False      True  False        True   \n",
       "3           False     False  False   False      True  False        True   \n",
       "4           False     False  False   False      True  False        True   \n",
       "...           ...       ...    ...     ...       ...    ...         ...   \n",
       "36425028    False     False  False   False     False   True        True   \n",
       "36425029    False     False  False   False     False   True        True   \n",
       "36425030    False     False  False   False     False   True        True   \n",
       "36425031    False     False  False   False      True  False        True   \n",
       "36425032    False     False  False    True      True  False        True   \n",
       "\n",
       "          isOriginalTitle  \n",
       "0                   False  \n",
       "1                   False  \n",
       "2                   False  \n",
       "3                   False  \n",
       "4                   False  \n",
       "...                   ...  \n",
       "36425028            False  \n",
       "36425029            False  \n",
       "36425030            False  \n",
       "36425031            False  \n",
       "36425032            False  \n",
       "\n",
       "[36425033 rows x 8 columns]"
      ]
     },
     "execution_count": 242,
     "metadata": {},
     "output_type": "execute_result"
    }
   ],
   "source": [
    "# see if a working filter can be found for '\\N'\n",
    "filter_akas = akas == '\\\\N'\n",
    "filter_akas"
   ]
  },
  {
   "cell_type": "code",
   "execution_count": 243,
   "id": "bbc0c028",
   "metadata": {},
   "outputs": [
    {
     "data": {
      "text/html": [
       "<div>\n",
       "<style scoped>\n",
       "    .dataframe tbody tr th:only-of-type {\n",
       "        vertical-align: middle;\n",
       "    }\n",
       "\n",
       "    .dataframe tbody tr th {\n",
       "        vertical-align: top;\n",
       "    }\n",
       "\n",
       "    .dataframe thead th {\n",
       "        text-align: right;\n",
       "    }\n",
       "</style>\n",
       "<table border=\"1\" class=\"dataframe\">\n",
       "  <thead>\n",
       "    <tr style=\"text-align: right;\">\n",
       "      <th></th>\n",
       "      <th>titleId</th>\n",
       "      <th>ordering</th>\n",
       "      <th>title</th>\n",
       "      <th>region</th>\n",
       "      <th>language</th>\n",
       "      <th>types</th>\n",
       "      <th>attributes</th>\n",
       "      <th>isOriginalTitle</th>\n",
       "    </tr>\n",
       "  </thead>\n",
       "  <tbody>\n",
       "    <tr>\n",
       "      <th>False</th>\n",
       "      <td>36425033.0</td>\n",
       "      <td>36425033.0</td>\n",
       "      <td>36425033.0</td>\n",
       "      <td>34529923</td>\n",
       "      <td>29771223</td>\n",
       "      <td>5598462</td>\n",
       "      <td>261989</td>\n",
       "      <td>36422955</td>\n",
       "    </tr>\n",
       "    <tr>\n",
       "      <th>True</th>\n",
       "      <td>NaN</td>\n",
       "      <td>NaN</td>\n",
       "      <td>NaN</td>\n",
       "      <td>1895110</td>\n",
       "      <td>6653810</td>\n",
       "      <td>30826571</td>\n",
       "      <td>36163044</td>\n",
       "      <td>2078</td>\n",
       "    </tr>\n",
       "  </tbody>\n",
       "</table>\n",
       "</div>"
      ],
      "text/plain": [
       "          titleId    ordering       title    region  language     types  \\\n",
       "False  36425033.0  36425033.0  36425033.0  34529923  29771223   5598462   \n",
       "True          NaN         NaN         NaN   1895110   6653810  30826571   \n",
       "\n",
       "       attributes  isOriginalTitle  \n",
       "False      261989         36422955  \n",
       "True     36163044             2078  "
      ]
     },
     "execution_count": 243,
     "metadata": {},
     "output_type": "execute_result"
    }
   ],
   "source": [
    "# count the number of '\\N' values (returned as 'True') in df\n",
    "filter_akas.apply(pd.Series.value_counts)"
   ]
  },
  {
   "cell_type": "code",
   "execution_count": 244,
   "id": "a6e68318",
   "metadata": {},
   "outputs": [],
   "source": [
    "# replace all '\\N' values with NaN\n",
    "akas = akas.replace({'\\\\N':np.nan})"
   ]
  },
  {
   "cell_type": "code",
   "execution_count": 245,
   "id": "9eb1adc0",
   "metadata": {},
   "outputs": [
    {
     "data": {
      "text/html": [
       "<div>\n",
       "<style scoped>\n",
       "    .dataframe tbody tr th:only-of-type {\n",
       "        vertical-align: middle;\n",
       "    }\n",
       "\n",
       "    .dataframe tbody tr th {\n",
       "        vertical-align: top;\n",
       "    }\n",
       "\n",
       "    .dataframe thead th {\n",
       "        text-align: right;\n",
       "    }\n",
       "</style>\n",
       "<table border=\"1\" class=\"dataframe\">\n",
       "  <thead>\n",
       "    <tr style=\"text-align: right;\">\n",
       "      <th></th>\n",
       "      <th>titleId</th>\n",
       "      <th>ordering</th>\n",
       "      <th>title</th>\n",
       "      <th>region</th>\n",
       "      <th>language</th>\n",
       "      <th>types</th>\n",
       "      <th>attributes</th>\n",
       "      <th>isOriginalTitle</th>\n",
       "    </tr>\n",
       "  </thead>\n",
       "  <tbody>\n",
       "    <tr>\n",
       "      <th>False</th>\n",
       "      <td>36425033.0</td>\n",
       "      <td>36425033.0</td>\n",
       "      <td>36425033.0</td>\n",
       "      <td>34529923</td>\n",
       "      <td>29771223</td>\n",
       "      <td>5598462</td>\n",
       "      <td>261989</td>\n",
       "      <td>36422955</td>\n",
       "    </tr>\n",
       "    <tr>\n",
       "      <th>True</th>\n",
       "      <td>NaN</td>\n",
       "      <td>NaN</td>\n",
       "      <td>NaN</td>\n",
       "      <td>1895110</td>\n",
       "      <td>6653810</td>\n",
       "      <td>30826571</td>\n",
       "      <td>36163044</td>\n",
       "      <td>2078</td>\n",
       "    </tr>\n",
       "  </tbody>\n",
       "</table>\n",
       "</div>"
      ],
      "text/plain": [
       "          titleId    ordering       title    region  language     types  \\\n",
       "False  36425033.0  36425033.0  36425033.0  34529923  29771223   5598462   \n",
       "True          NaN         NaN         NaN   1895110   6653810  30826571   \n",
       "\n",
       "       attributes  isOriginalTitle  \n",
       "False      261989         36422955  \n",
       "True     36163044             2078  "
      ]
     },
     "execution_count": 245,
     "metadata": {},
     "output_type": "execute_result"
    }
   ],
   "source": [
    "# Verify that all '\\N' values have been replace with Nan: no 'True' values\n",
    "filter_akas.apply(pd.Series.value_counts)"
   ]
  },
  {
   "cell_type": "code",
   "execution_count": 246,
   "id": "f291a632",
   "metadata": {},
   "outputs": [
    {
     "data": {
      "text/html": [
       "<div>\n",
       "<style scoped>\n",
       "    .dataframe tbody tr th:only-of-type {\n",
       "        vertical-align: middle;\n",
       "    }\n",
       "\n",
       "    .dataframe tbody tr th {\n",
       "        vertical-align: top;\n",
       "    }\n",
       "\n",
       "    .dataframe thead th {\n",
       "        text-align: right;\n",
       "    }\n",
       "</style>\n",
       "<table border=\"1\" class=\"dataframe\">\n",
       "  <thead>\n",
       "    <tr style=\"text-align: right;\">\n",
       "      <th></th>\n",
       "      <th>titleId</th>\n",
       "      <th>ordering</th>\n",
       "      <th>title</th>\n",
       "      <th>region</th>\n",
       "      <th>language</th>\n",
       "      <th>types</th>\n",
       "      <th>attributes</th>\n",
       "      <th>isOriginalTitle</th>\n",
       "    </tr>\n",
       "  </thead>\n",
       "  <tbody>\n",
       "    <tr>\n",
       "      <th>0</th>\n",
       "      <td>False</td>\n",
       "      <td>False</td>\n",
       "      <td>False</td>\n",
       "      <td>False</td>\n",
       "      <td>False</td>\n",
       "      <td>False</td>\n",
       "      <td>False</td>\n",
       "      <td>False</td>\n",
       "    </tr>\n",
       "    <tr>\n",
       "      <th>1</th>\n",
       "      <td>False</td>\n",
       "      <td>False</td>\n",
       "      <td>False</td>\n",
       "      <td>False</td>\n",
       "      <td>False</td>\n",
       "      <td>False</td>\n",
       "      <td>False</td>\n",
       "      <td>False</td>\n",
       "    </tr>\n",
       "    <tr>\n",
       "      <th>2</th>\n",
       "      <td>False</td>\n",
       "      <td>False</td>\n",
       "      <td>False</td>\n",
       "      <td>False</td>\n",
       "      <td>False</td>\n",
       "      <td>False</td>\n",
       "      <td>False</td>\n",
       "      <td>False</td>\n",
       "    </tr>\n",
       "    <tr>\n",
       "      <th>3</th>\n",
       "      <td>False</td>\n",
       "      <td>False</td>\n",
       "      <td>False</td>\n",
       "      <td>False</td>\n",
       "      <td>False</td>\n",
       "      <td>False</td>\n",
       "      <td>False</td>\n",
       "      <td>False</td>\n",
       "    </tr>\n",
       "    <tr>\n",
       "      <th>4</th>\n",
       "      <td>False</td>\n",
       "      <td>False</td>\n",
       "      <td>False</td>\n",
       "      <td>False</td>\n",
       "      <td>False</td>\n",
       "      <td>False</td>\n",
       "      <td>False</td>\n",
       "      <td>False</td>\n",
       "    </tr>\n",
       "    <tr>\n",
       "      <th>...</th>\n",
       "      <td>...</td>\n",
       "      <td>...</td>\n",
       "      <td>...</td>\n",
       "      <td>...</td>\n",
       "      <td>...</td>\n",
       "      <td>...</td>\n",
       "      <td>...</td>\n",
       "      <td>...</td>\n",
       "    </tr>\n",
       "    <tr>\n",
       "      <th>36425028</th>\n",
       "      <td>False</td>\n",
       "      <td>False</td>\n",
       "      <td>False</td>\n",
       "      <td>False</td>\n",
       "      <td>False</td>\n",
       "      <td>False</td>\n",
       "      <td>False</td>\n",
       "      <td>False</td>\n",
       "    </tr>\n",
       "    <tr>\n",
       "      <th>36425029</th>\n",
       "      <td>False</td>\n",
       "      <td>False</td>\n",
       "      <td>False</td>\n",
       "      <td>False</td>\n",
       "      <td>False</td>\n",
       "      <td>False</td>\n",
       "      <td>False</td>\n",
       "      <td>False</td>\n",
       "    </tr>\n",
       "    <tr>\n",
       "      <th>36425030</th>\n",
       "      <td>False</td>\n",
       "      <td>False</td>\n",
       "      <td>False</td>\n",
       "      <td>False</td>\n",
       "      <td>False</td>\n",
       "      <td>False</td>\n",
       "      <td>False</td>\n",
       "      <td>False</td>\n",
       "    </tr>\n",
       "    <tr>\n",
       "      <th>36425031</th>\n",
       "      <td>False</td>\n",
       "      <td>False</td>\n",
       "      <td>False</td>\n",
       "      <td>False</td>\n",
       "      <td>False</td>\n",
       "      <td>False</td>\n",
       "      <td>False</td>\n",
       "      <td>False</td>\n",
       "    </tr>\n",
       "    <tr>\n",
       "      <th>36425032</th>\n",
       "      <td>False</td>\n",
       "      <td>False</td>\n",
       "      <td>False</td>\n",
       "      <td>False</td>\n",
       "      <td>False</td>\n",
       "      <td>False</td>\n",
       "      <td>False</td>\n",
       "      <td>False</td>\n",
       "    </tr>\n",
       "  </tbody>\n",
       "</table>\n",
       "<p>36425033 rows × 8 columns</p>\n",
       "</div>"
      ],
      "text/plain": [
       "          titleId  ordering  title  region  language  types  attributes  \\\n",
       "0           False     False  False   False     False  False       False   \n",
       "1           False     False  False   False     False  False       False   \n",
       "2           False     False  False   False     False  False       False   \n",
       "3           False     False  False   False     False  False       False   \n",
       "4           False     False  False   False     False  False       False   \n",
       "...           ...       ...    ...     ...       ...    ...         ...   \n",
       "36425028    False     False  False   False     False  False       False   \n",
       "36425029    False     False  False   False     False  False       False   \n",
       "36425030    False     False  False   False     False  False       False   \n",
       "36425031    False     False  False   False     False  False       False   \n",
       "36425032    False     False  False   False     False  False       False   \n",
       "\n",
       "          isOriginalTitle  \n",
       "0                   False  \n",
       "1                   False  \n",
       "2                   False  \n",
       "3                   False  \n",
       "4                   False  \n",
       "...                   ...  \n",
       "36425028            False  \n",
       "36425029            False  \n",
       "36425030            False  \n",
       "36425031            False  \n",
       "36425032            False  \n",
       "\n",
       "[36425033 rows x 8 columns]"
      ]
     },
     "execution_count": 246,
     "metadata": {},
     "output_type": "execute_result"
    }
   ],
   "source": [
    "# Create updated df filter to see if any '\\N' values remain\n",
    "filter_akas_nan = akas == '\\\\N'\n",
    "filter_akas_nan"
   ]
  },
  {
   "cell_type": "code",
   "execution_count": 247,
   "id": "307a33fb",
   "metadata": {},
   "outputs": [
    {
     "data": {
      "text/html": [
       "<div>\n",
       "<style scoped>\n",
       "    .dataframe tbody tr th:only-of-type {\n",
       "        vertical-align: middle;\n",
       "    }\n",
       "\n",
       "    .dataframe tbody tr th {\n",
       "        vertical-align: top;\n",
       "    }\n",
       "\n",
       "    .dataframe thead th {\n",
       "        text-align: right;\n",
       "    }\n",
       "</style>\n",
       "<table border=\"1\" class=\"dataframe\">\n",
       "  <thead>\n",
       "    <tr style=\"text-align: right;\">\n",
       "      <th></th>\n",
       "      <th>titleId</th>\n",
       "      <th>ordering</th>\n",
       "      <th>title</th>\n",
       "      <th>region</th>\n",
       "      <th>language</th>\n",
       "      <th>types</th>\n",
       "      <th>attributes</th>\n",
       "      <th>isOriginalTitle</th>\n",
       "    </tr>\n",
       "  </thead>\n",
       "  <tbody>\n",
       "    <tr>\n",
       "      <th>False</th>\n",
       "      <td>36425033</td>\n",
       "      <td>36425033</td>\n",
       "      <td>36425033</td>\n",
       "      <td>36425033</td>\n",
       "      <td>36425033</td>\n",
       "      <td>36425033</td>\n",
       "      <td>36425033</td>\n",
       "      <td>36425033</td>\n",
       "    </tr>\n",
       "  </tbody>\n",
       "</table>\n",
       "</div>"
      ],
      "text/plain": [
       "        titleId  ordering     title    region  language     types  attributes  \\\n",
       "False  36425033  36425033  36425033  36425033  36425033  36425033    36425033   \n",
       "\n",
       "       isOriginalTitle  \n",
       "False         36425033  "
      ]
     },
     "execution_count": 247,
     "metadata": {},
     "output_type": "execute_result"
    }
   ],
   "source": [
    "# count the number of '\\N' values (returned as 'True') in df\n",
    "filter_akas_nan.apply(pd.Series.value_counts)"
   ]
  },
  {
   "cell_type": "markdown",
   "id": "a0f92996",
   "metadata": {},
   "source": [
    "All '\\N' values in 'akas' df have been removed.\n",
    "\n",
    "Repeat for 'ratings' and 'basics'"
   ]
  },
  {
   "cell_type": "markdown",
   "id": "a06e2793",
   "metadata": {},
   "source": [
    "#### ratings df"
   ]
  },
  {
   "cell_type": "code",
   "execution_count": 248,
   "id": "092fabee",
   "metadata": {},
   "outputs": [
    {
     "data": {
      "text/html": [
       "<div>\n",
       "<style scoped>\n",
       "    .dataframe tbody tr th:only-of-type {\n",
       "        vertical-align: middle;\n",
       "    }\n",
       "\n",
       "    .dataframe tbody tr th {\n",
       "        vertical-align: top;\n",
       "    }\n",
       "\n",
       "    .dataframe thead th {\n",
       "        text-align: right;\n",
       "    }\n",
       "</style>\n",
       "<table border=\"1\" class=\"dataframe\">\n",
       "  <thead>\n",
       "    <tr style=\"text-align: right;\">\n",
       "      <th></th>\n",
       "      <th>tconst</th>\n",
       "      <th>averageRating</th>\n",
       "      <th>numVotes</th>\n",
       "    </tr>\n",
       "  </thead>\n",
       "  <tbody>\n",
       "    <tr>\n",
       "      <th>False</th>\n",
       "      <td>1325919</td>\n",
       "      <td>1325919</td>\n",
       "      <td>1325919</td>\n",
       "    </tr>\n",
       "  </tbody>\n",
       "</table>\n",
       "</div>"
      ],
      "text/plain": [
       "        tconst  averageRating  numVotes\n",
       "False  1325919        1325919   1325919"
      ]
     },
     "execution_count": 248,
     "metadata": {},
     "output_type": "execute_result"
    }
   ],
   "source": [
    "# see if a working filter can be found for '\\N'\n",
    "filter_ratings = ratings == '\\\\N'\n",
    "\n",
    "# count the number of '\\N' values (returned as 'True') in df\n",
    "filter_ratings.apply(pd.Series.value_counts)"
   ]
  },
  {
   "cell_type": "markdown",
   "id": "446d4f73",
   "metadata": {},
   "source": [
    "No '\\N' values found in 'ratings' df"
   ]
  },
  {
   "cell_type": "markdown",
   "id": "18be21fd",
   "metadata": {},
   "source": [
    "#### basics df"
   ]
  },
  {
   "cell_type": "code",
   "execution_count": 249,
   "id": "13da3601",
   "metadata": {},
   "outputs": [
    {
     "data": {
      "text/html": [
       "<div>\n",
       "<style scoped>\n",
       "    .dataframe tbody tr th:only-of-type {\n",
       "        vertical-align: middle;\n",
       "    }\n",
       "\n",
       "    .dataframe tbody tr th {\n",
       "        vertical-align: top;\n",
       "    }\n",
       "\n",
       "    .dataframe thead th {\n",
       "        text-align: right;\n",
       "    }\n",
       "</style>\n",
       "<table border=\"1\" class=\"dataframe\">\n",
       "  <thead>\n",
       "    <tr style=\"text-align: right;\">\n",
       "      <th></th>\n",
       "      <th>tconst</th>\n",
       "      <th>titleType</th>\n",
       "      <th>primaryTitle</th>\n",
       "      <th>originalTitle</th>\n",
       "      <th>isAdult</th>\n",
       "      <th>startYear</th>\n",
       "      <th>endYear</th>\n",
       "      <th>runtimeMinutes</th>\n",
       "      <th>genres</th>\n",
       "    </tr>\n",
       "  </thead>\n",
       "  <tbody>\n",
       "    <tr>\n",
       "      <th>False</th>\n",
       "      <td>9974457.0</td>\n",
       "      <td>9974457.0</td>\n",
       "      <td>9974457.0</td>\n",
       "      <td>9974457.0</td>\n",
       "      <td>9974456</td>\n",
       "      <td>8629813</td>\n",
       "      <td>109386</td>\n",
       "      <td>2954807</td>\n",
       "      <td>9526486</td>\n",
       "    </tr>\n",
       "    <tr>\n",
       "      <th>True</th>\n",
       "      <td>NaN</td>\n",
       "      <td>NaN</td>\n",
       "      <td>NaN</td>\n",
       "      <td>NaN</td>\n",
       "      <td>1</td>\n",
       "      <td>1344644</td>\n",
       "      <td>9865071</td>\n",
       "      <td>7019650</td>\n",
       "      <td>447971</td>\n",
       "    </tr>\n",
       "  </tbody>\n",
       "</table>\n",
       "</div>"
      ],
      "text/plain": [
       "          tconst  titleType  primaryTitle  originalTitle  isAdult  startYear  \\\n",
       "False  9974457.0  9974457.0     9974457.0      9974457.0  9974456    8629813   \n",
       "True         NaN        NaN           NaN            NaN        1    1344644   \n",
       "\n",
       "       endYear  runtimeMinutes   genres  \n",
       "False   109386         2954807  9526486  \n",
       "True   9865071         7019650   447971  "
      ]
     },
     "execution_count": 249,
     "metadata": {},
     "output_type": "execute_result"
    }
   ],
   "source": [
    "# see if a working filter can be found for '\\N'\n",
    "filter_basics = basics == '\\\\N'\n",
    "\n",
    "# count the number of '\\N' values (returned as 'True') in df\n",
    "filter_basics.apply(pd.Series.value_counts)"
   ]
  },
  {
   "cell_type": "code",
   "execution_count": 250,
   "id": "63efc274",
   "metadata": {},
   "outputs": [
    {
     "data": {
      "text/html": [
       "<div>\n",
       "<style scoped>\n",
       "    .dataframe tbody tr th:only-of-type {\n",
       "        vertical-align: middle;\n",
       "    }\n",
       "\n",
       "    .dataframe tbody tr th {\n",
       "        vertical-align: top;\n",
       "    }\n",
       "\n",
       "    .dataframe thead th {\n",
       "        text-align: right;\n",
       "    }\n",
       "</style>\n",
       "<table border=\"1\" class=\"dataframe\">\n",
       "  <thead>\n",
       "    <tr style=\"text-align: right;\">\n",
       "      <th></th>\n",
       "      <th>tconst</th>\n",
       "      <th>titleType</th>\n",
       "      <th>primaryTitle</th>\n",
       "      <th>originalTitle</th>\n",
       "      <th>isAdult</th>\n",
       "      <th>startYear</th>\n",
       "      <th>endYear</th>\n",
       "      <th>runtimeMinutes</th>\n",
       "      <th>genres</th>\n",
       "    </tr>\n",
       "  </thead>\n",
       "  <tbody>\n",
       "    <tr>\n",
       "      <th>False</th>\n",
       "      <td>9974457.0</td>\n",
       "      <td>9974457.0</td>\n",
       "      <td>9974457.0</td>\n",
       "      <td>9974457.0</td>\n",
       "      <td>9974456</td>\n",
       "      <td>8629813</td>\n",
       "      <td>109386</td>\n",
       "      <td>2954807</td>\n",
       "      <td>9526486</td>\n",
       "    </tr>\n",
       "    <tr>\n",
       "      <th>True</th>\n",
       "      <td>NaN</td>\n",
       "      <td>NaN</td>\n",
       "      <td>NaN</td>\n",
       "      <td>NaN</td>\n",
       "      <td>1</td>\n",
       "      <td>1344644</td>\n",
       "      <td>9865071</td>\n",
       "      <td>7019650</td>\n",
       "      <td>447971</td>\n",
       "    </tr>\n",
       "  </tbody>\n",
       "</table>\n",
       "</div>"
      ],
      "text/plain": [
       "          tconst  titleType  primaryTitle  originalTitle  isAdult  startYear  \\\n",
       "False  9974457.0  9974457.0     9974457.0      9974457.0  9974456    8629813   \n",
       "True         NaN        NaN           NaN            NaN        1    1344644   \n",
       "\n",
       "       endYear  runtimeMinutes   genres  \n",
       "False   109386         2954807  9526486  \n",
       "True   9865071         7019650   447971  "
      ]
     },
     "execution_count": 250,
     "metadata": {},
     "output_type": "execute_result"
    }
   ],
   "source": [
    "# replace all '\\N' values with NaN\n",
    "basics = basics.replace({'\\\\N':np.nan})\n",
    "\n",
    "# Verify that all '\\N' values have been replace with Nan: no 'True' values\n",
    "filter_basics.apply(pd.Series.value_counts)"
   ]
  },
  {
   "cell_type": "code",
   "execution_count": 251,
   "id": "bef1aa9d",
   "metadata": {},
   "outputs": [
    {
     "data": {
      "text/html": [
       "<div>\n",
       "<style scoped>\n",
       "    .dataframe tbody tr th:only-of-type {\n",
       "        vertical-align: middle;\n",
       "    }\n",
       "\n",
       "    .dataframe tbody tr th {\n",
       "        vertical-align: top;\n",
       "    }\n",
       "\n",
       "    .dataframe thead th {\n",
       "        text-align: right;\n",
       "    }\n",
       "</style>\n",
       "<table border=\"1\" class=\"dataframe\">\n",
       "  <thead>\n",
       "    <tr style=\"text-align: right;\">\n",
       "      <th></th>\n",
       "      <th>tconst</th>\n",
       "      <th>titleType</th>\n",
       "      <th>primaryTitle</th>\n",
       "      <th>originalTitle</th>\n",
       "      <th>isAdult</th>\n",
       "      <th>startYear</th>\n",
       "      <th>endYear</th>\n",
       "      <th>runtimeMinutes</th>\n",
       "      <th>genres</th>\n",
       "    </tr>\n",
       "  </thead>\n",
       "  <tbody>\n",
       "    <tr>\n",
       "      <th>False</th>\n",
       "      <td>9974457</td>\n",
       "      <td>9974457</td>\n",
       "      <td>9974457</td>\n",
       "      <td>9974457</td>\n",
       "      <td>9974457</td>\n",
       "      <td>9974457</td>\n",
       "      <td>9974457</td>\n",
       "      <td>9974457</td>\n",
       "      <td>9974457</td>\n",
       "    </tr>\n",
       "  </tbody>\n",
       "</table>\n",
       "</div>"
      ],
      "text/plain": [
       "        tconst  titleType  primaryTitle  originalTitle  isAdult  startYear  \\\n",
       "False  9974457    9974457       9974457        9974457  9974457    9974457   \n",
       "\n",
       "       endYear  runtimeMinutes   genres  \n",
       "False  9974457         9974457  9974457  "
      ]
     },
     "execution_count": 251,
     "metadata": {},
     "output_type": "execute_result"
    }
   ],
   "source": [
    "# Create updated df filter to see if any '\\N' values remain\n",
    "filter_basics_nan = basics == '\\\\N'\n",
    "\n",
    "# count the number of '\\N' values (returned as 'True') in df\n",
    "filter_basics_nan.apply(pd.Series.value_counts)"
   ]
  },
  {
   "cell_type": "markdown",
   "id": "c0503f20",
   "metadata": {},
   "source": [
    "All '\\N' values in 'basics' df have been removed.\n",
    "\n",
    "All three dfs have been updated."
   ]
  },
  {
   "cell_type": "markdown",
   "id": "5152d76b",
   "metadata": {},
   "source": [
    "### Remove Movies w/ null runtimeMinutes\n",
    "\n",
    "in basics df"
   ]
  },
  {
   "cell_type": "code",
   "execution_count": 252,
   "id": "850ead6b",
   "metadata": {},
   "outputs": [
    {
     "data": {
      "text/plain": [
       "7019650"
      ]
     },
     "execution_count": 252,
     "metadata": {},
     "output_type": "execute_result"
    }
   ],
   "source": [
    "# Count number of movies with a null value for 'runtimeMinutes' column\n",
    "basics['runtimeMinutes'].isna().sum()"
   ]
  },
  {
   "cell_type": "code",
   "execution_count": 253,
   "id": "6654c3fd",
   "metadata": {},
   "outputs": [],
   "source": [
    "# Remove all movies with null values for 'runtimeMinutes'\n",
    "basics.dropna(subset = ['runtimeMinutes'], inplace = True)"
   ]
  },
  {
   "cell_type": "code",
   "execution_count": 254,
   "id": "a3fd33fa",
   "metadata": {},
   "outputs": [
    {
     "data": {
      "text/plain": [
       "0"
      ]
     },
     "execution_count": 254,
     "metadata": {},
     "output_type": "execute_result"
    }
   ],
   "source": [
    "# Verify movies with a null value for 'runtimeMinutes' have been removed\n",
    "basics['runtimeMinutes'].isna().sum()"
   ]
  },
  {
   "cell_type": "markdown",
   "id": "75f8617c",
   "metadata": {},
   "source": [
    "All null values removed from 'runtimeMinutes'"
   ]
  },
  {
   "cell_type": "markdown",
   "id": "b8adbcc3",
   "metadata": {},
   "source": [
    "### Remove Movies w/ null genre\n",
    "\n",
    "in basics df"
   ]
  },
  {
   "cell_type": "code",
   "execution_count": 255,
   "id": "61cddb16",
   "metadata": {
    "scrolled": true
   },
   "outputs": [
    {
     "data": {
      "text/plain": [
       "76802"
      ]
     },
     "execution_count": 255,
     "metadata": {},
     "output_type": "execute_result"
    }
   ],
   "source": [
    "# Count number of movies with a null value for 'genres' column\n",
    "basics['genres'].isna().sum()"
   ]
  },
  {
   "cell_type": "code",
   "execution_count": 256,
   "id": "036b5898",
   "metadata": {},
   "outputs": [],
   "source": [
    "# Remove all movies with null values for 'genres'\n",
    "basics.dropna(subset = ['genres'], inplace = True)"
   ]
  },
  {
   "cell_type": "code",
   "execution_count": 257,
   "id": "b1a9a577",
   "metadata": {},
   "outputs": [
    {
     "data": {
      "text/plain": [
       "0"
      ]
     },
     "execution_count": 257,
     "metadata": {},
     "output_type": "execute_result"
    }
   ],
   "source": [
    "# Verify movies with a null value for 'genres' have been removed\n",
    "basics['genres'].isna().sum()"
   ]
  },
  {
   "cell_type": "markdown",
   "id": "03271121",
   "metadata": {},
   "source": [
    "All null values removed from 'genres'"
   ]
  },
  {
   "cell_type": "markdown",
   "id": "c9a276e6",
   "metadata": {},
   "source": [
    "### Remove non Movies\n",
    "\n",
    "in basics df"
   ]
  },
  {
   "cell_type": "code",
   "execution_count": 258,
   "id": "93f13c5e",
   "metadata": {},
   "outputs": [
    {
     "data": {
      "text/plain": [
       "tvEpisode       1477481\n",
       "short            605932\n",
       "movie            384628\n",
       "video            181787\n",
       "tvMovie           92186\n",
       "tvSeries          91134\n",
       "tvSpecial         18433\n",
       "tvMiniSeries      17406\n",
       "tvShort            8694\n",
       "videoGame           324\n",
       "Name: titleType, dtype: int64"
      ]
     },
     "execution_count": 258,
     "metadata": {},
     "output_type": "execute_result"
    }
   ],
   "source": [
    "# Check current values for 'titleType'\n",
    "basics['titleType'].value_counts()"
   ]
  },
  {
   "cell_type": "code",
   "execution_count": 259,
   "id": "7cfc1030",
   "metadata": {},
   "outputs": [
    {
     "data": {
      "text/plain": [
       "movie    384628\n",
       "Name: titleType, dtype: int64"
      ]
     },
     "execution_count": 259,
     "metadata": {},
     "output_type": "execute_result"
    }
   ],
   "source": [
    "# Keep only movies\n",
    "basics = basics.loc[basics['titleType'] == 'movie']\n",
    "basics.titleType.value_counts()"
   ]
  },
  {
   "cell_type": "markdown",
   "id": "cb6d4426",
   "metadata": {},
   "source": [
    "Only movie titleType values remain"
   ]
  },
  {
   "cell_type": "markdown",
   "id": "3cf49c1c",
   "metadata": {},
   "source": [
    "### Remove Movies outside of 2000-2022\n",
    "\n",
    "in basics df"
   ]
  },
  {
   "cell_type": "code",
   "execution_count": 260,
   "id": "fd24b1b8",
   "metadata": {},
   "outputs": [
    {
     "data": {
      "text/plain": [
       "2017    14390\n",
       "2018    14361\n",
       "2019    14114\n",
       "2016    13979\n",
       "2015    13488\n",
       "        ...  \n",
       "1899        1\n",
       "1904        1\n",
       "1897        1\n",
       "1896        1\n",
       "1894        1\n",
       "Name: startYear, Length: 130, dtype: int64"
      ]
     },
     "execution_count": 260,
     "metadata": {},
     "output_type": "execute_result"
    }
   ],
   "source": [
    "# Check current values for 'startYear'\n",
    "basics['startYear'].value_counts()"
   ]
  },
  {
   "cell_type": "code",
   "execution_count": 261,
   "id": "4ca11e39",
   "metadata": {
    "scrolled": true
   },
   "outputs": [
    {
     "name": "stdout",
     "output_type": "stream",
     "text": [
      "<class 'pandas.core.series.Series'>\n",
      "Int64Index: 384628 entries, 8 to 9974407\n",
      "Series name: startYear\n",
      "Non-Null Count   Dtype \n",
      "--------------   ----- \n",
      "378108 non-null  object\n",
      "dtypes: object(1)\n",
      "memory usage: 5.9+ MB\n"
     ]
    }
   ],
   "source": [
    "basics.startYear.info()"
   ]
  },
  {
   "cell_type": "code",
   "execution_count": 262,
   "id": "58a1ebe1",
   "metadata": {},
   "outputs": [],
   "source": [
    "# Need to remove NaN values in order to coerce to value type integer\n",
    "basics = basics.dropna(subset = ['startYear'])"
   ]
  },
  {
   "cell_type": "code",
   "execution_count": 263,
   "id": "637e26ff",
   "metadata": {
    "scrolled": true
   },
   "outputs": [
    {
     "name": "stdout",
     "output_type": "stream",
     "text": [
      "<class 'pandas.core.series.Series'>\n",
      "Int64Index: 378108 entries, 8 to 9974407\n",
      "Series name: startYear\n",
      "Non-Null Count   Dtype\n",
      "--------------   -----\n",
      "378108 non-null  int64\n",
      "dtypes: int64(1)\n",
      "memory usage: 5.8 MB\n"
     ]
    }
   ],
   "source": [
    "basics.startYear = basics.startYear.astype(int)\n",
    "basics.startYear.info()"
   ]
  },
  {
   "cell_type": "code",
   "execution_count": 264,
   "id": "2f049e6d",
   "metadata": {},
   "outputs": [
    {
     "name": "stdout",
     "output_type": "stream",
     "text": [
      "<class 'pandas.core.frame.DataFrame'>\n",
      "Int64Index: 378108 entries, 8 to 9974407\n",
      "Data columns (total 9 columns):\n",
      " #   Column          Non-Null Count   Dtype \n",
      "---  ------          --------------   ----- \n",
      " 0   tconst          378108 non-null  object\n",
      " 1   titleType       378108 non-null  object\n",
      " 2   primaryTitle    378108 non-null  object\n",
      " 3   originalTitle   378108 non-null  object\n",
      " 4   isAdult         378108 non-null  object\n",
      " 5   startYear       378108 non-null  int64 \n",
      " 6   endYear         0 non-null       object\n",
      " 7   runtimeMinutes  378108 non-null  object\n",
      " 8   genres          378108 non-null  object\n",
      "dtypes: int64(1), object(8)\n",
      "memory usage: 28.8+ MB\n"
     ]
    }
   ],
   "source": [
    "basics.info()"
   ]
  },
  {
   "cell_type": "code",
   "execution_count": 265,
   "id": "555ea8a7",
   "metadata": {
    "scrolled": true
   },
   "outputs": [
    {
     "name": "stdout",
     "output_type": "stream",
     "text": [
      "<class 'pandas.core.frame.DataFrame'>\n",
      "Int64Index: 223933 entries, 13082 to 9974407\n",
      "Data columns (total 9 columns):\n",
      " #   Column          Non-Null Count   Dtype \n",
      "---  ------          --------------   ----- \n",
      " 0   tconst          223933 non-null  object\n",
      " 1   titleType       223933 non-null  object\n",
      " 2   primaryTitle    223933 non-null  object\n",
      " 3   originalTitle   223933 non-null  object\n",
      " 4   isAdult         223933 non-null  object\n",
      " 5   startYear       223933 non-null  int64 \n",
      " 6   endYear         0 non-null       object\n",
      " 7   runtimeMinutes  223933 non-null  object\n",
      " 8   genres          223933 non-null  object\n",
      "dtypes: int64(1), object(8)\n",
      "memory usage: 17.1+ MB\n"
     ]
    }
   ],
   "source": [
    "# Keep only startYear values that include 2000 - 2022\n",
    "basics = basics[(basics['startYear'] >= 2000) & (basics['startYear'] <= 2022)]\n",
    "basics.info()"
   ]
  },
  {
   "cell_type": "code",
   "execution_count": 266,
   "id": "e7d2c45d",
   "metadata": {},
   "outputs": [
    {
     "data": {
      "text/plain": [
       "2017    14390\n",
       "2018    14361\n",
       "2019    14114\n",
       "2016    13979\n",
       "2015    13488\n",
       "2014    13129\n",
       "2022    12976\n",
       "2021    12437\n",
       "2013    12402\n",
       "2012    11657\n",
       "2020    11604\n",
       "2011    10787\n",
       "2010    10217\n",
       "2009     9375\n",
       "2008     8165\n",
       "2007     6974\n",
       "2006     6532\n",
       "2005     5853\n",
       "2004     5219\n",
       "2003     4603\n",
       "2002     4140\n",
       "2001     3881\n",
       "2000     3650\n",
       "Name: startYear, dtype: int64"
      ]
     },
     "execution_count": 266,
     "metadata": {},
     "output_type": "execute_result"
    }
   ],
   "source": [
    "basics.startYear.value_counts()"
   ]
  },
  {
   "cell_type": "markdown",
   "id": "1f2afdc9",
   "metadata": {},
   "source": [
    "Only movies from startYear 2000 through 2022 remain."
   ]
  },
  {
   "cell_type": "markdown",
   "id": "8a0ce943",
   "metadata": {},
   "source": [
    "### Remove Documentary Movies\n",
    "\n",
    "in basics df"
   ]
  },
  {
   "cell_type": "code",
   "execution_count": 267,
   "id": "3181f53f",
   "metadata": {},
   "outputs": [
    {
     "data": {
      "text/plain": [
       "Documentary                  53453\n",
       "Drama                        36110\n",
       "Comedy                       13476\n",
       "Comedy,Drama                  6457\n",
       "Horror                        5815\n",
       "                             ...  \n",
       "Comedy,Reality-TV,Romance        1\n",
       "Crime,Family,Thriller            1\n",
       "News,Reality-TV,Sport            1\n",
       "Adult,Mystery                    1\n",
       "Crime,Fantasy,Sci-Fi             1\n",
       "Name: genres, Length: 1171, dtype: int64"
      ]
     },
     "execution_count": 267,
     "metadata": {},
     "output_type": "execute_result"
    }
   ],
   "source": [
    "# View values for 'genres'\n",
    "basics.genres.value_counts()"
   ]
  },
  {
   "cell_type": "code",
   "execution_count": 268,
   "id": "e8ac1614",
   "metadata": {},
   "outputs": [
    {
     "data": {
      "text/plain": [
       "False    147840\n",
       "True      76093\n",
       "Name: genres, dtype: int64"
      ]
     },
     "execution_count": 268,
     "metadata": {},
     "output_type": "execute_result"
    }
   ],
   "source": [
    "# Create a filter for movies that are also documentaries\n",
    "is_documentary = basics['genres'].str.contains('documentary', case = False)\n",
    "is_documentary.value_counts()"
   ]
  },
  {
   "cell_type": "code",
   "execution_count": 269,
   "id": "2d9cb1a3",
   "metadata": {},
   "outputs": [
    {
     "data": {
      "text/plain": [
       "Drama                        36110\n",
       "Comedy                       13476\n",
       "Comedy,Drama                  6457\n",
       "Horror                        5815\n",
       "Drama,Romance                 4317\n",
       "                             ...  \n",
       "Family,Musical,Sport             1\n",
       "Horror,Music,Mystery             1\n",
       "Comedy,History,Mystery           1\n",
       "Animation,Biography,Sport        1\n",
       "Crime,Fantasy,Sci-Fi             1\n",
       "Name: genres, Length: 954, dtype: int64"
      ]
     },
     "execution_count": 269,
     "metadata": {},
     "output_type": "execute_result"
    }
   ],
   "source": [
    "# Apply INVERSE of filter to df to remove all documentaries\n",
    "basics = basics[~is_documentary]\n",
    "basics.genres.value_counts()"
   ]
  },
  {
   "cell_type": "code",
   "execution_count": 270,
   "id": "727bff51",
   "metadata": {},
   "outputs": [
    {
     "data": {
      "text/plain": [
       "False    147840\n",
       "Name: genres, dtype: int64"
      ]
     },
     "execution_count": 270,
     "metadata": {},
     "output_type": "execute_result"
    }
   ],
   "source": [
    "# Create new filter to verify no documentaries remain\n",
    "is_documentary_v = basics['genres'].str.contains('documentary', case = False)\n",
    "is_documentary_v.value_counts()"
   ]
  },
  {
   "cell_type": "markdown",
   "id": "f7a5dd95",
   "metadata": {},
   "source": [
    "No documentaries remain in updated basics df"
   ]
  },
  {
   "cell_type": "markdown",
   "id": "61e92618",
   "metadata": {},
   "source": [
    "### Remove non-US Movies\n",
    "\n",
    "in basics df using region information from akas df"
   ]
  },
  {
   "cell_type": "code",
   "execution_count": 271,
   "id": "bbebd469",
   "metadata": {},
   "outputs": [
    {
     "data": {
      "text/plain": [
       "DE    4366701\n",
       "FR    4361926\n",
       "JP    4360736\n",
       "IN    4303353\n",
       "ES    4281672\n",
       "       ...   \n",
       "FM          2\n",
       "TV          1\n",
       "PW          1\n",
       "NR          1\n",
       "NU          1\n",
       "Name: region, Length: 247, dtype: int64"
      ]
     },
     "execution_count": 271,
     "metadata": {},
     "output_type": "execute_result"
    }
   ],
   "source": [
    "# View current values for values in akas 'region' column\n",
    "akas.region.value_counts()"
   ]
  },
  {
   "cell_type": "code",
   "execution_count": 272,
   "id": "0bc2ea36",
   "metadata": {},
   "outputs": [
    {
     "name": "stdout",
     "output_type": "stream",
     "text": [
      "Total value count for US:      1448689\n",
      "Total value count for non-US: 34976344\n"
     ]
    }
   ],
   "source": [
    "# Count the total number of 'region' values of 'US'\n",
    "print(f\"Total value count for US:      {(akas['region'] == 'US').sum()}\")\n",
    "print(f\"Total value count for non-US: {(akas['region'] != 'US').sum()}\")"
   ]
  },
  {
   "cell_type": "code",
   "execution_count": 273,
   "id": "46ad1f6f",
   "metadata": {},
   "outputs": [
    {
     "name": "stdout",
     "output_type": "stream",
     "text": [
      "Total value count for US:     1448689\n",
      "Total value count for non-US: 0\n"
     ]
    }
   ],
   "source": [
    "# Filter out all non-US movies\n",
    "akas = akas[(akas['region'] == 'US')]\n",
    "\n",
    "# Verify counts have been updated correctly\n",
    "print(f\"Total value count for US:     {(akas['region'] == 'US').sum()}\")\n",
    "print(f\"Total value count for non-US: {(akas['region'] != 'US').sum()}\")"
   ]
  },
  {
   "cell_type": "markdown",
   "id": "7651b171",
   "metadata": {},
   "source": [
    "All non-US movies have been removed from df akas. \n",
    "\n",
    "This filter now also needs to be applied to the df basics."
   ]
  },
  {
   "cell_type": "code",
   "execution_count": 274,
   "id": "89c5fa6c",
   "metadata": {},
   "outputs": [
    {
     "data": {
      "text/plain": [
       "True     86886\n",
       "False    60954\n",
       "Name: tconst, dtype: int64"
      ]
     },
     "execution_count": 274,
     "metadata": {},
     "output_type": "execute_result"
    }
   ],
   "source": [
    "# Create additional filter in df basics to use US movie filter from df akas\n",
    "keepers = basics['tconst'].isin(akas['titleId'])\n",
    "keepers.value_counts()"
   ]
  },
  {
   "cell_type": "code",
   "execution_count": 275,
   "id": "1d09620d",
   "metadata": {},
   "outputs": [
    {
     "data": {
      "text/html": [
       "<div>\n",
       "<style scoped>\n",
       "    .dataframe tbody tr th:only-of-type {\n",
       "        vertical-align: middle;\n",
       "    }\n",
       "\n",
       "    .dataframe tbody tr th {\n",
       "        vertical-align: top;\n",
       "    }\n",
       "\n",
       "    .dataframe thead th {\n",
       "        text-align: right;\n",
       "    }\n",
       "</style>\n",
       "<table border=\"1\" class=\"dataframe\">\n",
       "  <thead>\n",
       "    <tr style=\"text-align: right;\">\n",
       "      <th></th>\n",
       "      <th>tconst</th>\n",
       "      <th>titleType</th>\n",
       "      <th>primaryTitle</th>\n",
       "      <th>originalTitle</th>\n",
       "      <th>isAdult</th>\n",
       "      <th>startYear</th>\n",
       "      <th>endYear</th>\n",
       "      <th>runtimeMinutes</th>\n",
       "      <th>genres</th>\n",
       "    </tr>\n",
       "  </thead>\n",
       "  <tbody>\n",
       "    <tr>\n",
       "      <th>34803</th>\n",
       "      <td>tt0035423</td>\n",
       "      <td>movie</td>\n",
       "      <td>Kate &amp; Leopold</td>\n",
       "      <td>Kate &amp; Leopold</td>\n",
       "      <td>0</td>\n",
       "      <td>2001</td>\n",
       "      <td>NaN</td>\n",
       "      <td>118</td>\n",
       "      <td>Comedy,Fantasy,Romance</td>\n",
       "    </tr>\n",
       "    <tr>\n",
       "      <th>42384</th>\n",
       "      <td>tt0043139</td>\n",
       "      <td>movie</td>\n",
       "      <td>Life of a Beijing Policeman</td>\n",
       "      <td>Wo zhe yi bei zi</td>\n",
       "      <td>0</td>\n",
       "      <td>2013</td>\n",
       "      <td>NaN</td>\n",
       "      <td>120</td>\n",
       "      <td>Drama,History</td>\n",
       "    </tr>\n",
       "    <tr>\n",
       "      <th>61115</th>\n",
       "      <td>tt0062336</td>\n",
       "      <td>movie</td>\n",
       "      <td>The Tango of the Widower and Its Distorting Mi...</td>\n",
       "      <td>El tango del viudo y su espejo deformante</td>\n",
       "      <td>0</td>\n",
       "      <td>2020</td>\n",
       "      <td>NaN</td>\n",
       "      <td>70</td>\n",
       "      <td>Drama</td>\n",
       "    </tr>\n",
       "    <tr>\n",
       "      <th>67667</th>\n",
       "      <td>tt0069049</td>\n",
       "      <td>movie</td>\n",
       "      <td>The Other Side of the Wind</td>\n",
       "      <td>The Other Side of the Wind</td>\n",
       "      <td>0</td>\n",
       "      <td>2018</td>\n",
       "      <td>NaN</td>\n",
       "      <td>122</td>\n",
       "      <td>Drama</td>\n",
       "    </tr>\n",
       "    <tr>\n",
       "      <th>86799</th>\n",
       "      <td>tt0088751</td>\n",
       "      <td>movie</td>\n",
       "      <td>The Naked Monster</td>\n",
       "      <td>The Naked Monster</td>\n",
       "      <td>0</td>\n",
       "      <td>2005</td>\n",
       "      <td>NaN</td>\n",
       "      <td>100</td>\n",
       "      <td>Comedy,Horror,Sci-Fi</td>\n",
       "    </tr>\n",
       "  </tbody>\n",
       "</table>\n",
       "</div>"
      ],
      "text/plain": [
       "          tconst titleType                                       primaryTitle  \\\n",
       "34803  tt0035423     movie                                     Kate & Leopold   \n",
       "42384  tt0043139     movie                        Life of a Beijing Policeman   \n",
       "61115  tt0062336     movie  The Tango of the Widower and Its Distorting Mi...   \n",
       "67667  tt0069049     movie                         The Other Side of the Wind   \n",
       "86799  tt0088751     movie                                  The Naked Monster   \n",
       "\n",
       "                                   originalTitle isAdult  startYear endYear  \\\n",
       "34803                             Kate & Leopold       0       2001     NaN   \n",
       "42384                           Wo zhe yi bei zi       0       2013     NaN   \n",
       "61115  El tango del viudo y su espejo deformante       0       2020     NaN   \n",
       "67667                 The Other Side of the Wind       0       2018     NaN   \n",
       "86799                          The Naked Monster       0       2005     NaN   \n",
       "\n",
       "      runtimeMinutes                  genres  \n",
       "34803            118  Comedy,Fantasy,Romance  \n",
       "42384            120           Drama,History  \n",
       "61115             70                   Drama  \n",
       "67667            122                   Drama  \n",
       "86799            100    Comedy,Horror,Sci-Fi  "
      ]
     },
     "execution_count": 275,
     "metadata": {},
     "output_type": "execute_result"
    }
   ],
   "source": [
    "# Apply 'keepers' filter to df basics\n",
    "basics = basics[keepers]\n",
    "basics.head()"
   ]
  },
  {
   "cell_type": "code",
   "execution_count": 276,
   "id": "360aa92d",
   "metadata": {},
   "outputs": [
    {
     "data": {
      "text/plain": [
       "US    96669\n",
       "Name: region, dtype: int64"
      ]
     },
     "execution_count": 276,
     "metadata": {},
     "output_type": "execute_result"
    }
   ],
   "source": [
    "# Verify only US movies are now included in df basics\n",
    "# Create a reverse filter between df akas and df basics\n",
    "basics_US_filter = akas['titleId'].isin(basics['tconst'])\n",
    "\n",
    "# Apply filter to akas and save to a copy of akas\n",
    "akas2 = akas[basics_US_filter]\n",
    "\n",
    "# Count US movies in filtered akas copy\n",
    "akas2['region'].value_counts()"
   ]
  },
  {
   "cell_type": "markdown",
   "id": "2a3b868a",
   "metadata": {},
   "source": [
    "Only US region movies appear to be included in df basics, now."
   ]
  },
  {
   "cell_type": "markdown",
   "id": "cfdf7d0a",
   "metadata": {},
   "source": [
    "### Keep US Movies only\n",
    "\n",
    "in akas df"
   ]
  },
  {
   "cell_type": "code",
   "execution_count": 277,
   "id": "2d2abba1",
   "metadata": {},
   "outputs": [
    {
     "data": {
      "text/plain": [
       "US    96669\n",
       "Name: region, dtype: int64"
      ]
     },
     "execution_count": 277,
     "metadata": {},
     "output_type": "execute_result"
    }
   ],
   "source": [
    "# Use US movie filtered df akas2 to apply to main df akas\n",
    "akas = akas2\n",
    "akas['region'].value_counts()"
   ]
  },
  {
   "cell_type": "markdown",
   "id": "8c65ed47",
   "metadata": {},
   "source": [
    "### Keep US Movies only\n",
    "\n",
    "in ratings df"
   ]
  },
  {
   "cell_type": "code",
   "execution_count": 278,
   "id": "c74d0426",
   "metadata": {},
   "outputs": [
    {
     "data": {
      "text/plain": [
       "False    1254127\n",
       "True       71792\n",
       "Name: tconst, dtype: int64"
      ]
     },
     "execution_count": 278,
     "metadata": {},
     "output_type": "execute_result"
    }
   ],
   "source": [
    "# Create additional filter in df ratings to use US movie filter from df akas\n",
    "keepers_ratings = ratings['tconst'].isin(akas['titleId'])\n",
    "keepers_ratings.value_counts()"
   ]
  },
  {
   "cell_type": "code",
   "execution_count": 279,
   "id": "15fed492",
   "metadata": {},
   "outputs": [
    {
     "data": {
      "text/html": [
       "<div>\n",
       "<style scoped>\n",
       "    .dataframe tbody tr th:only-of-type {\n",
       "        vertical-align: middle;\n",
       "    }\n",
       "\n",
       "    .dataframe tbody tr th {\n",
       "        vertical-align: top;\n",
       "    }\n",
       "\n",
       "    .dataframe thead th {\n",
       "        text-align: right;\n",
       "    }\n",
       "</style>\n",
       "<table border=\"1\" class=\"dataframe\">\n",
       "  <thead>\n",
       "    <tr style=\"text-align: right;\">\n",
       "      <th></th>\n",
       "      <th>tconst</th>\n",
       "      <th>averageRating</th>\n",
       "      <th>numVotes</th>\n",
       "    </tr>\n",
       "  </thead>\n",
       "  <tbody>\n",
       "    <tr>\n",
       "      <th>17949</th>\n",
       "      <td>tt0035423</td>\n",
       "      <td>6.4</td>\n",
       "      <td>87019</td>\n",
       "    </tr>\n",
       "    <tr>\n",
       "      <th>24249</th>\n",
       "      <td>tt0043139</td>\n",
       "      <td>7.2</td>\n",
       "      <td>190</td>\n",
       "    </tr>\n",
       "    <tr>\n",
       "      <th>40738</th>\n",
       "      <td>tt0062336</td>\n",
       "      <td>6.4</td>\n",
       "      <td>175</td>\n",
       "    </tr>\n",
       "    <tr>\n",
       "      <th>46618</th>\n",
       "      <td>tt0069049</td>\n",
       "      <td>6.7</td>\n",
       "      <td>7731</td>\n",
       "    </tr>\n",
       "    <tr>\n",
       "      <th>63620</th>\n",
       "      <td>tt0088751</td>\n",
       "      <td>5.2</td>\n",
       "      <td>335</td>\n",
       "    </tr>\n",
       "  </tbody>\n",
       "</table>\n",
       "</div>"
      ],
      "text/plain": [
       "          tconst  averageRating  numVotes\n",
       "17949  tt0035423            6.4     87019\n",
       "24249  tt0043139            7.2       190\n",
       "40738  tt0062336            6.4       175\n",
       "46618  tt0069049            6.7      7731\n",
       "63620  tt0088751            5.2       335"
      ]
     },
     "execution_count": 279,
     "metadata": {},
     "output_type": "execute_result"
    }
   ],
   "source": [
    "# Apply 'keepers' filter to df ratings\n",
    "ratings = ratings[keepers_ratings]\n",
    "ratings.head()"
   ]
  },
  {
   "cell_type": "code",
   "execution_count": 280,
   "id": "f6a5f258",
   "metadata": {},
   "outputs": [
    {
     "name": "stdout",
     "output_type": "stream",
     "text": [
      "<class 'pandas.core.frame.DataFrame'>\n",
      "Int64Index: 71792 entries, 17949 to 1325889\n",
      "Data columns (total 3 columns):\n",
      " #   Column         Non-Null Count  Dtype  \n",
      "---  ------         --------------  -----  \n",
      " 0   tconst         71792 non-null  object \n",
      " 1   averageRating  71792 non-null  float64\n",
      " 2   numVotes       71792 non-null  int64  \n",
      "dtypes: float64(1), int64(1), object(1)\n",
      "memory usage: 2.2+ MB\n"
     ]
    }
   ],
   "source": [
    "# Verify total count of df ratings matches True value from filter 'keepers_ratings'\n",
    "ratings.info()"
   ]
  },
  {
   "cell_type": "markdown",
   "id": "ceece1cb",
   "metadata": {},
   "source": [
    "Only values in df ratings that remain are those that remain from non-US movies being filtered out of df akas.\n",
    "\n",
    "The reason that df ratings has fewer entries than the filtered (US-only movies) in akas is because some of those US-only movies do not have an associated rating."
   ]
  },
  {
   "cell_type": "markdown",
   "id": "595b471b",
   "metadata": {},
   "source": [
    "## Deliverable"
   ]
  },
  {
   "cell_type": "code",
   "execution_count": 282,
   "id": "6fae7d6f",
   "metadata": {},
   "outputs": [
    {
     "name": "stdout",
     "output_type": "stream",
     "text": [
      "<class 'pandas.core.frame.DataFrame'>\n",
      "Int64Index: 86886 entries, 34803 to 9974223\n",
      "Data columns (total 9 columns):\n",
      " #   Column          Non-Null Count  Dtype \n",
      "---  ------          --------------  ----- \n",
      " 0   tconst          86886 non-null  object\n",
      " 1   titleType       86886 non-null  object\n",
      " 2   primaryTitle    86886 non-null  object\n",
      " 3   originalTitle   86886 non-null  object\n",
      " 4   isAdult         86886 non-null  object\n",
      " 5   startYear       86886 non-null  int64 \n",
      " 6   endYear         0 non-null      object\n",
      " 7   runtimeMinutes  86886 non-null  object\n",
      " 8   genres          86886 non-null  object\n",
      "dtypes: int64(1), object(8)\n",
      "memory usage: 6.6+ MB\n"
     ]
    }
   ],
   "source": [
    "# display info for each of the DataFrames\n",
    "basics.info()"
   ]
  },
  {
   "cell_type": "code",
   "execution_count": 283,
   "id": "7ed8da60",
   "metadata": {},
   "outputs": [
    {
     "name": "stdout",
     "output_type": "stream",
     "text": [
      "<class 'pandas.core.frame.DataFrame'>\n",
      "Int64Index: 71792 entries, 17949 to 1325889\n",
      "Data columns (total 3 columns):\n",
      " #   Column         Non-Null Count  Dtype  \n",
      "---  ------         --------------  -----  \n",
      " 0   tconst         71792 non-null  object \n",
      " 1   averageRating  71792 non-null  float64\n",
      " 2   numVotes       71792 non-null  int64  \n",
      "dtypes: float64(1), int64(1), object(1)\n",
      "memory usage: 2.2+ MB\n"
     ]
    }
   ],
   "source": [
    "# display info for each of the DataFrames\n",
    "ratings.info()"
   ]
  },
  {
   "cell_type": "code",
   "execution_count": 284,
   "id": "d8241fc0",
   "metadata": {},
   "outputs": [
    {
     "name": "stdout",
     "output_type": "stream",
     "text": [
      "<class 'pandas.core.frame.DataFrame'>\n",
      "Int64Index: 96669 entries, 201726 to 36424290\n",
      "Data columns (total 8 columns):\n",
      " #   Column           Non-Null Count  Dtype \n",
      "---  ------           --------------  ----- \n",
      " 0   titleId          96669 non-null  object\n",
      " 1   ordering         96669 non-null  int64 \n",
      " 2   title            96669 non-null  object\n",
      " 3   region           96669 non-null  object\n",
      " 4   language         945 non-null    object\n",
      " 5   types            88996 non-null  object\n",
      " 6   attributes       4361 non-null   object\n",
      " 7   isOriginalTitle  96669 non-null  object\n",
      "dtypes: int64(1), object(7)\n",
      "memory usage: 6.6+ MB\n"
     ]
    }
   ],
   "source": [
    "# display info for each of the DataFrames\n",
    "akas.info()"
   ]
  },
  {
   "cell_type": "code",
   "execution_count": 286,
   "id": "b899e43f",
   "metadata": {},
   "outputs": [],
   "source": [
    "# Save copy of processed DataFrames to local disk\n",
    "basics.to_csv('Data/basics_final.csv.gz', compression = 'gzip', index=False)\n",
    "ratings.to_csv('Data/ratings_final.csv.gz', compression = 'gzip', index=False)\n",
    "akas.to_csv('Data/akas_final.csv.gz', compression = 'gzip', index=False)"
   ]
  },
  {
   "cell_type": "markdown",
   "id": "9fefdfb9",
   "metadata": {},
   "source": [
    "# What Makes Successful Movies? TMDB\n",
    "\n",
    "Get information on budget, revenue and movie certification (MPAA Rating)"
   ]
  },
  {
   "cell_type": "markdown",
   "id": "d2237d07",
   "metadata": {},
   "source": [
    "## Load Data"
   ]
  },
  {
   "cell_type": "code",
   "execution_count": 19,
   "id": "af8d674e",
   "metadata": {},
   "outputs": [
    {
     "data": {
      "text/plain": [
       "['basics_original.csv.gz',\n",
       " 'basics_final.csv.gz',\n",
       " 'tmdb_api_results_2000.json',\n",
       " 'tmdb_api_results_2001.json',\n",
       " 'ratings_original.csv.gz',\n",
       " 'akas_original.csv.gz',\n",
       " 'ratings_final.csv.gz',\n",
       " 'final_tmdb_data_2001.csv.gz',\n",
       " 'akas_final.csv.gz']"
      ]
     },
     "execution_count": 19,
     "metadata": {},
     "output_type": "execute_result"
    }
   ],
   "source": [
    "# Check files created in first notebook (\"IMDB-What_Makes_Successful_Movies\")\n",
    "FOLDER = \"Data/\"\n",
    "os.makedirs(FOLDER, exist_ok = True)\n",
    "os.listdir(FOLDER)"
   ]
  },
  {
   "cell_type": "code",
   "execution_count": 20,
   "id": "08d9ccef",
   "metadata": {},
   "outputs": [],
   "source": [
    "# Load in the dataframe from first half of notebook \n",
    "basics = pd.read_csv('Data/basics_final.csv.gz')"
   ]
  },
  {
   "cell_type": "code",
   "execution_count": 36,
   "id": "4ab311fa",
   "metadata": {},
   "outputs": [],
   "source": [
    "# Specify years needed\n",
    "YEARS_TO_GET = [2000, 2001]"
   ]
  },
  {
   "cell_type": "code",
   "execution_count": 22,
   "id": "6b5b9ec3",
   "metadata": {},
   "outputs": [],
   "source": [
    "# Define errors list\n",
    "errors = []"
   ]
  },
  {
   "cell_type": "markdown",
   "id": "ebd78304",
   "metadata": {},
   "source": [
    "## Connect to TMDB API"
   ]
  },
  {
   "cell_type": "code",
   "execution_count": 23,
   "id": "1b3801d6",
   "metadata": {},
   "outputs": [
    {
     "data": {
      "text/plain": [
       "dict_keys(['client-id', 'api-key'])"
      ]
     },
     "execution_count": 23,
     "metadata": {},
     "output_type": "execute_result"
    }
   ],
   "source": [
    "# Load API login credentials\n",
    "with open('/Users/whitefreeze/.secret/tmdb_api.json', 'r') as f:\n",
    "    login = json.load(f)\n",
    "\n",
    "# Display the keys of the loaded dict\n",
    "login.keys()"
   ]
  },
  {
   "cell_type": "code",
   "execution_count": 24,
   "id": "dfa9da72",
   "metadata": {},
   "outputs": [],
   "source": [
    "# Set API_KEY variable\n",
    "tmdb.API_KEY =  login['api-key']"
   ]
  },
  {
   "cell_type": "code",
   "execution_count": 25,
   "id": "a5015dec",
   "metadata": {
    "scrolled": true
   },
   "outputs": [
    {
     "data": {
      "text/plain": [
       "{'adult': False,\n",
       " 'backdrop_path': '/oMsxZEvz9a708d49b6UdZK1KAo5.jpg',\n",
       " 'belongs_to_collection': {'id': 2344,\n",
       "  'name': 'The Matrix Collection',\n",
       "  'poster_path': '/bV9qTVHTVf0gkW0j7p7M0ILD4pG.jpg',\n",
       "  'backdrop_path': '/bRm2DEgUiYciDw3myHuYFInD7la.jpg'},\n",
       " 'budget': 63000000,\n",
       " 'genres': [{'id': 28, 'name': 'Action'},\n",
       "  {'id': 878, 'name': 'Science Fiction'}],\n",
       " 'homepage': 'http://www.warnerbros.com/matrix',\n",
       " 'id': 603,\n",
       " 'imdb_id': 'tt0133093',\n",
       " 'original_language': 'en',\n",
       " 'original_title': 'The Matrix',\n",
       " 'overview': 'Set in the 22nd century, The Matrix tells the story of a computer hacker who joins a group of underground insurgents fighting the vast and powerful computers who now rule the earth.',\n",
       " 'popularity': 81.99,\n",
       " 'poster_path': '/f89U3ADr1oiB1s9GkdPOEpXUk5H.jpg',\n",
       " 'production_companies': [{'id': 79,\n",
       "   'logo_path': '/tpFpsqbleCzEE2p5EgvUq6ozfCA.png',\n",
       "   'name': 'Village Roadshow Pictures',\n",
       "   'origin_country': 'US'},\n",
       "  {'id': 372,\n",
       "   'logo_path': None,\n",
       "   'name': 'Groucho II Film Partnership',\n",
       "   'origin_country': ''},\n",
       "  {'id': 1885,\n",
       "   'logo_path': '/xlvoOZr4s1PygosrwZyolIFe5xs.png',\n",
       "   'name': 'Silver Pictures',\n",
       "   'origin_country': 'US'},\n",
       "  {'id': 174,\n",
       "   'logo_path': '/IuAlhI9eVC9Z8UQWOIDdWRKSEJ.png',\n",
       "   'name': 'Warner Bros. Pictures',\n",
       "   'origin_country': 'US'}],\n",
       " 'production_countries': [{'iso_3166_1': 'US',\n",
       "   'name': 'United States of America'}],\n",
       " 'release_date': '1999-03-30',\n",
       " 'revenue': 463517383,\n",
       " 'runtime': 136,\n",
       " 'spoken_languages': [{'english_name': 'English',\n",
       "   'iso_639_1': 'en',\n",
       "   'name': 'English'}],\n",
       " 'status': 'Released',\n",
       " 'tagline': 'Welcome to the Real World.',\n",
       " 'title': 'The Matrix',\n",
       " 'video': False,\n",
       " 'vote_average': 8.204,\n",
       " 'vote_count': 23418}"
      ]
     },
     "execution_count": 25,
     "metadata": {},
     "output_type": "execute_result"
    }
   ],
   "source": [
    "# Test API \n",
    "movie = tmdb.Movies(603) # 'The Matrix'\n",
    "info = movie.info()\n",
    "info"
   ]
  },
  {
   "cell_type": "code",
   "execution_count": 26,
   "id": "c01252d4",
   "metadata": {},
   "outputs": [
    {
     "name": "stdout",
     "output_type": "stream",
     "text": [
      "63000000\n",
      "The Matrix\n"
     ]
    }
   ],
   "source": [
    "# Test that movies can be found via IMDB ID #\n",
    "# Get movie object for the current ID\n",
    "movie = tmdb.Movies('tt0133093')\n",
    "info = movie.info()\n",
    "print(info['budget'])\n",
    "print(info['original_title'])"
   ]
  },
  {
   "cell_type": "markdown",
   "id": "eeff425b",
   "metadata": {},
   "source": [
    "## Functions"
   ]
  },
  {
   "cell_type": "code",
   "execution_count": 27,
   "id": "49254a61",
   "metadata": {},
   "outputs": [],
   "source": [
    "# Accept movie_id argument. Return dictionary results that include certification/rating.\n",
    "def get_movie_with_rating(movie_id):\n",
    "    \"\"\"Adapted from source = https://girhub.com/celiao/tmdbsimple\"\"\"\n",
    "\n",
    "    # Get movie object for the current ID\n",
    "    movie = tmdb.Movies(movie_id)\n",
    "\n",
    "    # Save the .info & .releases dictionaries\n",
    "    info = movie.info()\n",
    "    releases = movie.releases()\n",
    "\n",
    "    # Loop throu countries in releases\n",
    "    for c in releases['countries']:\n",
    "\n",
    "        # if the country abbreviation is 'US'\n",
    "        if c['iso_3166_1'] == 'US':\n",
    "\n",
    "            # Save a 'certification' key in the info dict with the certification\n",
    "            info['certification'] = c['certification']\n",
    "            \n",
    "    return info"
   ]
  },
  {
   "cell_type": "code",
   "execution_count": 28,
   "id": "2e55ecb0",
   "metadata": {},
   "outputs": [],
   "source": [
    "def write_json(new_data, filename):\n",
    "    \"\"\"Appends a list of records (new_data) to a json file (filename).\n",
    "    Adapted from: https://www.geeksforgeeks.org/append-to-json-file-using-python/\"\"\"\n",
    "    \n",
    "    with open(filename, 'r+') as file:\n",
    "        \n",
    "        # First load existing data into a dict\n",
    "        file_data = json.load(file)\n",
    "        \n",
    "        # Choose extend or append\n",
    "        if (type(new_data) == list) & (type(file_data) == list): \n",
    "            file_data.extend(new_data)\n",
    "        else: \n",
    "            file_data.append(new_data)\n",
    "            \n",
    "        # Sets file's current position at offset.\n",
    "        file.seek(0)\n",
    "        \n",
    "        # Convert back to json\n",
    "        json.dump(file_data, file)"
   ]
  },
  {
   "cell_type": "markdown",
   "id": "42b22992",
   "metadata": {},
   "source": [
    "### Test Functions "
   ]
  },
  {
   "cell_type": "code",
   "execution_count": 29,
   "id": "89994803",
   "metadata": {
    "scrolled": true
   },
   "outputs": [
    {
     "data": {
      "text/plain": [
       "{'adult': False,\n",
       " 'backdrop_path': '/9BBTo63ANSmhC4e6r62OJFuK2GL.jpg',\n",
       " 'belongs_to_collection': {'id': 86311,\n",
       "  'name': 'The Avengers Collection',\n",
       "  'poster_path': '/yFSIUVTCvgYrpalUktulvk3Gi5Y.jpg',\n",
       "  'backdrop_path': '/zuW6fOiusv4X9nnW3paHGfXcSll.jpg'},\n",
       " 'budget': 220000000,\n",
       " 'genres': [{'id': 878, 'name': 'Science Fiction'},\n",
       "  {'id': 28, 'name': 'Action'},\n",
       "  {'id': 12, 'name': 'Adventure'}],\n",
       " 'homepage': 'https://www.marvel.com/movies/the-avengers',\n",
       " 'id': 24428,\n",
       " 'imdb_id': 'tt0848228',\n",
       " 'original_language': 'en',\n",
       " 'original_title': 'The Avengers',\n",
       " 'overview': 'When an unexpected enemy emerges and threatens global safety and security, Nick Fury, director of the international peacekeeping agency known as S.H.I.E.L.D., finds himself in need of a team to pull the world back from the brink of disaster. Spanning the globe, a daring recruitment effort begins!',\n",
       " 'popularity': 149.052,\n",
       " 'poster_path': '/RYMX2wcKCBAr24UyPD7xwmjaTn.jpg',\n",
       " 'production_companies': [{'id': 420,\n",
       "   'logo_path': '/hUzeosd33nzE5MCNsZxCGEKTXaQ.png',\n",
       "   'name': 'Marvel Studios',\n",
       "   'origin_country': 'US'}],\n",
       " 'production_countries': [{'iso_3166_1': 'US',\n",
       "   'name': 'United States of America'}],\n",
       " 'release_date': '2012-04-25',\n",
       " 'revenue': 1518815515,\n",
       " 'runtime': 143,\n",
       " 'spoken_languages': [{'english_name': 'English',\n",
       "   'iso_639_1': 'en',\n",
       "   'name': 'English'},\n",
       "  {'english_name': 'Hindi', 'iso_639_1': 'hi', 'name': 'हिन्दी'},\n",
       "  {'english_name': 'Russian', 'iso_639_1': 'ru', 'name': 'Pусский'}],\n",
       " 'status': 'Released',\n",
       " 'tagline': 'Some assembly required.',\n",
       " 'title': 'The Avengers',\n",
       " 'video': False,\n",
       " 'vote_average': 7.709,\n",
       " 'vote_count': 28816,\n",
       " 'certification': 'PG-13'}"
      ]
     },
     "execution_count": 29,
     "metadata": {},
     "output_type": "execute_result"
    }
   ],
   "source": [
    "# Test function\n",
    "test = get_movie_with_rating(\"tt0848228\")  # 'The Avengers'\n",
    "test"
   ]
  },
  {
   "cell_type": "code",
   "execution_count": 30,
   "id": "773750b7",
   "metadata": {},
   "outputs": [
    {
     "data": {
      "text/html": [
       "<div>\n",
       "<style scoped>\n",
       "    .dataframe tbody tr th:only-of-type {\n",
       "        vertical-align: middle;\n",
       "    }\n",
       "\n",
       "    .dataframe tbody tr th {\n",
       "        vertical-align: top;\n",
       "    }\n",
       "\n",
       "    .dataframe thead th {\n",
       "        text-align: right;\n",
       "    }\n",
       "</style>\n",
       "<table border=\"1\" class=\"dataframe\">\n",
       "  <thead>\n",
       "    <tr style=\"text-align: right;\">\n",
       "      <th></th>\n",
       "      <th>adult</th>\n",
       "      <th>backdrop_path</th>\n",
       "      <th>belongs_to_collection</th>\n",
       "      <th>budget</th>\n",
       "      <th>genres</th>\n",
       "      <th>homepage</th>\n",
       "      <th>id</th>\n",
       "      <th>imdb_id</th>\n",
       "      <th>original_language</th>\n",
       "      <th>original_title</th>\n",
       "      <th>...</th>\n",
       "      <th>revenue</th>\n",
       "      <th>runtime</th>\n",
       "      <th>spoken_languages</th>\n",
       "      <th>status</th>\n",
       "      <th>tagline</th>\n",
       "      <th>title</th>\n",
       "      <th>video</th>\n",
       "      <th>vote_average</th>\n",
       "      <th>vote_count</th>\n",
       "      <th>certification</th>\n",
       "    </tr>\n",
       "  </thead>\n",
       "  <tbody>\n",
       "    <tr>\n",
       "      <th>0</th>\n",
       "      <td>False</td>\n",
       "      <td>/9BBTo63ANSmhC4e6r62OJFuK2GL.jpg</td>\n",
       "      <td>{'id': 86311, 'name': 'The Avengers Collection...</td>\n",
       "      <td>220000000</td>\n",
       "      <td>[{'id': 878, 'name': 'Science Fiction'}, {'id'...</td>\n",
       "      <td>https://www.marvel.com/movies/the-avengers</td>\n",
       "      <td>24428</td>\n",
       "      <td>tt0848228</td>\n",
       "      <td>en</td>\n",
       "      <td>The Avengers</td>\n",
       "      <td>...</td>\n",
       "      <td>1518815515</td>\n",
       "      <td>143</td>\n",
       "      <td>[{'english_name': 'English', 'iso_639_1': 'en'...</td>\n",
       "      <td>Released</td>\n",
       "      <td>Some assembly required.</td>\n",
       "      <td>The Avengers</td>\n",
       "      <td>False</td>\n",
       "      <td>7.709</td>\n",
       "      <td>28816</td>\n",
       "      <td>PG-13</td>\n",
       "    </tr>\n",
       "    <tr>\n",
       "      <th>1</th>\n",
       "      <td>False</td>\n",
       "      <td>/9BBTo63ANSmhC4e6r62OJFuK2GL.jpg</td>\n",
       "      <td>{'id': 86311, 'name': 'The Avengers Collection...</td>\n",
       "      <td>220000000</td>\n",
       "      <td>[{'id': 878, 'name': 'Science Fiction'}, {'id'...</td>\n",
       "      <td>https://www.marvel.com/movies/the-avengers</td>\n",
       "      <td>24428</td>\n",
       "      <td>tt0848228</td>\n",
       "      <td>en</td>\n",
       "      <td>The Avengers</td>\n",
       "      <td>...</td>\n",
       "      <td>1518815515</td>\n",
       "      <td>143</td>\n",
       "      <td>[{'english_name': 'English', 'iso_639_1': 'en'...</td>\n",
       "      <td>Released</td>\n",
       "      <td>Some assembly required.</td>\n",
       "      <td>The Avengers</td>\n",
       "      <td>False</td>\n",
       "      <td>7.709</td>\n",
       "      <td>28816</td>\n",
       "      <td>PG-13</td>\n",
       "    </tr>\n",
       "    <tr>\n",
       "      <th>2</th>\n",
       "      <td>False</td>\n",
       "      <td>/qom1SZSENdmHFNZBXbtJAU0WTlC.jpg</td>\n",
       "      <td>None</td>\n",
       "      <td>29000000</td>\n",
       "      <td>[{'id': 10749, 'name': 'Romance'}, {'id': 18, ...</td>\n",
       "      <td>http://www.newline.com/properties/notebookthe....</td>\n",
       "      <td>11036</td>\n",
       "      <td>tt0332280</td>\n",
       "      <td>en</td>\n",
       "      <td>The Notebook</td>\n",
       "      <td>...</td>\n",
       "      <td>115603229</td>\n",
       "      <td>123</td>\n",
       "      <td>[{'english_name': 'English', 'iso_639_1': 'en'...</td>\n",
       "      <td>Released</td>\n",
       "      <td>Behind every great love is a great story.</td>\n",
       "      <td>The Notebook</td>\n",
       "      <td>False</td>\n",
       "      <td>7.880</td>\n",
       "      <td>10407</td>\n",
       "      <td>PG-13</td>\n",
       "    </tr>\n",
       "  </tbody>\n",
       "</table>\n",
       "<p>3 rows × 26 columns</p>\n",
       "</div>"
      ],
      "text/plain": [
       "   adult                     backdrop_path  \\\n",
       "0  False  /9BBTo63ANSmhC4e6r62OJFuK2GL.jpg   \n",
       "1  False  /9BBTo63ANSmhC4e6r62OJFuK2GL.jpg   \n",
       "2  False  /qom1SZSENdmHFNZBXbtJAU0WTlC.jpg   \n",
       "\n",
       "                               belongs_to_collection     budget  \\\n",
       "0  {'id': 86311, 'name': 'The Avengers Collection...  220000000   \n",
       "1  {'id': 86311, 'name': 'The Avengers Collection...  220000000   \n",
       "2                                               None   29000000   \n",
       "\n",
       "                                              genres  \\\n",
       "0  [{'id': 878, 'name': 'Science Fiction'}, {'id'...   \n",
       "1  [{'id': 878, 'name': 'Science Fiction'}, {'id'...   \n",
       "2  [{'id': 10749, 'name': 'Romance'}, {'id': 18, ...   \n",
       "\n",
       "                                            homepage     id    imdb_id  \\\n",
       "0         https://www.marvel.com/movies/the-avengers  24428  tt0848228   \n",
       "1         https://www.marvel.com/movies/the-avengers  24428  tt0848228   \n",
       "2  http://www.newline.com/properties/notebookthe....  11036  tt0332280   \n",
       "\n",
       "  original_language original_title  ...     revenue  runtime  \\\n",
       "0                en   The Avengers  ...  1518815515      143   \n",
       "1                en   The Avengers  ...  1518815515      143   \n",
       "2                en   The Notebook  ...   115603229      123   \n",
       "\n",
       "                                    spoken_languages    status  \\\n",
       "0  [{'english_name': 'English', 'iso_639_1': 'en'...  Released   \n",
       "1  [{'english_name': 'English', 'iso_639_1': 'en'...  Released   \n",
       "2  [{'english_name': 'English', 'iso_639_1': 'en'...  Released   \n",
       "\n",
       "                                     tagline         title  video  \\\n",
       "0                    Some assembly required.  The Avengers  False   \n",
       "1                    Some assembly required.  The Avengers  False   \n",
       "2  Behind every great love is a great story.  The Notebook  False   \n",
       "\n",
       "   vote_average vote_count certification  \n",
       "0         7.709      28816         PG-13  \n",
       "1         7.709      28816         PG-13  \n",
       "2         7.880      10407         PG-13  \n",
       "\n",
       "[3 rows x 26 columns]"
      ]
     },
     "execution_count": 30,
     "metadata": {},
     "output_type": "execute_result"
    }
   ],
   "source": [
    "# Test function by looping through a list of IDs\n",
    "test_ids = [\"tt0848228\", \"tt0115937\", \"tt0848228\", \"tt0332280\"]\n",
    "results = []\n",
    "# errors = []  # previously initialized\n",
    "for movie_id in test_ids:\n",
    "    try:\n",
    "        movie_info = get_movie_with_rating(movie_id)\n",
    "        results.append(movie_info)\n",
    "        \n",
    "    except Exception as e:\n",
    "       errors.append([movie_id,e])\n",
    "    \n",
    "pd.DataFrame(results)"
   ]
  },
  {
   "cell_type": "code",
   "execution_count": 31,
   "id": "d8e55770",
   "metadata": {},
   "outputs": [
    {
     "name": "stdout",
     "output_type": "stream",
     "text": [
      "- Number of errors: 1\n"
     ]
    },
    {
     "data": {
      "text/plain": [
       "[['tt0115937',\n",
       "  requests.exceptions.HTTPError('404 Client Error: Not Found for url: https://api.themoviedb.org/3/movie/tt0115937?api_key=9bd8d2d73ba74745aca770c997410e22')]]"
      ]
     },
     "execution_count": 31,
     "metadata": {},
     "output_type": "execute_result"
    }
   ],
   "source": [
    "# Check error list\n",
    "print(f\"- Number of errors: {len(errors)}\")\n",
    "errors"
   ]
  },
  {
   "cell_type": "markdown",
   "id": "b9f72157",
   "metadata": {},
   "source": [
    "## Loops"
   ]
  },
  {
   "cell_type": "markdown",
   "id": "24ff9145",
   "metadata": {},
   "source": [
    "### Outer Loop"
   ]
  },
  {
   "cell_type": "code",
   "execution_count": 40,
   "id": "ff851e2d",
   "metadata": {},
   "outputs": [
    {
     "data": {
      "application/vnd.jupyter.widget-view+json": {
       "model_id": "b5d5db3267d74bf5929d0ed81c2b5bbc",
       "version_major": 2,
       "version_minor": 0
      },
      "text/plain": [
       "YEARS:   0%|          | 0/1 [00:00<?, ?it/s]"
      ]
     },
     "metadata": {},
     "output_type": "display_data"
    }
   ],
   "source": [
    "# OUTER loop\n",
    "for YEAR in tqdm_notebook(YEARS_TO_GET, desc = 'YEARS', position = 0):\n",
    "    \n",
    "    # Defining the JSON file to store the results in for each year\n",
    "    JSON_FILE = f'{FOLDER}tmdb_api_results_{YEAR}.json'\n",
    "    \n",
    "    # Check if file exists\n",
    "    file_exists = os.path.isfile(JSON_FILE)\n",
    "    \n",
    "    # If file does NOT exist, create it\n",
    "    if file_exists == False:\n",
    "        \n",
    "        # Save an empty dict with just \"imdb_id\" to the new json file.\n",
    "        with open(JSON_FILE, 'w') as f:\n",
    "            json.dump([{'imdb_id': 0 }], f)\n",
    "            \n",
    "    # Saving new year as the current df\n",
    "    df = basics.loc[basics['startYear'] == YEAR].copy()\n",
    "    \n",
    "    # Saving movie IDs to list\n",
    "    movie_ids = df['tconst'].copy()\n",
    "    \n",
    "    # Load existing data from json into a dataframe called \"previous_df\"\n",
    "    previous_df = pd.read_json(JSON_FILE)\n",
    "    # If code just above has an error, use code below:\n",
    "    ## previous_df = read_and_fix_json(JSON_FILE)\n",
    "    \n",
    "    # Filter out any IDs that are already in the JSON_FILE\n",
    "    movie_ids_to_get = movie_ids[~movie_ids.isin(previous_df['imdb_id'])]"
   ]
  },
  {
   "cell_type": "markdown",
   "id": "1601cba7",
   "metadata": {},
   "source": [
    "### Inner Loop"
   ]
  },
  {
   "cell_type": "code",
   "execution_count": 41,
   "id": "46c1cc25",
   "metadata": {},
   "outputs": [
    {
     "data": {
      "application/vnd.jupyter.widget-view+json": {
       "model_id": "d0416ad7f31449ca9acb0a8f54337d47",
       "version_major": 2,
       "version_minor": 0
      },
      "text/plain": [
       "Movies from 2000:   0%|          | 0/1455 [00:00<?, ?it/s]"
      ]
     },
     "metadata": {},
     "output_type": "display_data"
    }
   ],
   "source": [
    "# INNER Loop\n",
    "for movie_id in tqdm_notebook(movie_ids_to_get,\n",
    "                             desc = f'Movies from {YEAR}',\n",
    "                             position = 1,\n",
    "                             leave = True):\n",
    "    try: \n",
    "        # Retrieve the data for the movie ID\n",
    "        temp = get_movie_with_rating(movie_id)\n",
    "        \n",
    "        # Append/extend results to existing file using a pre-made function\n",
    "        write_json(temp, JSON_FILE)\n",
    "        \n",
    "        # Short 20 ms sleep to prevent overwhelming server\n",
    "        time.sleep(0.02)\n",
    "        \n",
    "    except Exception as e:\n",
    "        errors.append([movie_id, e])"
   ]
  },
  {
   "cell_type": "markdown",
   "id": "2858e5df",
   "metadata": {},
   "source": [
    "## Deliverable"
   ]
  },
  {
   "cell_type": "code",
   "execution_count": 42,
   "id": "4c31a108",
   "metadata": {},
   "outputs": [],
   "source": [
    "# Compress results into csv for each year\n",
    "final_year_df = pd.read_json(JSON_FILE)\n",
    "final_year_df.to_csv(f\"{FOLDER}final_tmdb_data_{YEAR}.csv.gz\",\n",
    "                    compression=\"gzip\", index = False)"
   ]
  },
  {
   "cell_type": "code",
   "execution_count": 43,
   "id": "1bda6407",
   "metadata": {},
   "outputs": [
    {
     "name": "stdout",
     "output_type": "stream",
     "text": [
      "- Total errors: 441\n"
     ]
    },
    {
     "data": {
      "text/plain": [
       "[['tt0115937',\n",
       "  requests.exceptions.HTTPError('404 Client Error: Not Found for url: https://api.themoviedb.org/3/movie/tt0115937?api_key=9bd8d2d73ba74745aca770c997410e22')],\n",
       " ['tt0151685',\n",
       "  requests.exceptions.HTTPError('404 Client Error: Not Found for url: https://api.themoviedb.org/3/movie/tt0151685?api_key=9bd8d2d73ba74745aca770c997410e22')],\n",
       " ['tt0160270',\n",
       "  requests.exceptions.HTTPError('404 Client Error: Not Found for url: https://api.themoviedb.org/3/movie/tt0160270?api_key=9bd8d2d73ba74745aca770c997410e22')],\n",
       " ['tt0160480',\n",
       "  requests.exceptions.HTTPError('404 Client Error: Not Found for url: https://api.themoviedb.org/3/movie/tt0160480?api_key=9bd8d2d73ba74745aca770c997410e22')],\n",
       " ['tt0192110',\n",
       "  requests.exceptions.HTTPError('404 Client Error: Not Found for url: https://api.themoviedb.org/3/movie/tt0192110?api_key=9bd8d2d73ba74745aca770c997410e22')],\n",
       " ['tt0193365',\n",
       "  requests.exceptions.HTTPError('404 Client Error: Not Found for url: https://api.themoviedb.org/3/movie/tt0193365?api_key=9bd8d2d73ba74745aca770c997410e22')],\n",
       " ['tt0193537',\n",
       "  requests.exceptions.HTTPError('404 Client Error: Not Found for url: https://api.themoviedb.org/3/movie/tt0193537?api_key=9bd8d2d73ba74745aca770c997410e22')],\n",
       " ['tt0195108',\n",
       "  requests.exceptions.HTTPError('404 Client Error: Not Found for url: https://api.themoviedb.org/3/movie/tt0195108?api_key=9bd8d2d73ba74745aca770c997410e22')],\n",
       " ['tt0198748',\n",
       "  requests.exceptions.HTTPError('404 Client Error: Not Found for url: https://api.themoviedb.org/3/movie/tt0198748?api_key=9bd8d2d73ba74745aca770c997410e22')],\n",
       " ['tt0200525',\n",
       "  requests.exceptions.HTTPError('404 Client Error: Not Found for url: https://api.themoviedb.org/3/movie/tt0200525?api_key=9bd8d2d73ba74745aca770c997410e22')],\n",
       " ['tt0203206',\n",
       "  requests.exceptions.HTTPError('404 Client Error: Not Found for url: https://api.themoviedb.org/3/movie/tt0203206?api_key=9bd8d2d73ba74745aca770c997410e22')],\n",
       " ['tt0206211',\n",
       "  requests.exceptions.HTTPError('404 Client Error: Not Found for url: https://api.themoviedb.org/3/movie/tt0206211?api_key=9bd8d2d73ba74745aca770c997410e22')],\n",
       " ['tt0211279',\n",
       "  requests.exceptions.HTTPError('404 Client Error: Not Found for url: https://api.themoviedb.org/3/movie/tt0211279?api_key=9bd8d2d73ba74745aca770c997410e22')],\n",
       " ['tt0215719',\n",
       "  requests.exceptions.HTTPError('404 Client Error: Not Found for url: https://api.themoviedb.org/3/movie/tt0215719?api_key=9bd8d2d73ba74745aca770c997410e22')],\n",
       " ['tt0216290',\n",
       "  requests.exceptions.HTTPError('404 Client Error: Not Found for url: https://api.themoviedb.org/3/movie/tt0216290?api_key=9bd8d2d73ba74745aca770c997410e22')],\n",
       " ['tt0217664',\n",
       "  requests.exceptions.HTTPError('404 Client Error: Not Found for url: https://api.themoviedb.org/3/movie/tt0217664?api_key=9bd8d2d73ba74745aca770c997410e22')],\n",
       " ['tt0237199',\n",
       "  requests.exceptions.HTTPError('404 Client Error: Not Found for url: https://api.themoviedb.org/3/movie/tt0237199?api_key=9bd8d2d73ba74745aca770c997410e22')],\n",
       " ['tt0246076',\n",
       "  requests.exceptions.HTTPError('404 Client Error: Not Found for url: https://api.themoviedb.org/3/movie/tt0246076?api_key=9bd8d2d73ba74745aca770c997410e22')],\n",
       " ['tt0246409',\n",
       "  requests.exceptions.HTTPError('404 Client Error: Not Found for url: https://api.themoviedb.org/3/movie/tt0246409?api_key=9bd8d2d73ba74745aca770c997410e22')],\n",
       " ['tt0247389',\n",
       "  requests.exceptions.HTTPError('404 Client Error: Not Found for url: https://api.themoviedb.org/3/movie/tt0247389?api_key=9bd8d2d73ba74745aca770c997410e22')],\n",
       " ['tt0248017',\n",
       "  requests.exceptions.HTTPError('404 Client Error: Not Found for url: https://api.themoviedb.org/3/movie/tt0248017?api_key=9bd8d2d73ba74745aca770c997410e22')],\n",
       " ['tt0253487',\n",
       "  requests.exceptions.HTTPError('404 Client Error: Not Found for url: https://api.themoviedb.org/3/movie/tt0253487?api_key=9bd8d2d73ba74745aca770c997410e22')],\n",
       " ['tt0254448',\n",
       "  requests.exceptions.HTTPError('404 Client Error: Not Found for url: https://api.themoviedb.org/3/movie/tt0254448?api_key=9bd8d2d73ba74745aca770c997410e22')],\n",
       " ['tt0255348',\n",
       "  requests.exceptions.HTTPError('404 Client Error: Not Found for url: https://api.themoviedb.org/3/movie/tt0255348?api_key=9bd8d2d73ba74745aca770c997410e22')],\n",
       " ['tt0256766',\n",
       "  requests.exceptions.HTTPError('404 Client Error: Not Found for url: https://api.themoviedb.org/3/movie/tt0256766?api_key=9bd8d2d73ba74745aca770c997410e22')],\n",
       " ['tt0257947',\n",
       "  requests.exceptions.HTTPError('404 Client Error: Not Found for url: https://api.themoviedb.org/3/movie/tt0257947?api_key=9bd8d2d73ba74745aca770c997410e22')],\n",
       " ['tt0258512',\n",
       "  requests.exceptions.HTTPError('404 Client Error: Not Found for url: https://api.themoviedb.org/3/movie/tt0258512?api_key=9bd8d2d73ba74745aca770c997410e22')],\n",
       " ['tt0259742',\n",
       "  requests.exceptions.HTTPError('404 Client Error: Not Found for url: https://api.themoviedb.org/3/movie/tt0259742?api_key=9bd8d2d73ba74745aca770c997410e22')],\n",
       " ['tt0261570',\n",
       "  requests.exceptions.HTTPError('404 Client Error: Not Found for url: https://api.themoviedb.org/3/movie/tt0261570?api_key=9bd8d2d73ba74745aca770c997410e22')],\n",
       " ['tt0265521',\n",
       "  requests.exceptions.HTTPError('404 Client Error: Not Found for url: https://api.themoviedb.org/3/movie/tt0265521?api_key=9bd8d2d73ba74745aca770c997410e22')],\n",
       " ['tt0266057',\n",
       "  requests.exceptions.HTTPError('404 Client Error: Not Found for url: https://api.themoviedb.org/3/movie/tt0266057?api_key=9bd8d2d73ba74745aca770c997410e22')],\n",
       " ['tt0266339',\n",
       "  requests.exceptions.HTTPError('404 Client Error: Not Found for url: https://api.themoviedb.org/3/movie/tt0266339?api_key=9bd8d2d73ba74745aca770c997410e22')],\n",
       " ['tt0270179',\n",
       "  requests.exceptions.HTTPError('404 Client Error: Not Found for url: https://api.themoviedb.org/3/movie/tt0270179?api_key=9bd8d2d73ba74745aca770c997410e22')],\n",
       " ['tt0271547',\n",
       "  requests.exceptions.HTTPError('404 Client Error: Not Found for url: https://api.themoviedb.org/3/movie/tt0271547?api_key=9bd8d2d73ba74745aca770c997410e22')],\n",
       " ['tt0272543',\n",
       "  requests.exceptions.HTTPError('404 Client Error: Not Found for url: https://api.themoviedb.org/3/movie/tt0272543?api_key=9bd8d2d73ba74745aca770c997410e22')],\n",
       " ['tt0273568',\n",
       "  requests.exceptions.HTTPError('404 Client Error: Not Found for url: https://api.themoviedb.org/3/movie/tt0273568?api_key=9bd8d2d73ba74745aca770c997410e22')],\n",
       " ['tt0274491',\n",
       "  requests.exceptions.HTTPError('404 Client Error: Not Found for url: https://api.themoviedb.org/3/movie/tt0274491?api_key=9bd8d2d73ba74745aca770c997410e22')],\n",
       " ['tt0274708',\n",
       "  requests.exceptions.HTTPError('404 Client Error: Not Found for url: https://api.themoviedb.org/3/movie/tt0274708?api_key=9bd8d2d73ba74745aca770c997410e22')],\n",
       " ['tt0276473',\n",
       "  requests.exceptions.HTTPError('404 Client Error: Not Found for url: https://api.themoviedb.org/3/movie/tt0276473?api_key=9bd8d2d73ba74745aca770c997410e22')],\n",
       " ['tt0276760',\n",
       "  requests.exceptions.HTTPError('404 Client Error: Not Found for url: https://api.themoviedb.org/3/movie/tt0276760?api_key=9bd8d2d73ba74745aca770c997410e22')],\n",
       " ['tt0278839',\n",
       "  requests.exceptions.HTTPError('404 Client Error: Not Found for url: https://api.themoviedb.org/3/movie/tt0278839?api_key=9bd8d2d73ba74745aca770c997410e22')],\n",
       " ['tt0279088',\n",
       "  requests.exceptions.HTTPError('404 Client Error: Not Found for url: https://api.themoviedb.org/3/movie/tt0279088?api_key=9bd8d2d73ba74745aca770c997410e22')],\n",
       " ['tt0280682',\n",
       "  requests.exceptions.HTTPError('404 Client Error: Not Found for url: https://api.themoviedb.org/3/movie/tt0280682?api_key=9bd8d2d73ba74745aca770c997410e22')],\n",
       " ['tt0280883',\n",
       "  requests.exceptions.HTTPError('404 Client Error: Not Found for url: https://api.themoviedb.org/3/movie/tt0280883?api_key=9bd8d2d73ba74745aca770c997410e22')],\n",
       " ['tt0281015',\n",
       "  requests.exceptions.HTTPError('404 Client Error: Not Found for url: https://api.themoviedb.org/3/movie/tt0281015?api_key=9bd8d2d73ba74745aca770c997410e22')],\n",
       " ['tt0282010',\n",
       "  requests.exceptions.HTTPError('404 Client Error: Not Found for url: https://api.themoviedb.org/3/movie/tt0282010?api_key=9bd8d2d73ba74745aca770c997410e22')],\n",
       " ['tt0282220',\n",
       "  requests.exceptions.HTTPError('404 Client Error: Not Found for url: https://api.themoviedb.org/3/movie/tt0282220?api_key=9bd8d2d73ba74745aca770c997410e22')],\n",
       " ['tt0283303',\n",
       "  requests.exceptions.HTTPError('404 Client Error: Not Found for url: https://api.themoviedb.org/3/movie/tt0283303?api_key=9bd8d2d73ba74745aca770c997410e22')],\n",
       " ['tt0283572',\n",
       "  requests.exceptions.HTTPError('404 Client Error: Not Found for url: https://api.themoviedb.org/3/movie/tt0283572?api_key=9bd8d2d73ba74745aca770c997410e22')],\n",
       " ['tt0284097',\n",
       "  requests.exceptions.HTTPError('404 Client Error: Not Found for url: https://api.themoviedb.org/3/movie/tt0284097?api_key=9bd8d2d73ba74745aca770c997410e22')],\n",
       " ['tt0284342',\n",
       "  requests.exceptions.HTTPError('404 Client Error: Not Found for url: https://api.themoviedb.org/3/movie/tt0284342?api_key=9bd8d2d73ba74745aca770c997410e22')],\n",
       " ['tt0284357',\n",
       "  requests.exceptions.HTTPError('404 Client Error: Not Found for url: https://api.themoviedb.org/3/movie/tt0284357?api_key=9bd8d2d73ba74745aca770c997410e22')],\n",
       " ['tt0284673',\n",
       "  requests.exceptions.HTTPError('404 Client Error: Not Found for url: https://api.themoviedb.org/3/movie/tt0284673?api_key=9bd8d2d73ba74745aca770c997410e22')],\n",
       " ['tt0286713',\n",
       "  requests.exceptions.HTTPError('404 Client Error: Not Found for url: https://api.themoviedb.org/3/movie/tt0286713?api_key=9bd8d2d73ba74745aca770c997410e22')],\n",
       " ['tt0286939',\n",
       "  requests.exceptions.HTTPError('404 Client Error: Not Found for url: https://api.themoviedb.org/3/movie/tt0286939?api_key=9bd8d2d73ba74745aca770c997410e22')],\n",
       " ['tt0287123',\n",
       "  requests.exceptions.HTTPError('404 Client Error: Not Found for url: https://api.themoviedb.org/3/movie/tt0287123?api_key=9bd8d2d73ba74745aca770c997410e22')],\n",
       " ['tt0287547',\n",
       "  requests.exceptions.HTTPError('404 Client Error: Not Found for url: https://api.themoviedb.org/3/movie/tt0287547?api_key=9bd8d2d73ba74745aca770c997410e22')],\n",
       " ['tt0288257',\n",
       "  requests.exceptions.HTTPError('404 Client Error: Not Found for url: https://api.themoviedb.org/3/movie/tt0288257?api_key=9bd8d2d73ba74745aca770c997410e22')],\n",
       " ['tt0288865',\n",
       "  requests.exceptions.HTTPError('404 Client Error: Not Found for url: https://api.themoviedb.org/3/movie/tt0288865?api_key=9bd8d2d73ba74745aca770c997410e22')],\n",
       " ['tt0289048',\n",
       "  requests.exceptions.HTTPError('404 Client Error: Not Found for url: https://api.themoviedb.org/3/movie/tt0289048?api_key=9bd8d2d73ba74745aca770c997410e22')],\n",
       " ['tt0289366',\n",
       "  requests.exceptions.HTTPError('404 Client Error: Not Found for url: https://api.themoviedb.org/3/movie/tt0289366?api_key=9bd8d2d73ba74745aca770c997410e22')],\n",
       " ['tt0289622',\n",
       "  requests.exceptions.HTTPError('404 Client Error: Not Found for url: https://api.themoviedb.org/3/movie/tt0289622?api_key=9bd8d2d73ba74745aca770c997410e22')],\n",
       " ['tt0289768',\n",
       "  requests.exceptions.HTTPError('404 Client Error: Not Found for url: https://api.themoviedb.org/3/movie/tt0289768?api_key=9bd8d2d73ba74745aca770c997410e22')],\n",
       " ['tt0289994',\n",
       "  requests.exceptions.HTTPError('404 Client Error: Not Found for url: https://api.themoviedb.org/3/movie/tt0289994?api_key=9bd8d2d73ba74745aca770c997410e22')],\n",
       " ['tt0290083',\n",
       "  requests.exceptions.HTTPError('404 Client Error: Not Found for url: https://api.themoviedb.org/3/movie/tt0290083?api_key=9bd8d2d73ba74745aca770c997410e22')],\n",
       " ['tt0290766',\n",
       "  requests.exceptions.HTTPError('404 Client Error: Not Found for url: https://api.themoviedb.org/3/movie/tt0290766?api_key=9bd8d2d73ba74745aca770c997410e22')],\n",
       " ['tt0291433',\n",
       "  requests.exceptions.HTTPError('404 Client Error: Not Found for url: https://api.themoviedb.org/3/movie/tt0291433?api_key=9bd8d2d73ba74745aca770c997410e22')],\n",
       " ['tt0291770',\n",
       "  requests.exceptions.HTTPError('404 Client Error: Not Found for url: https://api.themoviedb.org/3/movie/tt0291770?api_key=9bd8d2d73ba74745aca770c997410e22')],\n",
       " ['tt0292028',\n",
       "  requests.exceptions.HTTPError('404 Client Error: Not Found for url: https://api.themoviedb.org/3/movie/tt0292028?api_key=9bd8d2d73ba74745aca770c997410e22')],\n",
       " ['tt0293700',\n",
       "  requests.exceptions.HTTPError('404 Client Error: Not Found for url: https://api.themoviedb.org/3/movie/tt0293700?api_key=9bd8d2d73ba74745aca770c997410e22')],\n",
       " ['tt0294786',\n",
       "  requests.exceptions.HTTPError('404 Client Error: Not Found for url: https://api.themoviedb.org/3/movie/tt0294786?api_key=9bd8d2d73ba74745aca770c997410e22')],\n",
       " ['tt0294982',\n",
       "  requests.exceptions.HTTPError('404 Client Error: Not Found for url: https://api.themoviedb.org/3/movie/tt0294982?api_key=9bd8d2d73ba74745aca770c997410e22')],\n",
       " ['tt0295476',\n",
       "  requests.exceptions.HTTPError('404 Client Error: Not Found for url: https://api.themoviedb.org/3/movie/tt0295476?api_key=9bd8d2d73ba74745aca770c997410e22')],\n",
       " ['tt0296893',\n",
       "  requests.exceptions.HTTPError('404 Client Error: Not Found for url: https://api.themoviedb.org/3/movie/tt0296893?api_key=9bd8d2d73ba74745aca770c997410e22')],\n",
       " ['tt0297282',\n",
       "  requests.exceptions.HTTPError('404 Client Error: Not Found for url: https://api.themoviedb.org/3/movie/tt0297282?api_key=9bd8d2d73ba74745aca770c997410e22')],\n",
       " ['tt0298256',\n",
       "  requests.exceptions.HTTPError('404 Client Error: Not Found for url: https://api.themoviedb.org/3/movie/tt0298256?api_key=9bd8d2d73ba74745aca770c997410e22')],\n",
       " ['tt0300106',\n",
       "  requests.exceptions.HTTPError('404 Client Error: Not Found for url: https://api.themoviedb.org/3/movie/tt0300106?api_key=9bd8d2d73ba74745aca770c997410e22')],\n",
       " ['tt0302399',\n",
       "  requests.exceptions.HTTPError('404 Client Error: Not Found for url: https://api.themoviedb.org/3/movie/tt0302399?api_key=9bd8d2d73ba74745aca770c997410e22')],\n",
       " ['tt0304689',\n",
       "  requests.exceptions.HTTPError('404 Client Error: Not Found for url: https://api.themoviedb.org/3/movie/tt0304689?api_key=9bd8d2d73ba74745aca770c997410e22')],\n",
       " ['tt0305370',\n",
       "  requests.exceptions.HTTPError('404 Client Error: Not Found for url: https://api.themoviedb.org/3/movie/tt0305370?api_key=9bd8d2d73ba74745aca770c997410e22')],\n",
       " ['tt0306188',\n",
       "  requests.exceptions.HTTPError('404 Client Error: Not Found for url: https://api.themoviedb.org/3/movie/tt0306188?api_key=9bd8d2d73ba74745aca770c997410e22')],\n",
       " ['tt0306500',\n",
       "  requests.exceptions.HTTPError('404 Client Error: Not Found for url: https://api.themoviedb.org/3/movie/tt0306500?api_key=9bd8d2d73ba74745aca770c997410e22')],\n",
       " ['tt0307283',\n",
       "  requests.exceptions.HTTPError('404 Client Error: Not Found for url: https://api.themoviedb.org/3/movie/tt0307283?api_key=9bd8d2d73ba74745aca770c997410e22')],\n",
       " ['tt0308556',\n",
       "  requests.exceptions.HTTPError('404 Client Error: Not Found for url: https://api.themoviedb.org/3/movie/tt0308556?api_key=9bd8d2d73ba74745aca770c997410e22')],\n",
       " ['tt0308727',\n",
       "  requests.exceptions.HTTPError('404 Client Error: Not Found for url: https://api.themoviedb.org/3/movie/tt0308727?api_key=9bd8d2d73ba74745aca770c997410e22')],\n",
       " ['tt0308911',\n",
       "  requests.exceptions.HTTPError('404 Client Error: Not Found for url: https://api.themoviedb.org/3/movie/tt0308911?api_key=9bd8d2d73ba74745aca770c997410e22')],\n",
       " ['tt0309307',\n",
       "  requests.exceptions.HTTPError('404 Client Error: Not Found for url: https://api.themoviedb.org/3/movie/tt0309307?api_key=9bd8d2d73ba74745aca770c997410e22')],\n",
       " ['tt0309457',\n",
       "  requests.exceptions.HTTPError('404 Client Error: Not Found for url: https://api.themoviedb.org/3/movie/tt0309457?api_key=9bd8d2d73ba74745aca770c997410e22')],\n",
       " ['tt0309722',\n",
       "  requests.exceptions.HTTPError('404 Client Error: Not Found for url: https://api.themoviedb.org/3/movie/tt0309722?api_key=9bd8d2d73ba74745aca770c997410e22')],\n",
       " ['tt0309870',\n",
       "  requests.exceptions.HTTPError('404 Client Error: Not Found for url: https://api.themoviedb.org/3/movie/tt0309870?api_key=9bd8d2d73ba74745aca770c997410e22')],\n",
       " ['tt0311473',\n",
       "  requests.exceptions.HTTPError('404 Client Error: Not Found for url: https://api.themoviedb.org/3/movie/tt0311473?api_key=9bd8d2d73ba74745aca770c997410e22')],\n",
       " ['tt0313448',\n",
       "  requests.exceptions.HTTPError('404 Client Error: Not Found for url: https://api.themoviedb.org/3/movie/tt0313448?api_key=9bd8d2d73ba74745aca770c997410e22')],\n",
       " ['tt0313974',\n",
       "  requests.exceptions.HTTPError('404 Client Error: Not Found for url: https://api.themoviedb.org/3/movie/tt0313974?api_key=9bd8d2d73ba74745aca770c997410e22')],\n",
       " ['tt0314332',\n",
       "  requests.exceptions.HTTPError('404 Client Error: Not Found for url: https://api.themoviedb.org/3/movie/tt0314332?api_key=9bd8d2d73ba74745aca770c997410e22')],\n",
       " ['tt0316189',\n",
       "  requests.exceptions.HTTPError('404 Client Error: Not Found for url: https://api.themoviedb.org/3/movie/tt0316189?api_key=9bd8d2d73ba74745aca770c997410e22')],\n",
       " ['tt0317911',\n",
       "  requests.exceptions.HTTPError('404 Client Error: Not Found for url: https://api.themoviedb.org/3/movie/tt0317911?api_key=9bd8d2d73ba74745aca770c997410e22')],\n",
       " ['tt0318363',\n",
       "  requests.exceptions.HTTPError('404 Client Error: Not Found for url: https://api.themoviedb.org/3/movie/tt0318363?api_key=9bd8d2d73ba74745aca770c997410e22')],\n",
       " ['tt0322286',\n",
       "  requests.exceptions.HTTPError('404 Client Error: Not Found for url: https://api.themoviedb.org/3/movie/tt0322286?api_key=9bd8d2d73ba74745aca770c997410e22')],\n",
       " ['tt0325126',\n",
       "  requests.exceptions.HTTPError('404 Client Error: Not Found for url: https://api.themoviedb.org/3/movie/tt0325126?api_key=9bd8d2d73ba74745aca770c997410e22')],\n",
       " ['tt0325711',\n",
       "  requests.exceptions.HTTPError('404 Client Error: Not Found for url: https://api.themoviedb.org/3/movie/tt0325711?api_key=9bd8d2d73ba74745aca770c997410e22')],\n",
       " ['tt0328169',\n",
       "  requests.exceptions.HTTPError('404 Client Error: Not Found for url: https://api.themoviedb.org/3/movie/tt0328169?api_key=9bd8d2d73ba74745aca770c997410e22')],\n",
       " ['tt0330200',\n",
       "  requests.exceptions.HTTPError('404 Client Error: Not Found for url: https://api.themoviedb.org/3/movie/tt0330200?api_key=9bd8d2d73ba74745aca770c997410e22')],\n",
       " ['tt0330949',\n",
       "  requests.exceptions.HTTPError('404 Client Error: Not Found for url: https://api.themoviedb.org/3/movie/tt0330949?api_key=9bd8d2d73ba74745aca770c997410e22')],\n",
       " ['tt0332511',\n",
       "  requests.exceptions.HTTPError('404 Client Error: Not Found for url: https://api.themoviedb.org/3/movie/tt0332511?api_key=9bd8d2d73ba74745aca770c997410e22')],\n",
       " ['tt0336164',\n",
       "  requests.exceptions.HTTPError('404 Client Error: Not Found for url: https://api.themoviedb.org/3/movie/tt0336164?api_key=9bd8d2d73ba74745aca770c997410e22')],\n",
       " ['tt0338568',\n",
       "  requests.exceptions.HTTPError('404 Client Error: Not Found for url: https://api.themoviedb.org/3/movie/tt0338568?api_key=9bd8d2d73ba74745aca770c997410e22')],\n",
       " ['tt0342795',\n",
       "  requests.exceptions.HTTPError('404 Client Error: Not Found for url: https://api.themoviedb.org/3/movie/tt0342795?api_key=9bd8d2d73ba74745aca770c997410e22')],\n",
       " ['tt0344484',\n",
       "  requests.exceptions.HTTPError('404 Client Error: Not Found for url: https://api.themoviedb.org/3/movie/tt0344484?api_key=9bd8d2d73ba74745aca770c997410e22')],\n",
       " ['tt0349586',\n",
       "  requests.exceptions.HTTPError('404 Client Error: Not Found for url: https://api.themoviedb.org/3/movie/tt0349586?api_key=9bd8d2d73ba74745aca770c997410e22')],\n",
       " ['tt0350357',\n",
       "  requests.exceptions.HTTPError('404 Client Error: Not Found for url: https://api.themoviedb.org/3/movie/tt0350357?api_key=9bd8d2d73ba74745aca770c997410e22')],\n",
       " ['tt0350730',\n",
       "  requests.exceptions.HTTPError('404 Client Error: Not Found for url: https://api.themoviedb.org/3/movie/tt0350730?api_key=9bd8d2d73ba74745aca770c997410e22')],\n",
       " ['tt0360976',\n",
       "  requests.exceptions.HTTPError('404 Client Error: Not Found for url: https://api.themoviedb.org/3/movie/tt0360976?api_key=9bd8d2d73ba74745aca770c997410e22')],\n",
       " ['tt0362082',\n",
       "  requests.exceptions.HTTPError('404 Client Error: Not Found for url: https://api.themoviedb.org/3/movie/tt0362082?api_key=9bd8d2d73ba74745aca770c997410e22')],\n",
       " ['tt0365240',\n",
       "  requests.exceptions.HTTPError('404 Client Error: Not Found for url: https://api.themoviedb.org/3/movie/tt0365240?api_key=9bd8d2d73ba74745aca770c997410e22')],\n",
       " ['tt0365707',\n",
       "  requests.exceptions.HTTPError('404 Client Error: Not Found for url: https://api.themoviedb.org/3/movie/tt0365707?api_key=9bd8d2d73ba74745aca770c997410e22')],\n",
       " ['tt0369688',\n",
       "  requests.exceptions.HTTPError('404 Client Error: Not Found for url: https://api.themoviedb.org/3/movie/tt0369688?api_key=9bd8d2d73ba74745aca770c997410e22')],\n",
       " ['tt0374475',\n",
       "  requests.exceptions.HTTPError('404 Client Error: Not Found for url: https://api.themoviedb.org/3/movie/tt0374475?api_key=9bd8d2d73ba74745aca770c997410e22')],\n",
       " ['tt0376057',\n",
       "  requests.exceptions.HTTPError('404 Client Error: Not Found for url: https://api.themoviedb.org/3/movie/tt0376057?api_key=9bd8d2d73ba74745aca770c997410e22')],\n",
       " ['tt0386661',\n",
       "  requests.exceptions.HTTPError('404 Client Error: Not Found for url: https://api.themoviedb.org/3/movie/tt0386661?api_key=9bd8d2d73ba74745aca770c997410e22')],\n",
       " ['tt0387555',\n",
       "  requests.exceptions.HTTPError('404 Client Error: Not Found for url: https://api.themoviedb.org/3/movie/tt0387555?api_key=9bd8d2d73ba74745aca770c997410e22')],\n",
       " ['tt0391219',\n",
       "  requests.exceptions.HTTPError('404 Client Error: Not Found for url: https://api.themoviedb.org/3/movie/tt0391219?api_key=9bd8d2d73ba74745aca770c997410e22')],\n",
       " ['tt0391402',\n",
       "  requests.exceptions.HTTPError('404 Client Error: Not Found for url: https://api.themoviedb.org/3/movie/tt0391402?api_key=9bd8d2d73ba74745aca770c997410e22')],\n",
       " ['tt0391422',\n",
       "  requests.exceptions.HTTPError('404 Client Error: Not Found for url: https://api.themoviedb.org/3/movie/tt0391422?api_key=9bd8d2d73ba74745aca770c997410e22')],\n",
       " ['tt0391512',\n",
       "  requests.exceptions.HTTPError('404 Client Error: Not Found for url: https://api.themoviedb.org/3/movie/tt0391512?api_key=9bd8d2d73ba74745aca770c997410e22')],\n",
       " ['tt0398956',\n",
       "  requests.exceptions.HTTPError('404 Client Error: Not Found for url: https://api.themoviedb.org/3/movie/tt0398956?api_key=9bd8d2d73ba74745aca770c997410e22')],\n",
       " ['tt0399144',\n",
       "  requests.exceptions.HTTPError('404 Client Error: Not Found for url: https://api.themoviedb.org/3/movie/tt0399144?api_key=9bd8d2d73ba74745aca770c997410e22')],\n",
       " ['tt0399361',\n",
       "  requests.exceptions.HTTPError('404 Client Error: Not Found for url: https://api.themoviedb.org/3/movie/tt0399361?api_key=9bd8d2d73ba74745aca770c997410e22')],\n",
       " ['tt0401441',\n",
       "  requests.exceptions.HTTPError('404 Client Error: Not Found for url: https://api.themoviedb.org/3/movie/tt0401441?api_key=9bd8d2d73ba74745aca770c997410e22')],\n",
       " ['tt0404291',\n",
       "  requests.exceptions.HTTPError('404 Client Error: Not Found for url: https://api.themoviedb.org/3/movie/tt0404291?api_key=9bd8d2d73ba74745aca770c997410e22')],\n",
       " ['tt0410385',\n",
       "  requests.exceptions.HTTPError('404 Client Error: Not Found for url: https://api.themoviedb.org/3/movie/tt0410385?api_key=9bd8d2d73ba74745aca770c997410e22')],\n",
       " ['tt0414203',\n",
       "  requests.exceptions.HTTPError('404 Client Error: Not Found for url: https://api.themoviedb.org/3/movie/tt0414203?api_key=9bd8d2d73ba74745aca770c997410e22')],\n",
       " ['tt0415009',\n",
       "  requests.exceptions.HTTPError('404 Client Error: Not Found for url: https://api.themoviedb.org/3/movie/tt0415009?api_key=9bd8d2d73ba74745aca770c997410e22')],\n",
       " ['tt0419436',\n",
       "  requests.exceptions.HTTPError('404 Client Error: Not Found for url: https://api.themoviedb.org/3/movie/tt0419436?api_key=9bd8d2d73ba74745aca770c997410e22')],\n",
       " ['tt0419648',\n",
       "  requests.exceptions.HTTPError('404 Client Error: Not Found for url: https://api.themoviedb.org/3/movie/tt0419648?api_key=9bd8d2d73ba74745aca770c997410e22')],\n",
       " ['tt0421246',\n",
       "  requests.exceptions.HTTPError('404 Client Error: Not Found for url: https://api.themoviedb.org/3/movie/tt0421246?api_key=9bd8d2d73ba74745aca770c997410e22')],\n",
       " ['tt0424555',\n",
       "  requests.exceptions.HTTPError('404 Client Error: Not Found for url: https://api.themoviedb.org/3/movie/tt0424555?api_key=9bd8d2d73ba74745aca770c997410e22')],\n",
       " ['tt0425431',\n",
       "  requests.exceptions.HTTPError('404 Client Error: Not Found for url: https://api.themoviedb.org/3/movie/tt0425431?api_key=9bd8d2d73ba74745aca770c997410e22')],\n",
       " ['tt0425989',\n",
       "  requests.exceptions.HTTPError('404 Client Error: Not Found for url: https://api.themoviedb.org/3/movie/tt0425989?api_key=9bd8d2d73ba74745aca770c997410e22')],\n",
       " ['tt0429750',\n",
       "  requests.exceptions.HTTPError('404 Client Error: Not Found for url: https://api.themoviedb.org/3/movie/tt0429750?api_key=9bd8d2d73ba74745aca770c997410e22')],\n",
       " ['tt0434952',\n",
       "  requests.exceptions.HTTPError('404 Client Error: Not Found for url: https://api.themoviedb.org/3/movie/tt0434952?api_key=9bd8d2d73ba74745aca770c997410e22')],\n",
       " ['tt0439846',\n",
       "  requests.exceptions.HTTPError('404 Client Error: Not Found for url: https://api.themoviedb.org/3/movie/tt0439846?api_key=9bd8d2d73ba74745aca770c997410e22')],\n",
       " ['tt0441650',\n",
       "  requests.exceptions.HTTPError('404 Client Error: Not Found for url: https://api.themoviedb.org/3/movie/tt0441650?api_key=9bd8d2d73ba74745aca770c997410e22')],\n",
       " ['tt0449523',\n",
       "  requests.exceptions.HTTPError('404 Client Error: Not Found for url: https://api.themoviedb.org/3/movie/tt0449523?api_key=9bd8d2d73ba74745aca770c997410e22')],\n",
       " ['tt0449530',\n",
       "  requests.exceptions.HTTPError('404 Client Error: Not Found for url: https://api.themoviedb.org/3/movie/tt0449530?api_key=9bd8d2d73ba74745aca770c997410e22')],\n",
       " ['tt0452828',\n",
       "  requests.exceptions.HTTPError('404 Client Error: Not Found for url: https://api.themoviedb.org/3/movie/tt0452828?api_key=9bd8d2d73ba74745aca770c997410e22')],\n",
       " ['tt0454601',\n",
       "  requests.exceptions.HTTPError('404 Client Error: Not Found for url: https://api.themoviedb.org/3/movie/tt0454601?api_key=9bd8d2d73ba74745aca770c997410e22')],\n",
       " ['tt0457592',\n",
       "  requests.exceptions.HTTPError('404 Client Error: Not Found for url: https://api.themoviedb.org/3/movie/tt0457592?api_key=9bd8d2d73ba74745aca770c997410e22')],\n",
       " ['tt0462022',\n",
       "  requests.exceptions.HTTPError('404 Client Error: Not Found for url: https://api.themoviedb.org/3/movie/tt0462022?api_key=9bd8d2d73ba74745aca770c997410e22')],\n",
       " ['tt0469765',\n",
       "  requests.exceptions.HTTPError('404 Client Error: Not Found for url: https://api.themoviedb.org/3/movie/tt0469765?api_key=9bd8d2d73ba74745aca770c997410e22')],\n",
       " ['tt0489215',\n",
       "  requests.exceptions.HTTPError('404 Client Error: Not Found for url: https://api.themoviedb.org/3/movie/tt0489215?api_key=9bd8d2d73ba74745aca770c997410e22')],\n",
       " ['tt0495593',\n",
       "  requests.exceptions.HTTPError('404 Client Error: Not Found for url: https://api.themoviedb.org/3/movie/tt0495593?api_key=9bd8d2d73ba74745aca770c997410e22')],\n",
       " ['tt0756334',\n",
       "  requests.exceptions.HTTPError('404 Client Error: Not Found for url: https://api.themoviedb.org/3/movie/tt0756334?api_key=9bd8d2d73ba74745aca770c997410e22')],\n",
       " ['tt0781047',\n",
       "  requests.exceptions.HTTPError('404 Client Error: Not Found for url: https://api.themoviedb.org/3/movie/tt0781047?api_key=9bd8d2d73ba74745aca770c997410e22')],\n",
       " ['tt0791128',\n",
       "  requests.exceptions.HTTPError('404 Client Error: Not Found for url: https://api.themoviedb.org/3/movie/tt0791128?api_key=9bd8d2d73ba74745aca770c997410e22')],\n",
       " ['tt0800370',\n",
       "  requests.exceptions.HTTPError('404 Client Error: Not Found for url: https://api.themoviedb.org/3/movie/tt0800370?api_key=9bd8d2d73ba74745aca770c997410e22')],\n",
       " ['tt0801351',\n",
       "  requests.exceptions.HTTPError('404 Client Error: Not Found for url: https://api.themoviedb.org/3/movie/tt0801351?api_key=9bd8d2d73ba74745aca770c997410e22')],\n",
       " ['tt0807755',\n",
       "  requests.exceptions.HTTPError('404 Client Error: Not Found for url: https://api.themoviedb.org/3/movie/tt0807755?api_key=9bd8d2d73ba74745aca770c997410e22')],\n",
       " ['tt0810397',\n",
       "  requests.exceptions.HTTPError('404 Client Error: Not Found for url: https://api.themoviedb.org/3/movie/tt0810397?api_key=9bd8d2d73ba74745aca770c997410e22')],\n",
       " ['tt0814238',\n",
       "  requests.exceptions.HTTPError('404 Client Error: Not Found for url: https://api.themoviedb.org/3/movie/tt0814238?api_key=9bd8d2d73ba74745aca770c997410e22')],\n",
       " ['tt0818909',\n",
       "  requests.exceptions.HTTPError('404 Client Error: Not Found for url: https://api.themoviedb.org/3/movie/tt0818909?api_key=9bd8d2d73ba74745aca770c997410e22')],\n",
       " ['tt0836647',\n",
       "  requests.exceptions.HTTPError('404 Client Error: Not Found for url: https://api.themoviedb.org/3/movie/tt0836647?api_key=9bd8d2d73ba74745aca770c997410e22')],\n",
       " ['tt0925299',\n",
       "  requests.exceptions.HTTPError('404 Client Error: Not Found for url: https://api.themoviedb.org/3/movie/tt0925299?api_key=9bd8d2d73ba74745aca770c997410e22')],\n",
       " ['tt0997213',\n",
       "  requests.exceptions.HTTPError('404 Client Error: Not Found for url: https://api.themoviedb.org/3/movie/tt0997213?api_key=9bd8d2d73ba74745aca770c997410e22')],\n",
       " ['tt10332512',\n",
       "  requests.exceptions.HTTPError('404 Client Error: Not Found for url: https://api.themoviedb.org/3/movie/tt10332512?api_key=9bd8d2d73ba74745aca770c997410e22')],\n",
       " ['tt1033479',\n",
       "  requests.exceptions.HTTPError('404 Client Error: Not Found for url: https://api.themoviedb.org/3/movie/tt1033479?api_key=9bd8d2d73ba74745aca770c997410e22')],\n",
       " ['tt10456236',\n",
       "  requests.exceptions.HTTPError('404 Client Error: Not Found for url: https://api.themoviedb.org/3/movie/tt10456236?api_key=9bd8d2d73ba74745aca770c997410e22')],\n",
       " ['tt10473208',\n",
       "  requests.exceptions.HTTPError('404 Client Error: Not Found for url: https://api.themoviedb.org/3/movie/tt10473208?api_key=9bd8d2d73ba74745aca770c997410e22')],\n",
       " ['tt1050264',\n",
       "  requests.exceptions.HTTPError('404 Client Error: Not Found for url: https://api.themoviedb.org/3/movie/tt1050264?api_key=9bd8d2d73ba74745aca770c997410e22')],\n",
       " ['tt1068970',\n",
       "  requests.exceptions.HTTPError('404 Client Error: Not Found for url: https://api.themoviedb.org/3/movie/tt1068970?api_key=9bd8d2d73ba74745aca770c997410e22')],\n",
       " ['tt10707030',\n",
       "  requests.exceptions.HTTPError('404 Client Error: Not Found for url: https://api.themoviedb.org/3/movie/tt10707030?api_key=9bd8d2d73ba74745aca770c997410e22')],\n",
       " ['tt10924988',\n",
       "  requests.exceptions.HTTPError('404 Client Error: Not Found for url: https://api.themoviedb.org/3/movie/tt10924988?api_key=9bd8d2d73ba74745aca770c997410e22')],\n",
       " ['tt10933608',\n",
       "  requests.exceptions.HTTPError('404 Client Error: Not Found for url: https://api.themoviedb.org/3/movie/tt10933608?api_key=9bd8d2d73ba74745aca770c997410e22')],\n",
       " ['tt11700882',\n",
       "  requests.exceptions.HTTPError('404 Client Error: Not Found for url: https://api.themoviedb.org/3/movie/tt11700882?api_key=9bd8d2d73ba74745aca770c997410e22')],\n",
       " ['tt1198203',\n",
       "  requests.exceptions.HTTPError('404 Client Error: Not Found for url: https://api.themoviedb.org/3/movie/tt1198203?api_key=9bd8d2d73ba74745aca770c997410e22')],\n",
       " ['tt12024386',\n",
       "  requests.exceptions.HTTPError('404 Client Error: Not Found for url: https://api.themoviedb.org/3/movie/tt12024386?api_key=9bd8d2d73ba74745aca770c997410e22')],\n",
       " ['tt12921142',\n",
       "  requests.exceptions.HTTPError('404 Client Error: Not Found for url: https://api.themoviedb.org/3/movie/tt12921142?api_key=9bd8d2d73ba74745aca770c997410e22')],\n",
       " ['tt13309722',\n",
       "  requests.exceptions.HTTPError('404 Client Error: Not Found for url: https://api.themoviedb.org/3/movie/tt13309722?api_key=9bd8d2d73ba74745aca770c997410e22')],\n",
       " ['tt13463300',\n",
       "  requests.exceptions.HTTPError('404 Client Error: Not Found for url: https://api.themoviedb.org/3/movie/tt13463300?api_key=9bd8d2d73ba74745aca770c997410e22')],\n",
       " ['tt1436012',\n",
       "  requests.exceptions.HTTPError('404 Client Error: Not Found for url: https://api.themoviedb.org/3/movie/tt1436012?api_key=9bd8d2d73ba74745aca770c997410e22')],\n",
       " ['tt1437278',\n",
       "  requests.exceptions.HTTPError('404 Client Error: Not Found for url: https://api.themoviedb.org/3/movie/tt1437278?api_key=9bd8d2d73ba74745aca770c997410e22')],\n",
       " ['tt1437885',\n",
       "  requests.exceptions.HTTPError('404 Client Error: Not Found for url: https://api.themoviedb.org/3/movie/tt1437885?api_key=9bd8d2d73ba74745aca770c997410e22')],\n",
       " ['tt1482883',\n",
       "  requests.exceptions.HTTPError('404 Client Error: Not Found for url: https://api.themoviedb.org/3/movie/tt1482883?api_key=9bd8d2d73ba74745aca770c997410e22')],\n",
       " ['tt15415112',\n",
       "  requests.exceptions.HTTPError('404 Client Error: Not Found for url: https://api.themoviedb.org/3/movie/tt15415112?api_key=9bd8d2d73ba74745aca770c997410e22')],\n",
       " ['tt1543821',\n",
       "  requests.exceptions.HTTPError('404 Client Error: Not Found for url: https://api.themoviedb.org/3/movie/tt1543821?api_key=9bd8d2d73ba74745aca770c997410e22')],\n",
       " ['tt1568879',\n",
       "  requests.exceptions.HTTPError('404 Client Error: Not Found for url: https://api.themoviedb.org/3/movie/tt1568879?api_key=9bd8d2d73ba74745aca770c997410e22')],\n",
       " ['tt15767310',\n",
       "  requests.exceptions.HTTPError('404 Client Error: Not Found for url: https://api.themoviedb.org/3/movie/tt15767310?api_key=9bd8d2d73ba74745aca770c997410e22')],\n",
       " ['tt1661228',\n",
       "  requests.exceptions.HTTPError('404 Client Error: Not Found for url: https://api.themoviedb.org/3/movie/tt1661228?api_key=9bd8d2d73ba74745aca770c997410e22')],\n",
       " ['tt1828974',\n",
       "  requests.exceptions.HTTPError('404 Client Error: Not Found for url: https://api.themoviedb.org/3/movie/tt1828974?api_key=9bd8d2d73ba74745aca770c997410e22')],\n",
       " ['tt1864512',\n",
       "  requests.exceptions.HTTPError('404 Client Error: Not Found for url: https://api.themoviedb.org/3/movie/tt1864512?api_key=9bd8d2d73ba74745aca770c997410e22')],\n",
       " ['tt1929426',\n",
       "  requests.exceptions.HTTPError('404 Client Error: Not Found for url: https://api.themoviedb.org/3/movie/tt1929426?api_key=9bd8d2d73ba74745aca770c997410e22')],\n",
       " ['tt19638572',\n",
       "  requests.exceptions.HTTPError('404 Client Error: Not Found for url: https://api.themoviedb.org/3/movie/tt19638572?api_key=9bd8d2d73ba74745aca770c997410e22')],\n",
       " ['tt2008573',\n",
       "  requests.exceptions.HTTPError('404 Client Error: Not Found for url: https://api.themoviedb.org/3/movie/tt2008573?api_key=9bd8d2d73ba74745aca770c997410e22')],\n",
       " ['tt20420498',\n",
       "  requests.exceptions.HTTPError('404 Client Error: Not Found for url: https://api.themoviedb.org/3/movie/tt20420498?api_key=9bd8d2d73ba74745aca770c997410e22')],\n",
       " ['tt2108462',\n",
       "  requests.exceptions.HTTPError('404 Client Error: Not Found for url: https://api.themoviedb.org/3/movie/tt2108462?api_key=9bd8d2d73ba74745aca770c997410e22')],\n",
       " ['tt21084824',\n",
       "  requests.exceptions.HTTPError('404 Client Error: Not Found for url: https://api.themoviedb.org/3/movie/tt21084824?api_key=9bd8d2d73ba74745aca770c997410e22')],\n",
       " ['tt2162318',\n",
       "  requests.exceptions.HTTPError('404 Client Error: Not Found for url: https://api.themoviedb.org/3/movie/tt2162318?api_key=9bd8d2d73ba74745aca770c997410e22')],\n",
       " ['tt2165651',\n",
       "  requests.exceptions.HTTPError('404 Client Error: Not Found for url: https://api.themoviedb.org/3/movie/tt2165651?api_key=9bd8d2d73ba74745aca770c997410e22')],\n",
       " ['tt2207592',\n",
       "  requests.exceptions.HTTPError('404 Client Error: Not Found for url: https://api.themoviedb.org/3/movie/tt2207592?api_key=9bd8d2d73ba74745aca770c997410e22')],\n",
       " ['tt2210979',\n",
       "  requests.exceptions.HTTPError('404 Client Error: Not Found for url: https://api.themoviedb.org/3/movie/tt2210979?api_key=9bd8d2d73ba74745aca770c997410e22')],\n",
       " ['tt2228898',\n",
       "  requests.exceptions.HTTPError('404 Client Error: Not Found for url: https://api.themoviedb.org/3/movie/tt2228898?api_key=9bd8d2d73ba74745aca770c997410e22')],\n",
       " ['tt23036302',\n",
       "  requests.exceptions.HTTPError('404 Client Error: Not Found for url: https://api.themoviedb.org/3/movie/tt23036302?api_key=9bd8d2d73ba74745aca770c997410e22')],\n",
       " ['tt2406660',\n",
       "  requests.exceptions.HTTPError('404 Client Error: Not Found for url: https://api.themoviedb.org/3/movie/tt2406660?api_key=9bd8d2d73ba74745aca770c997410e22')],\n",
       " ['tt2431894',\n",
       "  requests.exceptions.HTTPError('404 Client Error: Not Found for url: https://api.themoviedb.org/3/movie/tt2431894?api_key=9bd8d2d73ba74745aca770c997410e22')],\n",
       " ['tt2554022',\n",
       "  requests.exceptions.HTTPError('404 Client Error: Not Found for url: https://api.themoviedb.org/3/movie/tt2554022?api_key=9bd8d2d73ba74745aca770c997410e22')],\n",
       " ['tt26245888',\n",
       "  requests.exceptions.HTTPError('404 Client Error: Not Found for url: https://api.themoviedb.org/3/movie/tt26245888?api_key=9bd8d2d73ba74745aca770c997410e22')],\n",
       " ['tt2666074',\n",
       "  requests.exceptions.HTTPError('404 Client Error: Not Found for url: https://api.themoviedb.org/3/movie/tt2666074?api_key=9bd8d2d73ba74745aca770c997410e22')],\n",
       " ['tt27073272',\n",
       "  requests.exceptions.HTTPError('404 Client Error: Not Found for url: https://api.themoviedb.org/3/movie/tt27073272?api_key=9bd8d2d73ba74745aca770c997410e22')],\n",
       " ['tt2890320',\n",
       "  requests.exceptions.HTTPError('404 Client Error: Not Found for url: https://api.themoviedb.org/3/movie/tt2890320?api_key=9bd8d2d73ba74745aca770c997410e22')],\n",
       " ['tt3139912',\n",
       "  requests.exceptions.HTTPError('404 Client Error: Not Found for url: https://api.themoviedb.org/3/movie/tt3139912?api_key=9bd8d2d73ba74745aca770c997410e22')],\n",
       " ['tt3252934',\n",
       "  requests.exceptions.HTTPError('404 Client Error: Not Found for url: https://api.themoviedb.org/3/movie/tt3252934?api_key=9bd8d2d73ba74745aca770c997410e22')],\n",
       " ['tt3314212',\n",
       "  requests.exceptions.HTTPError('404 Client Error: Not Found for url: https://api.themoviedb.org/3/movie/tt3314212?api_key=9bd8d2d73ba74745aca770c997410e22')],\n",
       " ['tt3540048',\n",
       "  requests.exceptions.HTTPError('404 Client Error: Not Found for url: https://api.themoviedb.org/3/movie/tt3540048?api_key=9bd8d2d73ba74745aca770c997410e22')],\n",
       " ['tt3807778',\n",
       "  requests.exceptions.HTTPError('404 Client Error: Not Found for url: https://api.themoviedb.org/3/movie/tt3807778?api_key=9bd8d2d73ba74745aca770c997410e22')],\n",
       " ['tt3846452',\n",
       "  requests.exceptions.HTTPError('404 Client Error: Not Found for url: https://api.themoviedb.org/3/movie/tt3846452?api_key=9bd8d2d73ba74745aca770c997410e22')],\n",
       " ['tt4168252',\n",
       "  requests.exceptions.HTTPError('404 Client Error: Not Found for url: https://api.themoviedb.org/3/movie/tt4168252?api_key=9bd8d2d73ba74745aca770c997410e22')],\n",
       " ['tt4175658',\n",
       "  requests.exceptions.HTTPError('404 Client Error: Not Found for url: https://api.themoviedb.org/3/movie/tt4175658?api_key=9bd8d2d73ba74745aca770c997410e22')],\n",
       " ['tt5161408',\n",
       "  requests.exceptions.HTTPError('404 Client Error: Not Found for url: https://api.themoviedb.org/3/movie/tt5161408?api_key=9bd8d2d73ba74745aca770c997410e22')],\n",
       " ['tt5974962',\n",
       "  requests.exceptions.HTTPError('404 Client Error: Not Found for url: https://api.themoviedb.org/3/movie/tt5974962?api_key=9bd8d2d73ba74745aca770c997410e22')],\n",
       " ['tt6101766',\n",
       "  requests.exceptions.HTTPError('404 Client Error: Not Found for url: https://api.themoviedb.org/3/movie/tt6101766?api_key=9bd8d2d73ba74745aca770c997410e22')],\n",
       " ['tt6235936',\n",
       "  requests.exceptions.HTTPError('404 Client Error: Not Found for url: https://api.themoviedb.org/3/movie/tt6235936?api_key=9bd8d2d73ba74745aca770c997410e22')],\n",
       " ['tt6246810',\n",
       "  requests.exceptions.HTTPError('404 Client Error: Not Found for url: https://api.themoviedb.org/3/movie/tt6246810?api_key=9bd8d2d73ba74745aca770c997410e22')],\n",
       " ['tt6258040',\n",
       "  requests.exceptions.HTTPError('404 Client Error: Not Found for url: https://api.themoviedb.org/3/movie/tt6258040?api_key=9bd8d2d73ba74745aca770c997410e22')],\n",
       " ['tt6442762',\n",
       "  requests.exceptions.HTTPError('404 Client Error: Not Found for url: https://api.themoviedb.org/3/movie/tt6442762?api_key=9bd8d2d73ba74745aca770c997410e22')],\n",
       " ['tt6920966',\n",
       "  requests.exceptions.HTTPError('404 Client Error: Not Found for url: https://api.themoviedb.org/3/movie/tt6920966?api_key=9bd8d2d73ba74745aca770c997410e22')],\n",
       " ['tt7145146',\n",
       "  requests.exceptions.HTTPError('404 Client Error: Not Found for url: https://api.themoviedb.org/3/movie/tt7145146?api_key=9bd8d2d73ba74745aca770c997410e22')],\n",
       " ['tt7529862',\n",
       "  requests.exceptions.HTTPError('404 Client Error: Not Found for url: https://api.themoviedb.org/3/movie/tt7529862?api_key=9bd8d2d73ba74745aca770c997410e22')],\n",
       " ['tt7881990',\n",
       "  requests.exceptions.HTTPError('404 Client Error: Not Found for url: https://api.themoviedb.org/3/movie/tt7881990?api_key=9bd8d2d73ba74745aca770c997410e22')],\n",
       " ['tt7947722',\n",
       "  requests.exceptions.HTTPError('404 Client Error: Not Found for url: https://api.themoviedb.org/3/movie/tt7947722?api_key=9bd8d2d73ba74745aca770c997410e22')],\n",
       " ['tt8369902',\n",
       "  requests.exceptions.HTTPError('404 Client Error: Not Found for url: https://api.themoviedb.org/3/movie/tt8369902?api_key=9bd8d2d73ba74745aca770c997410e22')],\n",
       " ['tt8546902',\n",
       "  requests.exceptions.HTTPError('404 Client Error: Not Found for url: https://api.themoviedb.org/3/movie/tt8546902?api_key=9bd8d2d73ba74745aca770c997410e22')],\n",
       " ['tt8846956',\n",
       "  requests.exceptions.HTTPError('404 Client Error: Not Found for url: https://api.themoviedb.org/3/movie/tt8846956?api_key=9bd8d2d73ba74745aca770c997410e22')],\n",
       " ['tt9228234',\n",
       "  requests.exceptions.HTTPError('404 Client Error: Not Found for url: https://api.themoviedb.org/3/movie/tt9228234?api_key=9bd8d2d73ba74745aca770c997410e22')],\n",
       " ['tt9555974',\n",
       "  requests.exceptions.HTTPError('404 Client Error: Not Found for url: https://api.themoviedb.org/3/movie/tt9555974?api_key=9bd8d2d73ba74745aca770c997410e22')],\n",
       " ['tt9578462',\n",
       "  requests.exceptions.HTTPError('404 Client Error: Not Found for url: https://api.themoviedb.org/3/movie/tt9578462?api_key=9bd8d2d73ba74745aca770c997410e22')],\n",
       " ['tt0115937',\n",
       "  requests.exceptions.HTTPError('404 Client Error: Not Found for url: https://api.themoviedb.org/3/movie/tt0115937?api_key=9bd8d2d73ba74745aca770c997410e22')],\n",
       " ['tt0116628',\n",
       "  requests.exceptions.HTTPError('404 Client Error: Not Found for url: https://api.themoviedb.org/3/movie/tt0116628?api_key=9bd8d2d73ba74745aca770c997410e22')],\n",
       " ['tt0118710',\n",
       "  requests.exceptions.HTTPError('404 Client Error: Not Found for url: https://api.themoviedb.org/3/movie/tt0118710?api_key=9bd8d2d73ba74745aca770c997410e22')],\n",
       " ['tt0119966',\n",
       "  requests.exceptions.HTTPError('404 Client Error: Not Found for url: https://api.themoviedb.org/3/movie/tt0119966?api_key=9bd8d2d73ba74745aca770c997410e22')],\n",
       " ['tt0120673',\n",
       "  requests.exceptions.HTTPError('404 Client Error: Not Found for url: https://api.themoviedb.org/3/movie/tt0120673?api_key=9bd8d2d73ba74745aca770c997410e22')],\n",
       " ['tt0137698',\n",
       "  requests.exceptions.HTTPError('404 Client Error: Not Found for url: https://api.themoviedb.org/3/movie/tt0137698?api_key=9bd8d2d73ba74745aca770c997410e22')],\n",
       " ['tt0138583',\n",
       "  requests.exceptions.HTTPError('404 Client Error: Not Found for url: https://api.themoviedb.org/3/movie/tt0138583?api_key=9bd8d2d73ba74745aca770c997410e22')],\n",
       " ['tt0139159',\n",
       "  requests.exceptions.HTTPError('404 Client Error: Not Found for url: https://api.themoviedb.org/3/movie/tt0139159?api_key=9bd8d2d73ba74745aca770c997410e22')],\n",
       " ['tt0147447',\n",
       "  requests.exceptions.HTTPError('404 Client Error: Not Found for url: https://api.themoviedb.org/3/movie/tt0147447?api_key=9bd8d2d73ba74745aca770c997410e22')],\n",
       " ['tt0160425',\n",
       "  requests.exceptions.HTTPError('404 Client Error: Not Found for url: https://api.themoviedb.org/3/movie/tt0160425?api_key=9bd8d2d73ba74745aca770c997410e22')],\n",
       " ['tt0166339',\n",
       "  requests.exceptions.HTTPError('404 Client Error: Not Found for url: https://api.themoviedb.org/3/movie/tt0166339?api_key=9bd8d2d73ba74745aca770c997410e22')],\n",
       " ['tt0168578',\n",
       "  requests.exceptions.HTTPError('404 Client Error: Not Found for url: https://api.themoviedb.org/3/movie/tt0168578?api_key=9bd8d2d73ba74745aca770c997410e22')],\n",
       " ['tt0171827',\n",
       "  requests.exceptions.HTTPError('404 Client Error: Not Found for url: https://api.themoviedb.org/3/movie/tt0171827?api_key=9bd8d2d73ba74745aca770c997410e22')],\n",
       " ['tt0172854',\n",
       "  requests.exceptions.HTTPError('404 Client Error: Not Found for url: https://api.themoviedb.org/3/movie/tt0172854?api_key=9bd8d2d73ba74745aca770c997410e22')],\n",
       " ['tt0176578',\n",
       "  requests.exceptions.HTTPError('404 Client Error: Not Found for url: https://api.themoviedb.org/3/movie/tt0176578?api_key=9bd8d2d73ba74745aca770c997410e22')],\n",
       " ['tt0184009',\n",
       "  requests.exceptions.HTTPError('404 Client Error: Not Found for url: https://api.themoviedb.org/3/movie/tt0184009?api_key=9bd8d2d73ba74745aca770c997410e22')],\n",
       " ['tt0186221',\n",
       "  requests.exceptions.HTTPError('404 Client Error: Not Found for url: https://api.themoviedb.org/3/movie/tt0186221?api_key=9bd8d2d73ba74745aca770c997410e22')],\n",
       " ['tt0198460',\n",
       "  requests.exceptions.HTTPError('404 Client Error: Not Found for url: https://api.themoviedb.org/3/movie/tt0198460?api_key=9bd8d2d73ba74745aca770c997410e22')],\n",
       " ['tt0201275',\n",
       "  requests.exceptions.HTTPError('404 Client Error: Not Found for url: https://api.themoviedb.org/3/movie/tt0201275?api_key=9bd8d2d73ba74745aca770c997410e22')],\n",
       " ['tt0202487',\n",
       "  requests.exceptions.HTTPError('404 Client Error: Not Found for url: https://api.themoviedb.org/3/movie/tt0202487?api_key=9bd8d2d73ba74745aca770c997410e22')],\n",
       " ['tt0202829',\n",
       "  requests.exceptions.HTTPError('404 Client Error: Not Found for url: https://api.themoviedb.org/3/movie/tt0202829?api_key=9bd8d2d73ba74745aca770c997410e22')],\n",
       " ['tt0203144',\n",
       "  requests.exceptions.HTTPError('404 Client Error: Not Found for url: https://api.themoviedb.org/3/movie/tt0203144?api_key=9bd8d2d73ba74745aca770c997410e22')],\n",
       " ['tt0204679',\n",
       "  requests.exceptions.HTTPError('404 Client Error: Not Found for url: https://api.themoviedb.org/3/movie/tt0204679?api_key=9bd8d2d73ba74745aca770c997410e22')],\n",
       " ['tt0205521',\n",
       "  requests.exceptions.HTTPError('404 Client Error: Not Found for url: https://api.themoviedb.org/3/movie/tt0205521?api_key=9bd8d2d73ba74745aca770c997410e22')],\n",
       " ['tt0207337',\n",
       "  requests.exceptions.HTTPError('404 Client Error: Not Found for url: https://api.themoviedb.org/3/movie/tt0207337?api_key=9bd8d2d73ba74745aca770c997410e22')],\n",
       " ['tt0208910',\n",
       "  requests.exceptions.HTTPError('404 Client Error: Not Found for url: https://api.themoviedb.org/3/movie/tt0208910?api_key=9bd8d2d73ba74745aca770c997410e22')],\n",
       " ['tt0210776',\n",
       "  requests.exceptions.HTTPError('404 Client Error: Not Found for url: https://api.themoviedb.org/3/movie/tt0210776?api_key=9bd8d2d73ba74745aca770c997410e22')],\n",
       " ['tt0211296',\n",
       "  requests.exceptions.HTTPError('404 Client Error: Not Found for url: https://api.themoviedb.org/3/movie/tt0211296?api_key=9bd8d2d73ba74745aca770c997410e22')],\n",
       " ['tt0212873',\n",
       "  requests.exceptions.HTTPError('404 Client Error: Not Found for url: https://api.themoviedb.org/3/movie/tt0212873?api_key=9bd8d2d73ba74745aca770c997410e22')],\n",
       " ['tt0216256',\n",
       "  requests.exceptions.HTTPError('404 Client Error: Not Found for url: https://api.themoviedb.org/3/movie/tt0216256?api_key=9bd8d2d73ba74745aca770c997410e22')],\n",
       " ['tt0216837',\n",
       "  requests.exceptions.HTTPError('404 Client Error: Not Found for url: https://api.themoviedb.org/3/movie/tt0216837?api_key=9bd8d2d73ba74745aca770c997410e22')],\n",
       " ['tt0216949',\n",
       "  requests.exceptions.HTTPError('404 Client Error: Not Found for url: https://api.themoviedb.org/3/movie/tt0216949?api_key=9bd8d2d73ba74745aca770c997410e22')],\n",
       " ['tt0218561',\n",
       "  requests.exceptions.HTTPError('404 Client Error: Not Found for url: https://api.themoviedb.org/3/movie/tt0218561?api_key=9bd8d2d73ba74745aca770c997410e22')],\n",
       " ['tt0221463',\n",
       "  requests.exceptions.HTTPError('404 Client Error: Not Found for url: https://api.themoviedb.org/3/movie/tt0221463?api_key=9bd8d2d73ba74745aca770c997410e22')],\n",
       " ['tt0224451',\n",
       "  requests.exceptions.HTTPError('404 Client Error: Not Found for url: https://api.themoviedb.org/3/movie/tt0224451?api_key=9bd8d2d73ba74745aca770c997410e22')],\n",
       " ['tt0226488',\n",
       "  requests.exceptions.HTTPError('404 Client Error: Not Found for url: https://api.themoviedb.org/3/movie/tt0226488?api_key=9bd8d2d73ba74745aca770c997410e22')],\n",
       " ['tt0226591',\n",
       "  requests.exceptions.HTTPError('404 Client Error: Not Found for url: https://api.themoviedb.org/3/movie/tt0226591?api_key=9bd8d2d73ba74745aca770c997410e22')],\n",
       " ['tt0228214',\n",
       "  requests.exceptions.HTTPError('404 Client Error: Not Found for url: https://api.themoviedb.org/3/movie/tt0228214?api_key=9bd8d2d73ba74745aca770c997410e22')],\n",
       " ['tt0228389',\n",
       "  requests.exceptions.HTTPError('404 Client Error: Not Found for url: https://api.themoviedb.org/3/movie/tt0228389?api_key=9bd8d2d73ba74745aca770c997410e22')],\n",
       " ['tt0228889',\n",
       "  requests.exceptions.HTTPError('404 Client Error: Not Found for url: https://api.themoviedb.org/3/movie/tt0228889?api_key=9bd8d2d73ba74745aca770c997410e22')],\n",
       " ['tt0230056',\n",
       "  requests.exceptions.HTTPError('404 Client Error: Not Found for url: https://api.themoviedb.org/3/movie/tt0230056?api_key=9bd8d2d73ba74745aca770c997410e22')],\n",
       " ['tt0230350',\n",
       "  requests.exceptions.HTTPError('404 Client Error: Not Found for url: https://api.themoviedb.org/3/movie/tt0230350?api_key=9bd8d2d73ba74745aca770c997410e22')],\n",
       " ['tt0234750',\n",
       "  requests.exceptions.HTTPError('404 Client Error: Not Found for url: https://api.themoviedb.org/3/movie/tt0234750?api_key=9bd8d2d73ba74745aca770c997410e22')],\n",
       " ['tt0235877',\n",
       "  requests.exceptions.HTTPError('404 Client Error: Not Found for url: https://api.themoviedb.org/3/movie/tt0235877?api_key=9bd8d2d73ba74745aca770c997410e22')],\n",
       " ['tt0236261',\n",
       "  requests.exceptions.HTTPError('404 Client Error: Not Found for url: https://api.themoviedb.org/3/movie/tt0236261?api_key=9bd8d2d73ba74745aca770c997410e22')],\n",
       " ['tt0236832',\n",
       "  requests.exceptions.HTTPError('404 Client Error: Not Found for url: https://api.themoviedb.org/3/movie/tt0236832?api_key=9bd8d2d73ba74745aca770c997410e22')],\n",
       " ['tt0238121',\n",
       "  requests.exceptions.HTTPError('404 Client Error: Not Found for url: https://api.themoviedb.org/3/movie/tt0238121?api_key=9bd8d2d73ba74745aca770c997410e22')],\n",
       " ['tt0238373',\n",
       "  requests.exceptions.HTTPError('404 Client Error: Not Found for url: https://api.themoviedb.org/3/movie/tt0238373?api_key=9bd8d2d73ba74745aca770c997410e22')],\n",
       " ['tt0240903',\n",
       "  requests.exceptions.HTTPError('404 Client Error: Not Found for url: https://api.themoviedb.org/3/movie/tt0240903?api_key=9bd8d2d73ba74745aca770c997410e22')],\n",
       " ['tt0241250',\n",
       "  requests.exceptions.HTTPError('404 Client Error: Not Found for url: https://api.themoviedb.org/3/movie/tt0241250?api_key=9bd8d2d73ba74745aca770c997410e22')],\n",
       " ['tt0241297',\n",
       "  requests.exceptions.HTTPError('404 Client Error: Not Found for url: https://api.themoviedb.org/3/movie/tt0241297?api_key=9bd8d2d73ba74745aca770c997410e22')],\n",
       " ['tt0242734',\n",
       "  requests.exceptions.HTTPError('404 Client Error: Not Found for url: https://api.themoviedb.org/3/movie/tt0242734?api_key=9bd8d2d73ba74745aca770c997410e22')],\n",
       " ['tt0242821',\n",
       "  requests.exceptions.HTTPError('404 Client Error: Not Found for url: https://api.themoviedb.org/3/movie/tt0242821?api_key=9bd8d2d73ba74745aca770c997410e22')],\n",
       " ['tt0243291',\n",
       "  requests.exceptions.HTTPError('404 Client Error: Not Found for url: https://api.themoviedb.org/3/movie/tt0243291?api_key=9bd8d2d73ba74745aca770c997410e22')],\n",
       " ['tt0245438',\n",
       "  requests.exceptions.HTTPError('404 Client Error: Not Found for url: https://api.themoviedb.org/3/movie/tt0245438?api_key=9bd8d2d73ba74745aca770c997410e22')],\n",
       " ['tt0246555',\n",
       "  requests.exceptions.HTTPError('404 Client Error: Not Found for url: https://api.themoviedb.org/3/movie/tt0246555?api_key=9bd8d2d73ba74745aca770c997410e22')],\n",
       " ['tt0247294',\n",
       "  requests.exceptions.HTTPError('404 Client Error: Not Found for url: https://api.themoviedb.org/3/movie/tt0247294?api_key=9bd8d2d73ba74745aca770c997410e22')],\n",
       " ['tt0248351',\n",
       "  requests.exceptions.HTTPError('404 Client Error: Not Found for url: https://api.themoviedb.org/3/movie/tt0248351?api_key=9bd8d2d73ba74745aca770c997410e22')],\n",
       " ['tt0249086',\n",
       "  requests.exceptions.HTTPError('404 Client Error: Not Found for url: https://api.themoviedb.org/3/movie/tt0249086?api_key=9bd8d2d73ba74745aca770c997410e22')],\n",
       " ['tt0249858',\n",
       "  requests.exceptions.HTTPError('404 Client Error: Not Found for url: https://api.themoviedb.org/3/movie/tt0249858?api_key=9bd8d2d73ba74745aca770c997410e22')],\n",
       " ['tt0251670',\n",
       "  requests.exceptions.HTTPError('404 Client Error: Not Found for url: https://api.themoviedb.org/3/movie/tt0251670?api_key=9bd8d2d73ba74745aca770c997410e22')],\n",
       " ['tt0254067',\n",
       "  requests.exceptions.HTTPError('404 Client Error: Not Found for url: https://api.themoviedb.org/3/movie/tt0254067?api_key=9bd8d2d73ba74745aca770c997410e22')],\n",
       " ['tt0255099',\n",
       "  requests.exceptions.HTTPError('404 Client Error: Not Found for url: https://api.themoviedb.org/3/movie/tt0255099?api_key=9bd8d2d73ba74745aca770c997410e22')],\n",
       " ['tt0255582',\n",
       "  requests.exceptions.HTTPError('404 Client Error: Not Found for url: https://api.themoviedb.org/3/movie/tt0255582?api_key=9bd8d2d73ba74745aca770c997410e22')],\n",
       " ['tt0256160',\n",
       "  requests.exceptions.HTTPError('404 Client Error: Not Found for url: https://api.themoviedb.org/3/movie/tt0256160?api_key=9bd8d2d73ba74745aca770c997410e22')],\n",
       " ['tt0257764',\n",
       "  requests.exceptions.HTTPError('404 Client Error: Not Found for url: https://api.themoviedb.org/3/movie/tt0257764?api_key=9bd8d2d73ba74745aca770c997410e22')],\n",
       " ['tt0258604',\n",
       "  requests.exceptions.HTTPError('404 Client Error: Not Found for url: https://api.themoviedb.org/3/movie/tt0258604?api_key=9bd8d2d73ba74745aca770c997410e22')],\n",
       " ['tt0259333',\n",
       "  requests.exceptions.HTTPError('404 Client Error: Not Found for url: https://api.themoviedb.org/3/movie/tt0259333?api_key=9bd8d2d73ba74745aca770c997410e22')],\n",
       " ['tt0263256',\n",
       "  requests.exceptions.HTTPError('404 Client Error: Not Found for url: https://api.themoviedb.org/3/movie/tt0263256?api_key=9bd8d2d73ba74745aca770c997410e22')],\n",
       " ['tt0265175',\n",
       "  requests.exceptions.HTTPError('404 Client Error: Not Found for url: https://api.themoviedb.org/3/movie/tt0265175?api_key=9bd8d2d73ba74745aca770c997410e22')],\n",
       " ['tt0265273',\n",
       "  requests.exceptions.HTTPError('404 Client Error: Not Found for url: https://api.themoviedb.org/3/movie/tt0265273?api_key=9bd8d2d73ba74745aca770c997410e22')],\n",
       " ['tt0266073',\n",
       "  requests.exceptions.HTTPError('404 Client Error: Not Found for url: https://api.themoviedb.org/3/movie/tt0266073?api_key=9bd8d2d73ba74745aca770c997410e22')],\n",
       " ['tt0266238',\n",
       "  requests.exceptions.HTTPError('404 Client Error: Not Found for url: https://api.themoviedb.org/3/movie/tt0266238?api_key=9bd8d2d73ba74745aca770c997410e22')],\n",
       " ['tt0266519',\n",
       "  requests.exceptions.HTTPError('404 Client Error: Not Found for url: https://api.themoviedb.org/3/movie/tt0266519?api_key=9bd8d2d73ba74745aca770c997410e22')],\n",
       " ['tt0266807',\n",
       "  requests.exceptions.HTTPError('404 Client Error: Not Found for url: https://api.themoviedb.org/3/movie/tt0266807?api_key=9bd8d2d73ba74745aca770c997410e22')],\n",
       " ['tt0267263',\n",
       "  requests.exceptions.HTTPError('404 Client Error: Not Found for url: https://api.themoviedb.org/3/movie/tt0267263?api_key=9bd8d2d73ba74745aca770c997410e22')],\n",
       " ['tt0270320',\n",
       "  requests.exceptions.HTTPError('404 Client Error: Not Found for url: https://api.themoviedb.org/3/movie/tt0270320?api_key=9bd8d2d73ba74745aca770c997410e22')],\n",
       " ['tt0270989',\n",
       "  requests.exceptions.HTTPError('404 Client Error: Not Found for url: https://api.themoviedb.org/3/movie/tt0270989?api_key=9bd8d2d73ba74745aca770c997410e22')],\n",
       " ['tt0271561',\n",
       "  requests.exceptions.HTTPError('404 Client Error: Not Found for url: https://api.themoviedb.org/3/movie/tt0271561?api_key=9bd8d2d73ba74745aca770c997410e22')],\n",
       " ['tt0271624',\n",
       "  requests.exceptions.HTTPError('404 Client Error: Not Found for url: https://api.themoviedb.org/3/movie/tt0271624?api_key=9bd8d2d73ba74745aca770c997410e22')],\n",
       " ['tt0272178',\n",
       "  requests.exceptions.HTTPError('404 Client Error: Not Found for url: https://api.themoviedb.org/3/movie/tt0272178?api_key=9bd8d2d73ba74745aca770c997410e22')],\n",
       " ['tt0272217',\n",
       "  requests.exceptions.HTTPError('404 Client Error: Not Found for url: https://api.themoviedb.org/3/movie/tt0272217?api_key=9bd8d2d73ba74745aca770c997410e22')],\n",
       " ['tt0273678',\n",
       "  requests.exceptions.HTTPError('404 Client Error: Not Found for url: https://api.themoviedb.org/3/movie/tt0273678?api_key=9bd8d2d73ba74745aca770c997410e22')],\n",
       " ['tt0278786',\n",
       "  requests.exceptions.HTTPError('404 Client Error: Not Found for url: https://api.themoviedb.org/3/movie/tt0278786?api_key=9bd8d2d73ba74745aca770c997410e22')],\n",
       " ['tt0281849',\n",
       "  requests.exceptions.HTTPError('404 Client Error: Not Found for url: https://api.themoviedb.org/3/movie/tt0281849?api_key=9bd8d2d73ba74745aca770c997410e22')],\n",
       " ['tt0283063',\n",
       "  requests.exceptions.HTTPError('404 Client Error: Not Found for url: https://api.themoviedb.org/3/movie/tt0283063?api_key=9bd8d2d73ba74745aca770c997410e22')],\n",
       " ['tt0283560',\n",
       "  requests.exceptions.HTTPError('404 Client Error: Not Found for url: https://api.themoviedb.org/3/movie/tt0283560?api_key=9bd8d2d73ba74745aca770c997410e22')],\n",
       " ['tt0283659',\n",
       "  requests.exceptions.HTTPError('404 Client Error: Not Found for url: https://api.themoviedb.org/3/movie/tt0283659?api_key=9bd8d2d73ba74745aca770c997410e22')],\n",
       " ['tt0284982',\n",
       "  requests.exceptions.HTTPError('404 Client Error: Not Found for url: https://api.themoviedb.org/3/movie/tt0284982?api_key=9bd8d2d73ba74745aca770c997410e22')],\n",
       " ['tt0286137',\n",
       "  requests.exceptions.HTTPError('404 Client Error: Not Found for url: https://api.themoviedb.org/3/movie/tt0286137?api_key=9bd8d2d73ba74745aca770c997410e22')],\n",
       " ['tt0296898',\n",
       "  requests.exceptions.HTTPError('404 Client Error: Not Found for url: https://api.themoviedb.org/3/movie/tt0296898?api_key=9bd8d2d73ba74745aca770c997410e22')],\n",
       " ['tt0298409',\n",
       "  requests.exceptions.HTTPError('404 Client Error: Not Found for url: https://api.themoviedb.org/3/movie/tt0298409?api_key=9bd8d2d73ba74745aca770c997410e22')],\n",
       " ['tt0299007',\n",
       "  requests.exceptions.HTTPError('404 Client Error: Not Found for url: https://api.themoviedb.org/3/movie/tt0299007?api_key=9bd8d2d73ba74745aca770c997410e22')],\n",
       " ['tt0300461',\n",
       "  requests.exceptions.HTTPError('404 Client Error: Not Found for url: https://api.themoviedb.org/3/movie/tt0300461?api_key=9bd8d2d73ba74745aca770c997410e22')],\n",
       " ['tt0300630',\n",
       "  requests.exceptions.HTTPError('404 Client Error: Not Found for url: https://api.themoviedb.org/3/movie/tt0300630?api_key=9bd8d2d73ba74745aca770c997410e22')],\n",
       " ['tt0304049',\n",
       "  requests.exceptions.HTTPError('404 Client Error: Not Found for url: https://api.themoviedb.org/3/movie/tt0304049?api_key=9bd8d2d73ba74745aca770c997410e22')],\n",
       " ['tt0306856',\n",
       "  requests.exceptions.HTTPError('404 Client Error: Not Found for url: https://api.themoviedb.org/3/movie/tt0306856?api_key=9bd8d2d73ba74745aca770c997410e22')],\n",
       " ['tt0315518',\n",
       "  requests.exceptions.HTTPError('404 Client Error: Not Found for url: https://api.themoviedb.org/3/movie/tt0315518?api_key=9bd8d2d73ba74745aca770c997410e22')],\n",
       " ['tt0315624',\n",
       "  requests.exceptions.HTTPError('404 Client Error: Not Found for url: https://api.themoviedb.org/3/movie/tt0315624?api_key=9bd8d2d73ba74745aca770c997410e22')],\n",
       " ['tt0326596',\n",
       "  requests.exceptions.HTTPError('404 Client Error: Not Found for url: https://api.themoviedb.org/3/movie/tt0326596?api_key=9bd8d2d73ba74745aca770c997410e22')],\n",
       " ['tt0331160',\n",
       "  requests.exceptions.HTTPError('404 Client Error: Not Found for url: https://api.themoviedb.org/3/movie/tt0331160?api_key=9bd8d2d73ba74745aca770c997410e22')],\n",
       " ['tt0337672',\n",
       "  requests.exceptions.HTTPError('404 Client Error: Not Found for url: https://api.themoviedb.org/3/movie/tt0337672?api_key=9bd8d2d73ba74745aca770c997410e22')],\n",
       " ['tt0338093',\n",
       "  requests.exceptions.HTTPError('404 Client Error: Not Found for url: https://api.themoviedb.org/3/movie/tt0338093?api_key=9bd8d2d73ba74745aca770c997410e22')],\n",
       " ['tt0346943',\n",
       "  requests.exceptions.HTTPError('404 Client Error: Not Found for url: https://api.themoviedb.org/3/movie/tt0346943?api_key=9bd8d2d73ba74745aca770c997410e22')],\n",
       " ['tt0351346',\n",
       "  requests.exceptions.HTTPError('404 Client Error: Not Found for url: https://api.themoviedb.org/3/movie/tt0351346?api_key=9bd8d2d73ba74745aca770c997410e22')],\n",
       " ['tt0353337',\n",
       "  requests.exceptions.HTTPError('404 Client Error: Not Found for url: https://api.themoviedb.org/3/movie/tt0353337?api_key=9bd8d2d73ba74745aca770c997410e22')],\n",
       " ['tt0360467',\n",
       "  requests.exceptions.HTTPError('404 Client Error: Not Found for url: https://api.themoviedb.org/3/movie/tt0360467?api_key=9bd8d2d73ba74745aca770c997410e22')],\n",
       " ['tt0360607',\n",
       "  requests.exceptions.HTTPError('404 Client Error: Not Found for url: https://api.themoviedb.org/3/movie/tt0360607?api_key=9bd8d2d73ba74745aca770c997410e22')],\n",
       " ['tt0362989',\n",
       "  requests.exceptions.HTTPError('404 Client Error: Not Found for url: https://api.themoviedb.org/3/movie/tt0362989?api_key=9bd8d2d73ba74745aca770c997410e22')],\n",
       " ['tt0371100',\n",
       "  requests.exceptions.HTTPError('404 Client Error: Not Found for url: https://api.themoviedb.org/3/movie/tt0371100?api_key=9bd8d2d73ba74745aca770c997410e22')],\n",
       " ['tt0371701',\n",
       "  requests.exceptions.HTTPError('404 Client Error: Not Found for url: https://api.themoviedb.org/3/movie/tt0371701?api_key=9bd8d2d73ba74745aca770c997410e22')],\n",
       " ['tt0379537',\n",
       "  requests.exceptions.HTTPError('404 Client Error: Not Found for url: https://api.themoviedb.org/3/movie/tt0379537?api_key=9bd8d2d73ba74745aca770c997410e22')],\n",
       " ['tt0381615',\n",
       "  requests.exceptions.HTTPError('404 Client Error: Not Found for url: https://api.themoviedb.org/3/movie/tt0381615?api_key=9bd8d2d73ba74745aca770c997410e22')],\n",
       " ['tt0384050',\n",
       "  requests.exceptions.HTTPError('404 Client Error: Not Found for url: https://api.themoviedb.org/3/movie/tt0384050?api_key=9bd8d2d73ba74745aca770c997410e22')],\n",
       " ['tt0385845',\n",
       "  requests.exceptions.HTTPError('404 Client Error: Not Found for url: https://api.themoviedb.org/3/movie/tt0385845?api_key=9bd8d2d73ba74745aca770c997410e22')],\n",
       " ['tt0399080',\n",
       "  requests.exceptions.HTTPError('404 Client Error: Not Found for url: https://api.themoviedb.org/3/movie/tt0399080?api_key=9bd8d2d73ba74745aca770c997410e22')],\n",
       " ['tt0406230',\n",
       "  requests.exceptions.HTTPError('404 Client Error: Not Found for url: https://api.themoviedb.org/3/movie/tt0406230?api_key=9bd8d2d73ba74745aca770c997410e22')],\n",
       " ['tt0416729',\n",
       "  requests.exceptions.HTTPError('404 Client Error: Not Found for url: https://api.themoviedb.org/3/movie/tt0416729?api_key=9bd8d2d73ba74745aca770c997410e22')],\n",
       " ['tt0417166',\n",
       "  requests.exceptions.HTTPError('404 Client Error: Not Found for url: https://api.themoviedb.org/3/movie/tt0417166?api_key=9bd8d2d73ba74745aca770c997410e22')],\n",
       " ['tt0430365',\n",
       "  requests.exceptions.HTTPError('404 Client Error: Not Found for url: https://api.themoviedb.org/3/movie/tt0430365?api_key=9bd8d2d73ba74745aca770c997410e22')],\n",
       " ['tt0433557',\n",
       "  requests.exceptions.HTTPError('404 Client Error: Not Found for url: https://api.themoviedb.org/3/movie/tt0433557?api_key=9bd8d2d73ba74745aca770c997410e22')],\n",
       " ['tt0439482',\n",
       "  requests.exceptions.HTTPError('404 Client Error: Not Found for url: https://api.themoviedb.org/3/movie/tt0439482?api_key=9bd8d2d73ba74745aca770c997410e22')],\n",
       " ['tt0443738',\n",
       "  requests.exceptions.HTTPError('404 Client Error: Not Found for url: https://api.themoviedb.org/3/movie/tt0443738?api_key=9bd8d2d73ba74745aca770c997410e22')],\n",
       " ['tt0462003',\n",
       "  requests.exceptions.HTTPError('404 Client Error: Not Found for url: https://api.themoviedb.org/3/movie/tt0462003?api_key=9bd8d2d73ba74745aca770c997410e22')],\n",
       " ['tt0465507',\n",
       "  requests.exceptions.HTTPError('404 Client Error: Not Found for url: https://api.themoviedb.org/3/movie/tt0465507?api_key=9bd8d2d73ba74745aca770c997410e22')],\n",
       " ['tt0466941',\n",
       "  requests.exceptions.HTTPError('404 Client Error: Not Found for url: https://api.themoviedb.org/3/movie/tt0466941?api_key=9bd8d2d73ba74745aca770c997410e22')],\n",
       " ['tt0467669',\n",
       "  requests.exceptions.HTTPError('404 Client Error: Not Found for url: https://api.themoviedb.org/3/movie/tt0467669?api_key=9bd8d2d73ba74745aca770c997410e22')],\n",
       " ['tt0482120',\n",
       "  requests.exceptions.HTTPError('404 Client Error: Not Found for url: https://api.themoviedb.org/3/movie/tt0482120?api_key=9bd8d2d73ba74745aca770c997410e22')],\n",
       " ['tt0760238',\n",
       "  requests.exceptions.HTTPError('404 Client Error: Not Found for url: https://api.themoviedb.org/3/movie/tt0760238?api_key=9bd8d2d73ba74745aca770c997410e22')],\n",
       " ['tt0784810',\n",
       "  requests.exceptions.HTTPError('404 Client Error: Not Found for url: https://api.themoviedb.org/3/movie/tt0784810?api_key=9bd8d2d73ba74745aca770c997410e22')],\n",
       " ['tt0788084',\n",
       "  requests.exceptions.HTTPError('404 Client Error: Not Found for url: https://api.themoviedb.org/3/movie/tt0788084?api_key=9bd8d2d73ba74745aca770c997410e22')],\n",
       " ['tt0810396',\n",
       "  requests.exceptions.HTTPError('404 Client Error: Not Found for url: https://api.themoviedb.org/3/movie/tt0810396?api_key=9bd8d2d73ba74745aca770c997410e22')],\n",
       " ['tt0818765',\n",
       "  requests.exceptions.HTTPError('404 Client Error: Not Found for url: https://api.themoviedb.org/3/movie/tt0818765?api_key=9bd8d2d73ba74745aca770c997410e22')],\n",
       " ['tt0831861',\n",
       "  requests.exceptions.HTTPError('404 Client Error: Not Found for url: https://api.themoviedb.org/3/movie/tt0831861?api_key=9bd8d2d73ba74745aca770c997410e22')],\n",
       " ['tt0845559',\n",
       "  requests.exceptions.HTTPError('404 Client Error: Not Found for url: https://api.themoviedb.org/3/movie/tt0845559?api_key=9bd8d2d73ba74745aca770c997410e22')],\n",
       " ['tt0861695',\n",
       "  requests.exceptions.HTTPError('404 Client Error: Not Found for url: https://api.themoviedb.org/3/movie/tt0861695?api_key=9bd8d2d73ba74745aca770c997410e22')],\n",
       " ['tt0875041',\n",
       "  requests.exceptions.HTTPError('404 Client Error: Not Found for url: https://api.themoviedb.org/3/movie/tt0875041?api_key=9bd8d2d73ba74745aca770c997410e22')],\n",
       " ['tt0878146',\n",
       "  requests.exceptions.HTTPError('404 Client Error: Not Found for url: https://api.themoviedb.org/3/movie/tt0878146?api_key=9bd8d2d73ba74745aca770c997410e22')],\n",
       " ['tt0929287',\n",
       "  requests.exceptions.HTTPError('404 Client Error: Not Found for url: https://api.themoviedb.org/3/movie/tt0929287?api_key=9bd8d2d73ba74745aca770c997410e22')],\n",
       " ['tt0949325',\n",
       "  requests.exceptions.HTTPError('404 Client Error: Not Found for url: https://api.themoviedb.org/3/movie/tt0949325?api_key=9bd8d2d73ba74745aca770c997410e22')],\n",
       " ['tt1047822',\n",
       "  requests.exceptions.HTTPError('404 Client Error: Not Found for url: https://api.themoviedb.org/3/movie/tt1047822?api_key=9bd8d2d73ba74745aca770c997410e22')],\n",
       " ['tt1080616',\n",
       "  requests.exceptions.HTTPError('404 Client Error: Not Found for url: https://api.themoviedb.org/3/movie/tt1080616?api_key=9bd8d2d73ba74745aca770c997410e22')],\n",
       " ['tt10919590',\n",
       "  requests.exceptions.HTTPError('404 Client Error: Not Found for url: https://api.themoviedb.org/3/movie/tt10919590?api_key=9bd8d2d73ba74745aca770c997410e22')],\n",
       " ['tt10978642',\n",
       "  requests.exceptions.HTTPError('404 Client Error: Not Found for url: https://api.themoviedb.org/3/movie/tt10978642?api_key=9bd8d2d73ba74745aca770c997410e22')],\n",
       " ['tt11280700',\n",
       "  requests.exceptions.HTTPError('404 Client Error: Not Found for url: https://api.themoviedb.org/3/movie/tt11280700?api_key=9bd8d2d73ba74745aca770c997410e22')],\n",
       " ['tt11371946',\n",
       "  requests.exceptions.HTTPError('404 Client Error: Not Found for url: https://api.themoviedb.org/3/movie/tt11371946?api_key=9bd8d2d73ba74745aca770c997410e22')],\n",
       " ['tt11528758',\n",
       "  requests.exceptions.HTTPError('404 Client Error: Not Found for url: https://api.themoviedb.org/3/movie/tt11528758?api_key=9bd8d2d73ba74745aca770c997410e22')],\n",
       " ['tt11728532',\n",
       "  requests.exceptions.HTTPError('404 Client Error: Not Found for url: https://api.themoviedb.org/3/movie/tt11728532?api_key=9bd8d2d73ba74745aca770c997410e22')],\n",
       " ['tt12165980',\n",
       "  requests.exceptions.HTTPError('404 Client Error: Not Found for url: https://api.themoviedb.org/3/movie/tt12165980?api_key=9bd8d2d73ba74745aca770c997410e22')],\n",
       " ['tt1220905',\n",
       "  requests.exceptions.HTTPError('404 Client Error: Not Found for url: https://api.themoviedb.org/3/movie/tt1220905?api_key=9bd8d2d73ba74745aca770c997410e22')],\n",
       " ['tt1339184',\n",
       "  requests.exceptions.HTTPError('404 Client Error: Not Found for url: https://api.themoviedb.org/3/movie/tt1339184?api_key=9bd8d2d73ba74745aca770c997410e22')],\n",
       " ['tt14380178',\n",
       "  requests.exceptions.HTTPError('404 Client Error: Not Found for url: https://api.themoviedb.org/3/movie/tt14380178?api_key=9bd8d2d73ba74745aca770c997410e22')],\n",
       " ['tt14437324',\n",
       "  requests.exceptions.HTTPError('404 Client Error: Not Found for url: https://api.themoviedb.org/3/movie/tt14437324?api_key=9bd8d2d73ba74745aca770c997410e22')],\n",
       " ['tt1455183',\n",
       "  requests.exceptions.HTTPError('404 Client Error: Not Found for url: https://api.themoviedb.org/3/movie/tt1455183?api_key=9bd8d2d73ba74745aca770c997410e22')],\n",
       " ['tt14655728',\n",
       "  requests.exceptions.HTTPError('404 Client Error: Not Found for url: https://api.themoviedb.org/3/movie/tt14655728?api_key=9bd8d2d73ba74745aca770c997410e22')],\n",
       " ['tt14788120',\n",
       "  requests.exceptions.HTTPError('404 Client Error: Not Found for url: https://api.themoviedb.org/3/movie/tt14788120?api_key=9bd8d2d73ba74745aca770c997410e22')],\n",
       " ['tt1486629',\n",
       "  requests.exceptions.HTTPError('404 Client Error: Not Found for url: https://api.themoviedb.org/3/movie/tt1486629?api_key=9bd8d2d73ba74745aca770c997410e22')],\n",
       " ['tt14946848',\n",
       "  requests.exceptions.HTTPError('404 Client Error: Not Found for url: https://api.themoviedb.org/3/movie/tt14946848?api_key=9bd8d2d73ba74745aca770c997410e22')],\n",
       " ['tt1533109',\n",
       "  requests.exceptions.HTTPError('404 Client Error: Not Found for url: https://api.themoviedb.org/3/movie/tt1533109?api_key=9bd8d2d73ba74745aca770c997410e22')],\n",
       " ['tt16390104',\n",
       "  requests.exceptions.HTTPError('404 Client Error: Not Found for url: https://api.themoviedb.org/3/movie/tt16390104?api_key=9bd8d2d73ba74745aca770c997410e22')],\n",
       " ['tt1781064',\n",
       "  requests.exceptions.HTTPError('404 Client Error: Not Found for url: https://api.themoviedb.org/3/movie/tt1781064?api_key=9bd8d2d73ba74745aca770c997410e22')],\n",
       " ['tt1782532',\n",
       "  requests.exceptions.HTTPError('404 Client Error: Not Found for url: https://api.themoviedb.org/3/movie/tt1782532?api_key=9bd8d2d73ba74745aca770c997410e22')],\n",
       " ['tt1796494',\n",
       "  requests.exceptions.HTTPError('404 Client Error: Not Found for url: https://api.themoviedb.org/3/movie/tt1796494?api_key=9bd8d2d73ba74745aca770c997410e22')],\n",
       " ['tt1810686',\n",
       "  requests.exceptions.HTTPError('404 Client Error: Not Found for url: https://api.themoviedb.org/3/movie/tt1810686?api_key=9bd8d2d73ba74745aca770c997410e22')],\n",
       " ['tt1822282',\n",
       "  requests.exceptions.HTTPError('404 Client Error: Not Found for url: https://api.themoviedb.org/3/movie/tt1822282?api_key=9bd8d2d73ba74745aca770c997410e22')],\n",
       " ['tt1838443',\n",
       "  requests.exceptions.HTTPError('404 Client Error: Not Found for url: https://api.themoviedb.org/3/movie/tt1838443?api_key=9bd8d2d73ba74745aca770c997410e22')],\n",
       " ['tt1841475',\n",
       "  requests.exceptions.HTTPError('404 Client Error: Not Found for url: https://api.themoviedb.org/3/movie/tt1841475?api_key=9bd8d2d73ba74745aca770c997410e22')],\n",
       " ['tt1872789',\n",
       "  requests.exceptions.HTTPError('404 Client Error: Not Found for url: https://api.themoviedb.org/3/movie/tt1872789?api_key=9bd8d2d73ba74745aca770c997410e22')],\n",
       " ['tt20196270',\n",
       "  requests.exceptions.HTTPError('404 Client Error: Not Found for url: https://api.themoviedb.org/3/movie/tt20196270?api_key=9bd8d2d73ba74745aca770c997410e22')],\n",
       " ['tt2022490',\n",
       "  requests.exceptions.HTTPError('404 Client Error: Not Found for url: https://api.themoviedb.org/3/movie/tt2022490?api_key=9bd8d2d73ba74745aca770c997410e22')],\n",
       " ['tt21229186',\n",
       "  requests.exceptions.HTTPError('404 Client Error: Not Found for url: https://api.themoviedb.org/3/movie/tt21229186?api_key=9bd8d2d73ba74745aca770c997410e22')],\n",
       " ['tt2123167',\n",
       "  requests.exceptions.HTTPError('404 Client Error: Not Found for url: https://api.themoviedb.org/3/movie/tt2123167?api_key=9bd8d2d73ba74745aca770c997410e22')],\n",
       " ['tt21879656',\n",
       "  requests.exceptions.HTTPError('404 Client Error: Not Found for url: https://api.themoviedb.org/3/movie/tt21879656?api_key=9bd8d2d73ba74745aca770c997410e22')],\n",
       " ['tt2230266',\n",
       "  requests.exceptions.HTTPError('404 Client Error: Not Found for url: https://api.themoviedb.org/3/movie/tt2230266?api_key=9bd8d2d73ba74745aca770c997410e22')],\n",
       " ['tt2234101',\n",
       "  requests.exceptions.HTTPError('404 Client Error: Not Found for url: https://api.themoviedb.org/3/movie/tt2234101?api_key=9bd8d2d73ba74745aca770c997410e22')],\n",
       " ['tt22394212',\n",
       "  requests.exceptions.HTTPError('404 Client Error: Not Found for url: https://api.themoviedb.org/3/movie/tt22394212?api_key=9bd8d2d73ba74745aca770c997410e22')],\n",
       " ['tt2254215',\n",
       "  requests.exceptions.HTTPError('404 Client Error: Not Found for url: https://api.themoviedb.org/3/movie/tt2254215?api_key=9bd8d2d73ba74745aca770c997410e22')],\n",
       " ['tt2301153',\n",
       "  requests.exceptions.HTTPError('404 Client Error: Not Found for url: https://api.themoviedb.org/3/movie/tt2301153?api_key=9bd8d2d73ba74745aca770c997410e22')],\n",
       " ['tt23954064',\n",
       "  requests.exceptions.HTTPError('404 Client Error: Not Found for url: https://api.themoviedb.org/3/movie/tt23954064?api_key=9bd8d2d73ba74745aca770c997410e22')],\n",
       " ['tt2456878',\n",
       "  requests.exceptions.HTTPError('404 Client Error: Not Found for url: https://api.themoviedb.org/3/movie/tt2456878?api_key=9bd8d2d73ba74745aca770c997410e22')],\n",
       " ['tt26242668',\n",
       "  requests.exceptions.HTTPError('404 Client Error: Not Found for url: https://api.themoviedb.org/3/movie/tt26242668?api_key=9bd8d2d73ba74745aca770c997410e22')],\n",
       " ['tt2646360',\n",
       "  requests.exceptions.HTTPError('404 Client Error: Not Found for url: https://api.themoviedb.org/3/movie/tt2646360?api_key=9bd8d2d73ba74745aca770c997410e22')],\n",
       " ['tt26895604',\n",
       "  requests.exceptions.HTTPError('404 Client Error: Not Found for url: https://api.themoviedb.org/3/movie/tt26895604?api_key=9bd8d2d73ba74745aca770c997410e22')],\n",
       " ['tt2996396',\n",
       "  requests.exceptions.HTTPError('404 Client Error: Not Found for url: https://api.themoviedb.org/3/movie/tt2996396?api_key=9bd8d2d73ba74745aca770c997410e22')],\n",
       " ['tt3344374',\n",
       "  requests.exceptions.HTTPError('404 Client Error: Not Found for url: https://api.themoviedb.org/3/movie/tt3344374?api_key=9bd8d2d73ba74745aca770c997410e22')],\n",
       " ['tt3560694',\n",
       "  requests.exceptions.HTTPError('404 Client Error: Not Found for url: https://api.themoviedb.org/3/movie/tt3560694?api_key=9bd8d2d73ba74745aca770c997410e22')],\n",
       " ['tt4138306',\n",
       "  requests.exceptions.HTTPError('404 Client Error: Not Found for url: https://api.themoviedb.org/3/movie/tt4138306?api_key=9bd8d2d73ba74745aca770c997410e22')],\n",
       " ['tt4143626',\n",
       "  requests.exceptions.HTTPError('404 Client Error: Not Found for url: https://api.themoviedb.org/3/movie/tt4143626?api_key=9bd8d2d73ba74745aca770c997410e22')],\n",
       " ['tt4216730',\n",
       "  requests.exceptions.HTTPError('404 Client Error: Not Found for url: https://api.themoviedb.org/3/movie/tt4216730?api_key=9bd8d2d73ba74745aca770c997410e22')],\n",
       " ['tt4930102',\n",
       "  requests.exceptions.HTTPError('404 Client Error: Not Found for url: https://api.themoviedb.org/3/movie/tt4930102?api_key=9bd8d2d73ba74745aca770c997410e22')],\n",
       " ['tt5543552',\n",
       "  requests.exceptions.HTTPError('404 Client Error: Not Found for url: https://api.themoviedb.org/3/movie/tt5543552?api_key=9bd8d2d73ba74745aca770c997410e22')],\n",
       " ['tt5622410',\n",
       "  requests.exceptions.HTTPError('404 Client Error: Not Found for url: https://api.themoviedb.org/3/movie/tt5622410?api_key=9bd8d2d73ba74745aca770c997410e22')],\n",
       " ['tt5946826',\n",
       "  requests.exceptions.HTTPError('404 Client Error: Not Found for url: https://api.themoviedb.org/3/movie/tt5946826?api_key=9bd8d2d73ba74745aca770c997410e22')],\n",
       " ['tt6246780',\n",
       "  requests.exceptions.HTTPError('404 Client Error: Not Found for url: https://api.themoviedb.org/3/movie/tt6246780?api_key=9bd8d2d73ba74745aca770c997410e22')],\n",
       " ['tt6257730',\n",
       "  requests.exceptions.HTTPError('404 Client Error: Not Found for url: https://api.themoviedb.org/3/movie/tt6257730?api_key=9bd8d2d73ba74745aca770c997410e22')],\n",
       " ['tt6748776',\n",
       "  requests.exceptions.HTTPError('404 Client Error: Not Found for url: https://api.themoviedb.org/3/movie/tt6748776?api_key=9bd8d2d73ba74745aca770c997410e22')],\n",
       " ['tt6950956',\n",
       "  requests.exceptions.HTTPError('404 Client Error: Not Found for url: https://api.themoviedb.org/3/movie/tt6950956?api_key=9bd8d2d73ba74745aca770c997410e22')],\n",
       " ['tt7513020',\n",
       "  requests.exceptions.HTTPError('404 Client Error: Not Found for url: https://api.themoviedb.org/3/movie/tt7513020?api_key=9bd8d2d73ba74745aca770c997410e22')],\n",
       " ['tt7514772',\n",
       "  requests.exceptions.HTTPError('404 Client Error: Not Found for url: https://api.themoviedb.org/3/movie/tt7514772?api_key=9bd8d2d73ba74745aca770c997410e22')],\n",
       " ['tt7550322',\n",
       "  requests.exceptions.HTTPError('404 Client Error: Not Found for url: https://api.themoviedb.org/3/movie/tt7550322?api_key=9bd8d2d73ba74745aca770c997410e22')],\n",
       " ['tt7631344',\n",
       "  requests.exceptions.HTTPError('404 Client Error: Not Found for url: https://api.themoviedb.org/3/movie/tt7631344?api_key=9bd8d2d73ba74745aca770c997410e22')],\n",
       " ['tt7891396',\n",
       "  requests.exceptions.HTTPError('404 Client Error: Not Found for url: https://api.themoviedb.org/3/movie/tt7891396?api_key=9bd8d2d73ba74745aca770c997410e22')],\n",
       " ['tt8327752',\n",
       "  requests.exceptions.HTTPError('404 Client Error: Not Found for url: https://api.themoviedb.org/3/movie/tt8327752?api_key=9bd8d2d73ba74745aca770c997410e22')],\n",
       " ['tt8553964',\n",
       "  requests.exceptions.HTTPError('404 Client Error: Not Found for url: https://api.themoviedb.org/3/movie/tt8553964?api_key=9bd8d2d73ba74745aca770c997410e22')],\n",
       " ['tt8907070',\n",
       "  requests.exceptions.HTTPError('404 Client Error: Not Found for url: https://api.themoviedb.org/3/movie/tt8907070?api_key=9bd8d2d73ba74745aca770c997410e22')],\n",
       " ['tt8954964',\n",
       "  requests.exceptions.HTTPError('404 Client Error: Not Found for url: https://api.themoviedb.org/3/movie/tt8954964?api_key=9bd8d2d73ba74745aca770c997410e22')],\n",
       " ['tt9412476',\n",
       "  requests.exceptions.HTTPError('404 Client Error: Not Found for url: https://api.themoviedb.org/3/movie/tt9412476?api_key=9bd8d2d73ba74745aca770c997410e22')]]"
      ]
     },
     "execution_count": 43,
     "metadata": {},
     "output_type": "execute_result"
    }
   ],
   "source": [
    "# Print number of movie IDs that caused an error\n",
    "print(f\"- Total errors: {len(errors)}\")\n",
    "errors"
   ]
  },
  {
   "cell_type": "code",
   "execution_count": 44,
   "id": "f3b11709",
   "metadata": {},
   "outputs": [],
   "source": [
    "# Compress error results into csv for each year\n",
    "error_year_df = pd.DataFrame(errors)\n",
    "error_year_df.to_csv(f\"{FOLDER}error_file.csv\", index = False)"
   ]
  },
  {
   "cell_type": "code",
   "execution_count": null,
   "id": "68ad9c28",
   "metadata": {},
   "outputs": [],
   "source": []
  }
 ],
 "metadata": {
  "kernelspec": {
   "display_name": "Python (dojo-env)",
   "language": "python",
   "name": "dojo-env"
  },
  "language_info": {
   "codemirror_mode": {
    "name": "ipython",
    "version": 3
   },
   "file_extension": ".py",
   "mimetype": "text/x-python",
   "name": "python",
   "nbconvert_exporter": "python",
   "pygments_lexer": "ipython3",
   "version": "3.9.15"
  },
  "toc": {
   "base_numbering": 1,
   "nav_menu": {},
   "number_sections": false,
   "sideBar": true,
   "skip_h1_title": false,
   "title_cell": "Table of Contents",
   "title_sidebar": "Contents",
   "toc_cell": false,
   "toc_position": {
    "height": "calc(100% - 180px)",
    "left": "10px",
    "top": "150px",
    "width": "165px"
   },
   "toc_section_display": true,
   "toc_window_display": true
  }
 },
 "nbformat": 4,
 "nbformat_minor": 5
}
